{
 "cells": [
  {
   "cell_type": "code",
   "execution_count": 1,
   "metadata": {},
   "outputs": [],
   "source": [
    "import sys\n",
    "sys.path.append(\"../set-generation\")\n",
    "import csv\n",
    "import json\n",
    "import numpy as np\n",
    "import numba\n",
    "import color_conversions"
   ]
  },
  {
   "cell_type": "code",
   "execution_count": 2,
   "metadata": {},
   "outputs": [],
   "source": [
    "ALL_NUM_COLORS = [6, 8, 10]"
   ]
  },
  {
   "cell_type": "code",
   "execution_count": 3,
   "metadata": {},
   "outputs": [],
   "source": [
    "def to_rgb(color):\n",
    "    \"\"\"\n",
    "    Convert hex color code (without `#`) to sRGB255.\n",
    "    \"\"\"\n",
    "    return np.array([(int(i[:2], 16), int(i[2:4], 16), int(i[4:], 16)) for i in color])"
   ]
  },
  {
   "cell_type": "code",
   "execution_count": 4,
   "metadata": {},
   "outputs": [],
   "source": [
    "@numba.njit\n",
    "def calc_min_dists(rgb):\n",
    "    \"\"\"Calculate min delta E for each set.\"\"\"\n",
    "    nc = rgb.shape[1]\n",
    "    min_dists = []\n",
    "    rgb_linear = color_conversions.sRGB1_to_sRGB1_linear(rgb.flatten()).reshape(\n",
    "        rgb.shape\n",
    "    )\n",
    "    for c in range(rgb_linear.shape[0]):\n",
    "        min_dist = 100\n",
    "        for i in range(1, nc):\n",
    "            for severity in range(1, 101):\n",
    "                jab1 = color_conversions.rgb_linear_to_jab(rgb_linear[c, i])\n",
    "                deut1 = color_conversions.rgb_linear_to_jab(\n",
    "                    color_conversions.CVD_forward_deuteranomaly(\n",
    "                        rgb_linear[c, i], severity\n",
    "                    )\n",
    "                )\n",
    "                prot1 = color_conversions.rgb_linear_to_jab(\n",
    "                    color_conversions.CVD_forward_protanomaly(\n",
    "                        rgb_linear[c, i], severity\n",
    "                    )\n",
    "                )\n",
    "                trit1 = color_conversions.rgb_linear_to_jab(\n",
    "                    color_conversions.CVD_forward_tritanomaly(\n",
    "                        rgb_linear[c, i], severity\n",
    "                    )\n",
    "                )\n",
    "                for j in range(i):\n",
    "                    jab2 = color_conversions.rgb_linear_to_jab(rgb_linear[c, j])\n",
    "                    deut2 = color_conversions.rgb_linear_to_jab(\n",
    "                        color_conversions.CVD_forward_deuteranomaly(\n",
    "                            rgb_linear[c, j], severity\n",
    "                        )\n",
    "                    )\n",
    "                    prot2 = color_conversions.rgb_linear_to_jab(\n",
    "                        color_conversions.CVD_forward_protanomaly(\n",
    "                            rgb_linear[c, j], severity\n",
    "                        )\n",
    "                    )\n",
    "                    trit2 = color_conversions.rgb_linear_to_jab(\n",
    "                        color_conversions.CVD_forward_tritanomaly(\n",
    "                            rgb_linear[c, j], severity\n",
    "                        )\n",
    "                    )\n",
    "                    min_dist = min(min_dist, color_conversions.cam02de(jab1, jab2))\n",
    "                    min_dist = min(min_dist, color_conversions.cam02de(deut1, deut2))\n",
    "                    min_dist = min(min_dist, color_conversions.cam02de(prot1, prot2))\n",
    "                    min_dist = min(min_dist, color_conversions.cam02de(trit1, trit2))\n",
    "        min_dists.append(min_dist)\n",
    "    return min_dists"
   ]
  },
  {
   "cell_type": "markdown",
   "metadata": {},
   "source": [
    "## With original lightness constraints"
   ]
  },
  {
   "cell_type": "code",
   "execution_count": 5,
   "metadata": {},
   "outputs": [],
   "source": [
    "COLOR_FILE = {\n",
    "    6: \"../survey/color-sets/colors_mcd20_mld2_nc6_cvd100_minj40_maxj90_ns10000.txt\",\n",
    "    8: \"../survey/color-sets/colors_mcd18_mld2_nc8_cvd100_minj40_maxj90_ns10000.txt\",\n",
    "    10: \"../survey/color-sets/colors_mcd16_mld2_nc10_cvd100_minj40_maxj90_ns10000.txt\",\n",
    "}"
   ]
  },
  {
   "cell_type": "code",
   "execution_count": 6,
   "metadata": {},
   "outputs": [],
   "source": [
    "# Load color data\n",
    "colors_rgb = {}\n",
    "for num_colors in ALL_NUM_COLORS:\n",
    "    with open(COLOR_FILE[num_colors]) as csv_file:\n",
    "        # Skip header rows\n",
    "        csv_file.readline()\n",
    "        csv_file.readline()\n",
    "        csv_file.readline()\n",
    "        csv_reader = csv.reader(csv_file, delimiter=\" \")\n",
    "        colors_hex = np.array([[i.strip() for i in row] for row in csv_reader])\n",
    "        colors_rgb[num_colors] = np.array([to_rgb(i) for i in colors_hex]) / 255"
   ]
  },
  {
   "cell_type": "code",
   "execution_count": 7,
   "metadata": {},
   "outputs": [],
   "source": [
    "min_dists = {nc: np.array(calc_min_dists(colors_rgb[nc])) for nc in ALL_NUM_COLORS}"
   ]
  },
  {
   "cell_type": "code",
   "execution_count": 8,
   "metadata": {},
   "outputs": [
    {
     "name": "stdout",
     "output_type": "stream",
     "text": [
      "maximum minimum-color distances:\n",
      " 6: 24.3 [9764]\n",
      " 8: 20.2 [1811]\n",
      "10: 18.0 [6391]\n"
     ]
    }
   ],
   "source": [
    "print(\"maximum minimum-color distances:\")\n",
    "for nc in ALL_NUM_COLORS:\n",
    "    print(f\"{nc:2d}: {np.max(min_dists[nc]):.1f} [{np.argmax(min_dists[nc]):04d}]\")"
   ]
  },
  {
   "cell_type": "code",
   "execution_count": 9,
   "metadata": {},
   "outputs": [
    {
     "name": "stdout",
     "output_type": "stream",
     "text": [
      "mean minimum-color distances:\n",
      " 6: 20.5\n",
      " 8: 18.2\n",
      "10: 16.1\n"
     ]
    }
   ],
   "source": [
    "print(\"mean minimum-color distances:\")\n",
    "for nc in ALL_NUM_COLORS:\n",
    "    print(f\"{nc:2d}: {np.mean(min_dists[nc]):.1f}\")"
   ]
  },
  {
   "cell_type": "markdown",
   "metadata": {},
   "source": [
    "## With tighter lightness constraints"
   ]
  },
  {
   "cell_type": "code",
   "execution_count": 10,
   "metadata": {},
   "outputs": [],
   "source": [
    "COLOR_FILE = {\n",
    "    6: \"../set-generation/colors_mcd20.0_mld5.0_nc6_cvd100_minj40_maxj80_ns10000_f.txt\",\n",
    "    8: \"../set-generation/colors_mcd18.0_mld4.2_nc8_cvd100_minj40_maxj82_ns10000_f.txt\",\n",
    "    10: \"../set-generation/colors_mcd16.0_mld3.6_nc10_cvd100_minj40_maxj84_ns10000_f.txt\",\n",
    "}"
   ]
  },
  {
   "cell_type": "code",
   "execution_count": 11,
   "metadata": {},
   "outputs": [],
   "source": [
    "# Load color data\n",
    "colors_rgb = {}\n",
    "colors_hex = {}\n",
    "for num_colors in ALL_NUM_COLORS:\n",
    "    with open(COLOR_FILE[num_colors]) as csv_file:\n",
    "        # Skip header rows\n",
    "        csv_file.readline()\n",
    "        csv_file.readline()\n",
    "        csv_file.readline()\n",
    "        csv_reader = csv.reader(csv_file, delimiter=\" \")\n",
    "        colors_hex[num_colors] = np.array(\n",
    "            [[i.strip() for i in row] for row in csv_reader]\n",
    "        )\n",
    "        colors_rgb[num_colors] = (\n",
    "            np.array([to_rgb(i) for i in colors_hex[num_colors]]) / 255\n",
    "        )"
   ]
  },
  {
   "cell_type": "code",
   "execution_count": 12,
   "metadata": {},
   "outputs": [],
   "source": [
    "min_dists = {nc: np.array(calc_min_dists(colors_rgb[nc])) for nc in ALL_NUM_COLORS}"
   ]
  },
  {
   "cell_type": "code",
   "execution_count": 13,
   "metadata": {},
   "outputs": [
    {
     "name": "stdout",
     "output_type": "stream",
     "text": [
      "maximum minimum-color distances:\n",
      " 6: 23.6 [5793]\n",
      " 8: 19.6 [9802]\n",
      "10: 16.9 [4964]\n"
     ]
    }
   ],
   "source": [
    "print(\"maximum minimum-color distances:\")\n",
    "max_min_dist_sets = {}\n",
    "for nc in ALL_NUM_COLORS:\n",
    "    max_min_dist_sets[nc] = list(colors_hex[nc][np.argmax(min_dists[nc])])\n",
    "    print(f\"{nc:2d}: {np.max(min_dists[nc]):.1f} [{np.argmax(min_dists[nc]):04d}]\")"
   ]
  },
  {
   "cell_type": "code",
   "execution_count": 14,
   "metadata": {},
   "outputs": [
    {
     "name": "stdout",
     "output_type": "stream",
     "text": [
      "mean minimum-color distances:\n",
      " 6: 20.3\n",
      " 8: 18.1\n",
      "10: 16.1\n"
     ]
    }
   ],
   "source": [
    "print(\"mean minimum-color distances:\")\n",
    "for nc in ALL_NUM_COLORS:\n",
    "    print(f\"{nc:2d}: {np.mean(min_dists[nc]):.1f}\")"
   ]
  },
  {
   "cell_type": "code",
   "execution_count": 15,
   "metadata": {},
   "outputs": [],
   "source": [
    "with open(\"max-min-dist-sets.json\", \"w\") as outfile:\n",
    "    json.dump(max_min_dist_sets, outfile)"
   ]
  }
 ],
 "metadata": {
  "kernelspec": {
   "display_name": "Python 3",
   "language": "python",
   "name": "python3"
  },
  "language_info": {
   "codemirror_mode": {
    "name": "ipython",
    "version": 3
   },
   "file_extension": ".py",
   "mimetype": "text/x-python",
   "name": "python",
   "nbconvert_exporter": "python",
   "pygments_lexer": "ipython3",
   "version": "3.6.9"
  }
 },
 "nbformat": 4,
 "nbformat_minor": 4
}
