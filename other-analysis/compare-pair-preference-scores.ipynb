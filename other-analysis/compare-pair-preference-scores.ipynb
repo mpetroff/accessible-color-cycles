{
 "cells": [
  {
   "cell_type": "code",
   "execution_count": 1,
   "metadata": {},
   "outputs": [],
   "source": [
    "from __future__ import print_function\n",
    "import sqlite3\n",
    "import numpy as np\n",
    "import model.model\n",
    "import model.util"
   ]
  },
  {
   "cell_type": "code",
   "execution_count": 2,
   "metadata": {},
   "outputs": [],
   "source": [
    "ALL_NUM_COLORS = [6, 8, 10]\n",
    "DB_FILE = \"/home/petroff/notebooks/ccs-analysis/results.db\""
   ]
  },
  {
   "cell_type": "code",
   "execution_count": 3,
   "metadata": {},
   "outputs": [],
   "source": [
    "m = model.model.Model()"
   ]
  },
  {
   "cell_type": "code",
   "execution_count": 4,
   "metadata": {},
   "outputs": [],
   "source": [
    "def to_lab(color):\n",
    "    \"\"\"\n",
    "    Convert hex color code (without `#`) to rounded LAB.\n",
    "    \"\"\"\n",
    "    rgb = [(int(i[:2], 16), int(i[2:4], 16), int(i[4:], 16)) for i in color]\n",
    "    lab = [[int(5 * round(float(i)/5)) for i in model.util.convert.convertRGBToLab(c)] for c in rgb]\n",
    "    return np.array(lab)"
   ]
  },
  {
   "cell_type": "code",
   "execution_count": 5,
   "metadata": {},
   "outputs": [
    {
     "name": "stdout",
     "output_type": "stream",
     "text": [
      "6 10347\n",
      "8 10371\n",
      "10 1705\n"
     ]
    }
   ],
   "source": [
    "# Load survey data\n",
    "data_lab = {}\n",
    "targets = {}\n",
    "min_count = 1e10\n",
    "\n",
    "conn = sqlite3.connect(DB_FILE)\n",
    "c = conn.cursor()\n",
    "\n",
    "for num_colors in ALL_NUM_COLORS:\n",
    "    count = 0\n",
    "    data_lab[num_colors] = []\n",
    "    targets[num_colors] = []\n",
    "    for row in c.execute(\n",
    "        \"SELECT c1, c2, sp FROM picks WHERE length(c1) = {}\".format(num_colors * 7 - 1)\n",
    "    ):\n",
    "        count += 1\n",
    "        # Convert to Jab [CAM02-UCS based]\n",
    "        lab1 = to_lab(row[0].split(\",\"))\n",
    "        lab2 = to_lab(row[1].split(\",\"))\n",
    "        # Add to data arrays\n",
    "        data_lab[num_colors].append(np.array((lab1, lab2)))\n",
    "        targets[num_colors].append(row[2] - 1)\n",
    "    data_lab[num_colors] = np.array(data_lab[num_colors])\n",
    "    targets[num_colors] = np.array(targets[num_colors])\n",
    "    min_count = min(min_count, count)\n",
    "    print(num_colors, count)\n",
    "\n",
    "conn.close()"
   ]
  },
  {
   "cell_type": "code",
   "execution_count": 13,
   "metadata": {},
   "outputs": [
    {
     "name": "stdout",
     "output_type": "stream",
     "text": [
      "min 6 0.498\n",
      "mean 6 0.524\n",
      "min 8 0.492\n",
      "mean 8 0.527\n",
      "min 10 0.501\n",
      "mean 10 0.544\n",
      "min total 0.496\n",
      "mean total 0.527\n"
     ]
    }
   ],
   "source": [
    "# Calculate pair preference scores and check accuracy\n",
    "score_comp_min_total = []\n",
    "score_comp_mean_total = []\n",
    "for nc in ALL_NUM_COLORS:\n",
    "    score_comp_min = []\n",
    "    score_comp_mean = []\n",
    "    for i in range(data_lab[nc].shape[0]):\n",
    "        score1 = m.scorePalette(data_lab[nc][i, 0])\n",
    "        score2 = m.scorePalette(data_lab[nc][i, 1])\n",
    "        pp1 = score1['minScores']['pp']\n",
    "        pp2 = score2['minScores']['pp']\n",
    "        score_comp_min.append(pp1 > pp2)\n",
    "        pp1 = np.mean(np.array(score1['scores'])[:, 2])\n",
    "        pp1 = np.mean(np.array(score2['scores'])[:, 2])\n",
    "        score_comp_mean.append(pp1 > pp2)\n",
    "    print(\"min\", nc, \"{:.3f}\".format(np.mean(np.array(score_comp_min) ^ targets[nc])))\n",
    "    print(\"mean\", nc, \"{:.3f}\".format(np.mean(np.array(score_comp_mean) ^ targets[nc])))\n",
    "    score_comp_min_total += score_comp_min\n",
    "    score_comp_mean_total += score_comp_mean\n",
    "total_targets = np.concatenate((targets[6], targets[8], targets[10]))\n",
    "print(\"min total {:.3f}\".format(np.mean(np.array(score_comp_min_total) ^ total_targets)))\n",
    "print(\"mean total {:.3f}\".format(np.mean(np.array(score_comp_mean_total) ^ total_targets)))"
   ]
  },
  {
   "cell_type": "code",
   "execution_count": null,
   "metadata": {},
   "outputs": [],
   "source": []
  }
 ],
 "metadata": {
  "kernelspec": {
   "display_name": "Python 2 (Anaconda)",
   "language": "python",
   "name": "python2-anaconda"
  },
  "language_info": {
   "codemirror_mode": {
    "name": "ipython",
    "version": 2
   },
   "file_extension": ".py",
   "mimetype": "text/x-python",
   "name": "python",
   "nbconvert_exporter": "python",
   "pygments_lexer": "ipython2",
   "version": "2.7.16"
  }
 },
 "nbformat": 4,
 "nbformat_minor": 4
}
