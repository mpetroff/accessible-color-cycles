{
 "cells": [
  {
   "cell_type": "code",
   "execution_count": 1,
   "metadata": {},
   "outputs": [],
   "source": [
    "import sqlite3\n",
    "import numpy as np\n",
    "import colorspacious\n",
    "from sklearn import linear_model"
   ]
  },
  {
   "cell_type": "code",
   "execution_count": 2,
   "metadata": {},
   "outputs": [],
   "source": [
    "ALL_NUM_COLORS = [6, 8, 10]\n",
    "DB_FILE = \"../survey-results/results.db\""
   ]
  },
  {
   "cell_type": "code",
   "execution_count": 3,
   "metadata": {},
   "outputs": [],
   "source": [
    "def to_rgb_jab(color):\n",
    "    \"\"\"\n",
    "    Convert hex color code (without `#`) to sRGB255 and CAM02-UCS.\n",
    "    \"\"\"\n",
    "    rgb = [(int(i[:2], 16), int(i[2:4], 16), int(i[4:], 16)) for i in color]\n",
    "    jab = [colorspacious.cspace_convert(i, \"sRGB255\", \"CAM02-UCS\") for i in rgb]\n",
    "    return np.array(rgb), np.array(jab)"
   ]
  },
  {
   "cell_type": "code",
   "execution_count": 4,
   "metadata": {},
   "outputs": [
    {
     "name": "stdout",
     "output_type": "stream",
     "text": [
      "6 10347\n",
      "8 10371\n",
      "10 1705\n"
     ]
    }
   ],
   "source": [
    "# Load survey data\n",
    "data_rgb = {}\n",
    "data_jab = {}\n",
    "targets = {}\n",
    "min_count = 1e10\n",
    "\n",
    "conn = sqlite3.connect(DB_FILE)\n",
    "c = conn.cursor()\n",
    "\n",
    "for num_colors in ALL_NUM_COLORS:\n",
    "    count = 0\n",
    "    data_jab[num_colors] = []\n",
    "    data_rgb[num_colors] = []\n",
    "    targets[num_colors] = []\n",
    "    for row in c.execute(\n",
    "        f\"SELECT c1, c2, sp FROM picks WHERE length(c1) = {num_colors * 7 - 1}\"\n",
    "    ):\n",
    "        count += 1\n",
    "        # Convert to Jab [CAM02-UCS based]\n",
    "        rgb1, jab1 = to_rgb_jab(row[0].split(\",\"))\n",
    "        rgb2, jab2 = to_rgb_jab(row[1].split(\",\"))\n",
    "        # Add to data arrays\n",
    "        data_rgb[num_colors].append(np.array((rgb1, rgb2)).flatten())\n",
    "        data_jab[num_colors].append(np.array((jab1, jab2)).flatten())\n",
    "        targets[num_colors].append(row[2] - 1)\n",
    "    data_rgb[num_colors] = np.array(data_rgb[num_colors])\n",
    "    data_jab[num_colors] = np.array(data_jab[num_colors])\n",
    "    targets[num_colors] = np.array(targets[num_colors])\n",
    "    min_count = min(min_count, count)\n",
    "    print(num_colors, count)\n",
    "\n",
    "conn.close()"
   ]
  },
  {
   "cell_type": "code",
   "execution_count": 5,
   "metadata": {},
   "outputs": [
    {
     "name": "stdout",
     "output_type": "stream",
     "text": [
      "   mean chroma  6: 0.517\n",
      "mean lightness  6: 0.500\n",
      "   amin chroma  6: 0.516\n",
      "amin lightness  6: 0.497\n",
      "   amax chroma  6: 0.477\n",
      "amax lightness  6: 0.491\n",
      "   mean chroma  8: 0.526\n",
      "mean lightness  8: 0.496\n",
      "   amin chroma  8: 0.527\n",
      "amin lightness  8: 0.503\n",
      "   amax chroma  8: 0.478\n",
      "amax lightness  8: 0.494\n",
      "   mean chroma 10: 0.527\n",
      "mean lightness 10: 0.501\n",
      "   amin chroma 10: 0.528\n",
      "amin lightness 10: 0.505\n",
      "   amax chroma 10: 0.480\n",
      "amax lightness 10: 0.499\n"
     ]
    }
   ],
   "source": [
    "stats1 = {}\n",
    "stats2 = {}\n",
    "stats = [np.mean, np.min, np.max]\n",
    "for stat in stats:\n",
    "    stats1[\"c\" + stat.__name__] = np.array([])\n",
    "    stats2[\"c\" + stat.__name__] = np.array([])\n",
    "for stat in stats:\n",
    "    stats1[\"l\" + stat.__name__] = np.array([])\n",
    "    stats2[\"l\" + stat.__name__] = np.array([])\n",
    "for nc in ALL_NUM_COLORS:\n",
    "    tmp1 = data_jab[nc][:, : nc * 3].reshape((data_jab[nc].shape[0], nc, 3))\n",
    "    tmp2 = data_jab[nc][:, nc * 3 :].reshape((data_jab[nc].shape[0], nc, 3))\n",
    "    for stat in stats:\n",
    "        c1 = stat(np.sqrt(tmp1[:, :, 1] ** 2 + tmp1[:, :, 2] ** 2), axis=1)\n",
    "        c2 = stat(np.sqrt(tmp2[:, :, 1] ** 2 + tmp2[:, :, 2] ** 2), axis=1)\n",
    "        stats1[\"c\" + stat.__name__] = np.append(stats1[\"c\" + stat.__name__], c1)\n",
    "        stats2[\"c\" + stat.__name__] = np.append(stats2[\"c\" + stat.__name__], c2)\n",
    "        print(\n",
    "            f\"   {stat.__name__} chroma {nc:2d}: {np.mean((c1 > c2) ^ targets[nc]):.3f}\"\n",
    "        )\n",
    "        l1 = stat(tmp1[:, :, 0], axis=1)\n",
    "        l2 = stat(tmp2[:, :, 0], axis=1)\n",
    "        stats1[\"l\" + stat.__name__] = np.append(stats1[\"l\" + stat.__name__], l1)\n",
    "        stats2[\"l\" + stat.__name__] = np.append(stats2[\"l\" + stat.__name__], l2)\n",
    "        print(\n",
    "            f\"{stat.__name__} lightness {nc:2d}: {np.mean((l1 > l2) ^ targets[nc]):.3f}\"\n",
    "        )"
   ]
  },
  {
   "cell_type": "code",
   "execution_count": 6,
   "metadata": {},
   "outputs": [
    {
     "name": "stdout",
     "output_type": "stream",
     "text": [
      "coefficient fractions:\n",
      "cmean -0.366\n",
      "camin -0.036\n",
      "camax  0.316\n",
      "lmean -0.086\n",
      "lamin -0.027\n",
      "lamax  0.170\n",
      "\n",
      "accuracy:\n",
      "0.543\n"
     ]
    }
   ],
   "source": [
    "reg = linear_model.LinearRegression()\n",
    "tmp = (np.array(list(stats1.values())) - np.array(list(stats2.values()))).T\n",
    "reg.fit(tmp, np.concatenate(list(targets.values())))\n",
    "coef_sum = np.sum(np.abs(reg.coef_))\n",
    "print(\"coefficient fractions:\")\n",
    "for i, k in enumerate(stats1.keys()):\n",
    "    print(k, f\"{reg.coef_[i] / coef_sum:6.3f}\")\n",
    "print(\n",
    "    f\"\\naccuracy:\\n{np.mean((reg.predict(tmp) < 0.5) ^ np.concatenate(list(targets.values()))):.3f}\"\n",
    ")"
   ]
  },
  {
   "cell_type": "code",
   "execution_count": 7,
   "metadata": {},
   "outputs": [
    {
     "name": "stdout",
     "output_type": "stream",
     "text": [
      "accuracy  6: 0.539\n",
      "accuracy  8: 0.548\n",
      "accuracy 10: 0.546\n"
     ]
    }
   ],
   "source": [
    "print(\n",
    "    f\"accuracy  6: {np.mean((reg.predict(tmp[:targets[6].size]) < 0.5) ^ targets[6]):.3f}\"\n",
    ")\n",
    "print(\n",
    "    f\"accuracy  8: {np.mean((reg.predict(tmp[targets[6].size:targets[6].size + targets[8].size]) < 0.5) ^ targets[8]):.3f}\"\n",
    ")\n",
    "print(\n",
    "    f\"accuracy 10: {np.mean((reg.predict(tmp[-targets[10].size:]) < 0.5) ^ targets[10]):.3f}\"\n",
    ")"
   ]
  }
 ],
 "metadata": {
  "kernelspec": {
   "display_name": "Python 3",
   "language": "python",
   "name": "python3"
  },
  "language_info": {
   "codemirror_mode": {
    "name": "ipython",
    "version": 3
   },
   "file_extension": ".py",
   "mimetype": "text/x-python",
   "name": "python",
   "nbconvert_exporter": "python",
   "pygments_lexer": "ipython3",
   "version": "3.6.9"
  }
 },
 "nbformat": 4,
 "nbformat_minor": 4
}
