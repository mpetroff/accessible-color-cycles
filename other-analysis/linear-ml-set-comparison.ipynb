{
 "cells": [
  {
   "cell_type": "markdown",
   "metadata": {},
   "source": [
    "# Compare results of linear regression model and machine learning model on set data"
   ]
  },
  {
   "cell_type": "code",
   "execution_count": 1,
   "metadata": {},
   "outputs": [],
   "source": [
    "import numpy as np\n",
    "import scipy.stats"
   ]
  },
  {
   "cell_type": "code",
   "execution_count": 2,
   "metadata": {},
   "outputs": [],
   "source": [
    "# (6, 8, 10) colors\n",
    "# Number of samples\n",
    "n = np.array((10347, 10371, 1705))\n",
    "# Accuracy of linear regression model\n",
    "p1 = np.array((0.53861, 0.54758, 0.54604))\n",
    "# Accuracy of machine learning model\n",
    "p2 = np.array((0.58246, 0.57541, 0.57470))"
   ]
  },
  {
   "cell_type": "code",
   "execution_count": 3,
   "metadata": {},
   "outputs": [],
   "source": [
    "def calc_p_value(n, p1, p2):\n",
    "    # H0: p1 == p2\n",
    "    # H1: p2 > p1\n",
    "    # See table C1 of https://doi.org/10.1148/radiol.2263011500\n",
    "    pc = (p1 + p2) / 2\n",
    "    z = (p1 - p2) / np.sqrt(2 * pc * (1 - pc) / n)\n",
    "    print(\"      z:\", z)\n",
    "    print(\"p value:\", scipy.stats.norm.cdf(z))"
   ]
  },
  {
   "cell_type": "code",
   "execution_count": 4,
   "metadata": {},
   "outputs": [
    {
     "name": "stdout",
     "output_type": "stream",
     "text": [
      "      z: -6.354747668885115\n",
      "p value: 1.0438451511418363e-10\n"
     ]
    }
   ],
   "source": [
    "# Six colors\n",
    "calc_p_value(n[0], p1[0], p2[0])"
   ]
  },
  {
   "cell_type": "code",
   "execution_count": 5,
   "metadata": {},
   "outputs": [
    {
     "name": "stdout",
     "output_type": "stream",
     "text": [
      "      z: -4.038762397198655\n",
      "p value: 2.6866980401601672e-05\n"
     ]
    }
   ],
   "source": [
    "# Eight colors\n",
    "calc_p_value(n[1], p1[1], p2[1])"
   ]
  },
  {
   "cell_type": "code",
   "execution_count": 6,
   "metadata": {},
   "outputs": [
    {
     "name": "stdout",
     "output_type": "stream",
     "text": [
      "      z: -1.6859406461735216\n",
      "p value: 0.04590361602742372\n"
     ]
    }
   ],
   "source": [
    "# Ten colors\n",
    "calc_p_value(n[2], p1[2], p2[2])"
   ]
  },
  {
   "cell_type": "code",
   "execution_count": 7,
   "metadata": {},
   "outputs": [
    {
     "name": "stdout",
     "output_type": "stream",
     "text": [
      "      z: -7.528535765495648\n",
      "p value: 2.5656231847287956e-14\n"
     ]
    }
   ],
   "source": [
    "# Across all set lengths\n",
    "p1_avg = np.sum(np.array(n) * np.array(p1)) / np.sum(n)\n",
    "p2_avg = np.sum(np.array(n) * np.array(p2)) / np.sum(n)\n",
    "calc_p_value(np.sum(n), p1_avg, p2_avg)"
   ]
  }
 ],
 "metadata": {
  "kernelspec": {
   "display_name": "Python 3",
   "language": "python",
   "name": "python3"
  },
  "language_info": {
   "codemirror_mode": {
    "name": "ipython",
    "version": 3
   },
   "file_extension": ".py",
   "mimetype": "text/x-python",
   "name": "python",
   "nbconvert_exporter": "python",
   "pygments_lexer": "ipython3",
   "version": "3.6.9"
  }
 },
 "nbformat": 4,
 "nbformat_minor": 4
}
