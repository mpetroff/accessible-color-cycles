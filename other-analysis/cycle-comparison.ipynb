{
 "cells": [
  {
   "cell_type": "code",
   "execution_count": 1,
   "metadata": {},
   "outputs": [],
   "source": [
    "import json\n",
    "import numpy as np\n",
    "import colorspacious"
   ]
  },
  {
   "cell_type": "code",
   "execution_count": 2,
   "metadata": {},
   "outputs": [],
   "source": [
    "np.set_printoptions(precision=3, linewidth=100)"
   ]
  },
  {
   "cell_type": "markdown",
   "metadata": {},
   "source": [
    "# Accessibility comparison to existing color cycles\n",
    "\n",
    "Minimum perceptual distance metrics are calculated for a variety of commonly-used color cycles."
   ]
  },
  {
   "cell_type": "code",
   "execution_count": 3,
   "metadata": {},
   "outputs": [],
   "source": [
    "def score_cycle(color):\n",
    "    \"\"\"\n",
    "    Calculate min delta E for each position in cycle, including CVD sims.\n",
    "    \"\"\"\n",
    "    rgb255 = [(int(i[:2], 16), int(i[2:4], 16), int(i[4:], 16)) for i in color]\n",
    "    rgb = [\n",
    "        (int(i[:2], 16) / 255, int(i[2:4], 16) / 255, int(i[4:], 16) / 255)\n",
    "        for i in color\n",
    "    ]\n",
    "    min_dists = [100]\n",
    "    min_dists_typ = [100]\n",
    "    min_dists_deut = [100]\n",
    "    min_dists_prot = [100]\n",
    "    min_dists_trit = [100]\n",
    "    min_dist = min_dist_typ = min_dist_deut = min_dist_prot = min_dist_trit = 100\n",
    "    for i in range(1, len(color)):\n",
    "        for severity in range(1, 101):\n",
    "            deut = colorspacious.cspace_convert(\n",
    "                rgb[: i + 1],\n",
    "                {\n",
    "                    \"name\": \"sRGB1+CVD\",\n",
    "                    \"cvd_type\": \"deuteranomaly\",\n",
    "                    \"severity\": severity,\n",
    "                },\n",
    "                \"sRGB1\",\n",
    "            )\n",
    "            prot = colorspacious.cspace_convert(\n",
    "                rgb[: i + 1],\n",
    "                {\"name\": \"sRGB1+CVD\", \"cvd_type\": \"protanomaly\", \"severity\": severity},\n",
    "                \"sRGB1\",\n",
    "            )\n",
    "            trit = colorspacious.cspace_convert(\n",
    "                rgb[: i + 1],\n",
    "                {\"name\": \"sRGB1+CVD\", \"cvd_type\": \"tritanomaly\", \"severity\": severity},\n",
    "                \"sRGB1\",\n",
    "            )\n",
    "            for j in range(i):\n",
    "                min_dist_typ = min(min_dist_typ, colorspacious.deltaE(rgb[i], rgb[j]))\n",
    "                min_dist_deut = min(\n",
    "                    min_dist_deut, colorspacious.deltaE(deut[i], deut[j])\n",
    "                )\n",
    "                min_dist_prot = min(\n",
    "                    min_dist_prot, colorspacious.deltaE(prot[i], prot[j])\n",
    "                )\n",
    "                min_dist_trit = min(\n",
    "                    min_dist_trit, colorspacious.deltaE(trit[i], trit[j])\n",
    "                )\n",
    "        min_dists_typ.append(min_dist_typ)\n",
    "        min_dists_deut.append(min_dist_deut)\n",
    "        min_dists_prot.append(min_dist_prot)\n",
    "        min_dists_trit.append(min_dist_trit)\n",
    "    min_dists = np.min(\n",
    "        [min_dists_typ, min_dists_deut, min_dists_prot, min_dists_trit], axis=0\n",
    "    )\n",
    "    return np.array(\n",
    "        [min_dists, min_dists_typ, min_dists_deut, min_dists_prot, min_dists_trit]\n",
    "    )"
   ]
  },
  {
   "cell_type": "code",
   "execution_count": 4,
   "metadata": {},
   "outputs": [],
   "source": [
    "def calc_j_range(color):\n",
    "    \"\"\"\n",
    "    Calculate minimum and maximum J' in cycle.\n",
    "    \"\"\"\n",
    "    rgb255 = [(int(i[:2], 16), int(i[2:4], 16), int(i[4:], 16)) for i in color]\n",
    "    min_j = 100\n",
    "    max_j = 0\n",
    "    for i in range(len(color)):\n",
    "        jab = colorspacious.cspace_convert(rgb255[i], \"sRGB255\", \"CAM02-UCS\")\n",
    "        min_j = min(min_j, jab[0])\n",
    "        max_j = max(max_j, jab[0])\n",
    "    return (min_j, max_j)"
   ]
  },
  {
   "cell_type": "code",
   "execution_count": 5,
   "metadata": {},
   "outputs": [],
   "source": [
    "colors = {}\n",
    "results = {}\n",
    "j_ranges = {}"
   ]
  },
  {
   "cell_type": "code",
   "execution_count": 6,
   "metadata": {},
   "outputs": [],
   "source": [
    "def process_cycle(name, cycle):\n",
    "    \"\"\"\n",
    "    Run and store and print results of calculation for cycle.\n",
    "    \"\"\"\n",
    "    colors[name] = cycle\n",
    "    results[name] = score_cycle(colors[name])\n",
    "    j_ranges[name] = calc_j_range(colors[name])\n",
    "    print(\"     min delta E:\", results[name][0])\n",
    "    print(\" min delta E typ:\", results[name][1])\n",
    "    print(\"min delta E deut:\", results[name][2])\n",
    "    print(\"min delta E prot:\", results[name][3])\n",
    "    print(\"min delta E trit:\", results[name][4])\n",
    "    print(\"    J min, J max:\", np.array(j_ranges[name]))"
   ]
  },
  {
   "cell_type": "markdown",
   "metadata": {},
   "source": [
    "### This Work\n",
    "\n",
    "We start with the new cycles developed in the present work."
   ]
  },
  {
   "cell_type": "code",
   "execution_count": 7,
   "metadata": {},
   "outputs": [],
   "source": [
    "with open(\"../aesthetic-models/top-cycles.json\") as infile:\n",
    "     new_cycles = json.load(infile)"
   ]
  },
  {
   "cell_type": "code",
   "execution_count": 8,
   "metadata": {},
   "outputs": [
    {
     "name": "stdout",
     "output_type": "stream",
     "text": [
      "     min delta E: [100.     57.138  21.312  21.312  21.312  20.463]\n",
      " min delta E typ: [100.     64.545  34.475  32.056  28.818  23.931]\n",
      "min delta E deut: [100.     63.876  21.312  21.312  21.312  21.312]\n",
      "min delta E prot: [100.     61.08   31.828  26.007  26.007  20.463]\n",
      "min delta E trit: [100.     57.138  27.256  27.256  26.6    23.959]\n",
      "    J min, J max: [41.3   76.435]\n"
     ]
    }
   ],
   "source": [
    "process_cycle(\"This Work 6\", new_cycles[\"6\"])"
   ]
  },
  {
   "cell_type": "code",
   "execution_count": 9,
   "metadata": {},
   "outputs": [
    {
     "name": "stdout",
     "output_type": "stream",
     "text": [
      "     min delta E: [100.     66.905  18.186  18.056  18.056  18.056  18.056  18.056]\n",
      " min delta E typ: [100.     77.98   20.022  20.022  20.022  20.022  20.022  20.022]\n",
      "min delta E deut: [100.     77.199  18.657  18.657  18.263  18.263  18.067  18.067]\n",
      "min delta E prot: [100.     66.905  20.037  19.159  19.159  19.159  18.455  18.455]\n",
      "min delta E trit: [100.     72.963  18.186  18.056  18.056  18.056  18.056  18.056]\n",
      "    J min, J max: [40.221 78.495]\n"
     ]
    }
   ],
   "source": [
    "process_cycle(\"This Work 8\", new_cycles[\"8\"])"
   ]
  },
  {
   "cell_type": "code",
   "execution_count": 10,
   "metadata": {},
   "outputs": [
    {
     "name": "stdout",
     "output_type": "stream",
     "text": [
      "     min delta E: [100.     56.751  33.424  22.26   18.316  16.398  16.283  16.053  16.053  16.053]\n",
      " min delta E typ: [100.     64.186  41.396  26.611  26.611  22.824  19.747  19.185  18.703  18.703]\n",
      "min delta E deut: [100.     62.858  33.424  26.627  18.316  16.398  16.283  16.053  16.053  16.053]\n",
      "min delta E prot: [100.     59.523  39.711  25.688  24.123  20.297  19.387  16.545  16.545  16.545]\n",
      "min delta E trit: [100.     56.751  37.373  22.26   22.26   19.778  17.407  16.474  16.474  16.474]\n",
      "    J min, J max: [41.328 83.704]\n"
     ]
    }
   ],
   "source": [
    "process_cycle(\"This Work 10\", new_cycles[\"10\"])"
   ]
  },
  {
   "cell_type": "markdown",
   "metadata": {},
   "source": [
    "### Seaborn\n",
    "\n",
    "[Seaborn](https://seaborn.pydata.org/)'s default color cycle, \"Seaborn Deep,\" and the \"Seaborn Colorblind\" cycle are evaluated. These are from v0.11.2."
   ]
  },
  {
   "cell_type": "code",
   "execution_count": 11,
   "metadata": {},
   "outputs": [
    {
     "name": "stdout",
     "output_type": "stream",
     "text": [
      "     min delta E: [100.     42.351   5.322   5.322   2.39    2.39    2.39    2.39    2.39    2.39 ]\n",
      " min delta E typ: [100.     51.373  37.208  19.395  14.091  14.091  14.091  13.125  13.125  13.125]\n",
      "min delta E deut: [100.     49.085   9.764   8.803   6.283   4.175   4.175   4.175   4.175   4.175]\n",
      "min delta E prot: [100.     42.351   5.322   5.322   2.39    2.39    2.39    2.39    2.39    2.39 ]\n",
      "min delta E trit: [100.     47.514  16.008  15.449  12.813  12.813   9.997   9.568   9.568   9.568]\n",
      "    J min, J max: [49.443 78.224]\n"
     ]
    }
   ],
   "source": [
    "process_cycle(\"Seaborn Deep\", [\"4C72B0\", \"DD8452\", \"55A868\", \"C44E52\", \"8172B3\", \"937860\", \"DA8BC3\", \"8C8C8C\", \"CCB974\", \"64B5CD\"])"
   ]
  },
  {
   "cell_type": "code",
   "execution_count": 12,
   "metadata": {},
   "outputs": [
    {
     "name": "stdout",
     "output_type": "stream",
     "text": [
      "     min delta E: [100.     55.827  12.819  10.62    9.94    5.836   5.836   5.836   5.836   5.836]\n",
      " min delta E typ: [100.     62.438  34.226  16.286  16.286  12.988  12.988  12.988  12.988  12.988]\n",
      "min delta E deut: [100.     60.722  26.411  10.62   10.62   10.62   10.62    8.458   8.458   8.458]\n",
      "min delta E prot: [100.     56.441  21.173  14.01   10.642   5.836   5.836   5.836   5.836   5.836]\n",
      "min delta E trit: [100.     55.827  12.819  12.819   9.94    6.088   6.088   6.088   6.088   6.088]\n",
      "    J min, J max: [47.103 89.608]\n"
     ]
    }
   ],
   "source": [
    "process_cycle(\"Seaborn Colorblind\", [\"0173B2\", \"DE8F05\", \"029E73\", \"D55E00\", \"CC78BC\", \"CA9161\", \"FBAFE4\", \"949494\", \"ECE133\", \"56B4E9\"])"
   ]
  },
  {
   "cell_type": "markdown",
   "metadata": {},
   "source": [
    "### Tableau Software\n",
    "\n",
    "The \"Category 10,\" \"Tableau Color Blind,\" and \"Tableau 10\" cycles are evaluated. The \"Category 10\" cycle originated at [Tableau Software](https://www.tableau.com/) but is presently the default in a number of other plotting codes, including [Matplotlib](https://matplotlib.org/). The \"Tableau Color Blind\" cycle is also available in Tableau. The \"Tableau 10\" cycle replaced the \"Category 10\" cycle as the default in Tableau in [version 10](https://www.tableau.com/about/blog/2016/7/colors-upgrade-tableau-10-56782)."
   ]
  },
  {
   "cell_type": "code",
   "execution_count": 13,
   "metadata": {},
   "outputs": [
    {
     "name": "stdout",
     "output_type": "stream",
     "text": [
      "     min delta E: [100.     54.081   3.433   3.433   1.961   1.961   1.961   1.961   1.961   1.961]\n",
      " min delta E typ: [100.     65.69   46.779  26.147  26.147  23.673  22.932  20.213  20.213  20.213]\n",
      "min delta E deut: [100.     61.184  16.687   5.157   5.157   5.157   5.157   5.157   4.462   4.293]\n",
      "min delta E prot: [100.     54.081   3.433   3.433   1.961   1.961   1.961   1.961   1.961   1.961]\n",
      "min delta E trit: [100.     59.927  13.395  13.395  13.395  13.395  12.663  11.126  11.126  11.126]\n",
      "    J min, J max: [45.849 76.782]\n"
     ]
    }
   ],
   "source": [
    "process_cycle(\"Category 10\", [\"1f77b4\", \"ff7f0e\", \"2ca02c\", \"d62728\", \"9467bd\", \"8c564b\", \"e377c2\", \"7f7f7f\", \"bcbd22\", \"17becf\"])"
   ]
  },
  {
   "cell_type": "code",
   "execution_count": 14,
   "metadata": {},
   "outputs": [
    {
     "name": "stdout",
     "output_type": "stream",
     "text": [
      "     min delta E: [100.     54.004  27.896  16.817  12.14   12.14   12.14   11.621  11.621   8.326]\n",
      " min delta E typ: [100.     66.118  32.224  18.404  16.684  16.684  14.917  13.15   13.15   11.245]\n",
      "min delta E deut: [100.     61.582  32.097  17.382  15.28   15.28   14.918  11.621  11.621  10.128]\n",
      "min delta E prot: [100.     54.004  27.896  16.817  12.14   12.14   12.14   12.14   12.14    8.326]\n",
      "min delta E trit: [100.     60.442  31.571  17.622  15.804  15.804  14.902  12.723  12.723  10.467]\n",
      "    J min, J max: [42.345 85.08 ]\n"
     ]
    }
   ],
   "source": [
    "process_cycle(\"Tableau Color Blind\", [\"1170aa\", \"fc7d0b\", \"a3acb9\", \"57606c\", \"5fa2ce\", \"c85200\", \"7b848f\", \"a3cce9\", \"ffbc79\", \"c8d0d9\"])"
   ]
  },
  {
   "cell_type": "code",
   "execution_count": 15,
   "metadata": {},
   "outputs": [
    {
     "name": "stdout",
     "output_type": "stream",
     "text": [
      "     min delta E: [100.     48.514  13.721  13.721   0.792   0.792   0.792   0.792   0.792   0.792]\n",
      " min delta E typ: [100.     56.463  23.424  23.424  23.424  19.255  19.255  19.255  19.255  19.255]\n",
      "min delta E deut: [100.     53.998  16.515  16.515   0.792   0.792   0.792   0.792   0.792   0.792]\n",
      "min delta E prot: [100.     48.514  22.857  22.857   7.631   7.631   7.394   4.038   2.164   1.394]\n",
      "min delta E trit: [100.     51.166  13.721  13.721  11.261  11.261  11.261   8.232   6.693   6.693]\n",
      "    J min, J max: [51.215 84.669]\n"
     ]
    }
   ],
   "source": [
    "process_cycle(\"Tableau 10\", [\"4e79a7\", \"f28e2b\", \"e15759\", \"76b7b2\", \"59a14f\", \"edc948\", \"b07aa1\", \"ff9da7\", \"9c755f\", \"bab0ac\"])"
   ]
  },
  {
   "cell_type": "markdown",
   "metadata": {},
   "source": [
    "### Microsoft Excel\n",
    "\n",
    "This cycle is the default in Microsoft Excel 2019 (build 2110), where it is also referred to as \"Colorful Palette 1.\""
   ]
  },
  {
   "cell_type": "code",
   "execution_count": 16,
   "metadata": {},
   "outputs": [
    {
     "name": "stdout",
     "output_type": "stream",
     "text": [
      "     min delta E: [100.     44.408  23.585  14.945  12.812   4.052   4.052   4.052   4.052   4.052]\n",
      " min delta E typ: [100.     54.708  29.071  19.426  13.959  13.959  13.959  13.959  13.959  13.959]\n",
      "min delta E deut: [100.     51.158  24.22   14.945  13.664   6.983   6.983   6.983   6.983   6.983]\n",
      "min delta E prot: [100.     44.408  23.585  18.062  13.604   4.052   4.052   4.052   4.052   4.052]\n",
      "min delta E trit: [100.     50.362  26.255  16.024  12.812  11.234  11.234  11.234  11.234  11.234]\n",
      "    J min, J max: [31.066 82.931]\n"
     ]
    }
   ],
   "source": [
    "process_cycle(\"Microsoft Excel\", [\"417ebf\", \"e38248\", \"a5a6a7\", \"faba45\", \"5da3d1\", \"7ca353\", \"224873\", \"964b29\", \"616263\", \"95702e\"])"
   ]
  },
  {
   "cell_type": "markdown",
   "metadata": {},
   "source": [
    "### MATLAB\n",
    "\n",
    "This cycle is the default in [MATLAB R2021b](https://www.mathworks.com/help/matlab/ref/colororder.html)."
   ]
  },
  {
   "cell_type": "code",
   "execution_count": 17,
   "metadata": {},
   "outputs": [
    {
     "name": "stdout",
     "output_type": "stream",
     "text": [
      "     min delta E: [100.     49.707  20.698   9.978   7.694   7.694   7.694]\n",
      " min delta E typ: [100.     63.463  30.74   30.74   25.609  25.609  23.301]\n",
      "min delta E deut: [100.     56.387  20.698   9.978   7.694   7.694   7.694]\n",
      "min delta E prot: [100.     49.707  27.042  16.776   7.918   7.918   7.918]\n",
      "min delta E trit: [100.     58.427  26.736  26.736  23.594  20.391  18.854]\n",
      "    J min, J max: [38.352 79.303]\n"
     ]
    }
   ],
   "source": [
    "process_cycle(\"MATLAB\", [\"0072BD\", \"D95319\", \"EDB120\", \"7E2F8E\", \"77AC30\", \"4DBEEE\", \"A2142F\"])"
   ]
  },
  {
   "cell_type": "markdown",
   "metadata": {},
   "source": [
    "### LibreOffice Calc\n",
    "\n",
    "This cycle is the default in [LibreOffice Calc v7.2](https://github.com/LibreOffice/core/blob/libreoffice-7.2.3.2/extras/source/palettes/chart-palettes.soc)."
   ]
  },
  {
   "cell_type": "code",
   "execution_count": 18,
   "metadata": {},
   "outputs": [
    {
     "name": "stdout",
     "output_type": "stream",
     "text": [
      "     min delta E: [100.     51.978  23.789   8.047   8.047   8.047   5.092   4.692   4.692   3.334]\n",
      " min delta E typ: [100.     72.956  42.74   35.588  35.588  35.588  35.588  16.749  16.749  16.749]\n",
      "min delta E deut: [100.     66.167  23.789   8.047   8.047   8.047   5.092   5.092   5.092   3.334]\n",
      "min delta E prot: [100.     51.978  34.878  12.628  12.628  12.628  12.628   4.692   4.692   4.692]\n",
      "min delta E trit: [100.     68.378  37.781  31.861  31.861  23.532  22.94   15.348  15.348  15.348]\n",
      "    J min, J max: [25.082 88.394]\n"
     ]
    }
   ],
   "source": [
    "process_cycle(\"LibreOffice Calc\", [\"004586\", \"ff420e\", \"ffd320\", \"579d1c\", \"7e0021\", \"83caff\", \"314004\", \"aecf00\", \"4b1f6f\", \"ff950e\"])"
   ]
  },
  {
   "cell_type": "markdown",
   "metadata": {},
   "source": [
    "### Google Sheets\n",
    "\n",
    "This cycle was the default in Google Sheets as of 2021-11-21."
   ]
  },
  {
   "cell_type": "code",
   "execution_count": 19,
   "metadata": {},
   "outputs": [
    {
     "name": "stdout",
     "output_type": "stream",
     "text": [
      "     min delta E: [100.     50.405  24.186   7.841   7.841   7.841   6.609   6.609   6.038   5.39 ]\n",
      " min delta E typ: [100.     64.771  39.683  37.962  15.55   15.55   14.508  14.508   6.792   6.792]\n",
      "min delta E deut: [100.     56.784  24.186   7.841   7.841   7.841   7.841   7.841   6.216   5.39 ]\n",
      "min delta E prot: [100.     50.405  34.943  18.271  11.801  11.801  11.801  11.46    6.785   6.785]\n",
      "min delta E trit: [100.     60.846  31.285  12.276  10.09   10.09    6.609   6.609   6.038   6.038]\n",
      "    J min, J max: [57.735 87.74 ]\n"
     ]
    }
   ],
   "source": [
    "process_cycle(\"Google Sheets\", [\"4285f4\", \"ea4335\", \"fbbc04\", \"34a853\", \"ff6d01\", \"46bdc6\", \"7baaf7\", \"f07b72\", \"fcd04f\", \"71c287\"])"
   ]
  },
  {
   "cell_type": "markdown",
   "metadata": {},
   "source": [
    "### R\n",
    "\n",
    "This cycle is the default in R v4.2.1 and was copied from `R-4.2.1/src/library/grDevices/R/colorstuff.R`. It became the default in [R v4](https://developer.r-project.org/Blog/public/2019/11/21/a-new-palette-for-r/). Note that the popular R plotting library [ggplot2](https://ggplot2.tidyverse.org/) uses different, and much less accessible, colors."
   ]
  },
  {
   "cell_type": "code",
   "execution_count": 20,
   "metadata": {},
   "outputs": [
    {
     "name": "stdout",
     "output_type": "stream",
     "text": [
      "     min delta E: [100.     50.444  17.736  17.736  12.712   8.291   8.27    8.27 ]\n",
      " min delta E typ: [100.     68.333  59.082  53.046  29.993  24.75   24.75   24.75 ]\n",
      "min delta E deut: [100.     62.432  17.736  17.736  17.736   8.291   8.291   8.291]\n",
      "min delta E prot: [100.     50.444  36.539  33.142  28.086  20.827   8.27    8.27 ]\n",
      "min delta E trit: [100.     66.655  51.79   19.077  12.712  10.003  10.003  10.003]\n",
      "    J min, J max: [5.54e-22 8.48e+01]\n"
     ]
    }
   ],
   "source": [
    "process_cycle(\"R\", [\"000000\", \"df536b\", \"61d04f\", \"2297e6\", \"28e2e5\", \"cd0bbc\", \"f5c710\", \"9e9e9e\"])"
   ]
  },
  {
   "cell_type": "markdown",
   "metadata": {},
   "source": [
    "### Okabe and Ito\n",
    "\n",
    "This is the cycle developed by [Okabe and Ito (2002)](https://jfly.uni-koeln.de/color/) (also see [archived original page](https://web.archive.org/web/20030821055411/http://jfly.iam.u-tokyo.ac.jp/color/text.html)). It was also published without attribution in [Wong (2011)](https://doi.org/10.1038/nmeth.1618)."
   ]
  },
  {
   "cell_type": "code",
   "execution_count": 21,
   "metadata": {},
   "outputs": [
    {
     "name": "stdout",
     "output_type": "stream",
     "text": [
      "     min delta E: [100.     77.172  49.341  13.768  13.768  13.109  13.109  10.971]\n",
      " min delta E typ: [100.     80.788  56.831  31.527  20.755  20.755  20.755  20.755]\n",
      "min delta E deut: [100.     80.747  54.562  29.463  15.853  15.853  15.087  14.766]\n",
      "min delta E prot: [100.     77.172  54.101  23.738  18.586  18.586  18.586  13.955]\n",
      "min delta E trit: [100.     78.454  49.341  13.768  13.768  13.109  13.109  10.971]\n",
      "    J min, J max: [5.54e-22 9.07e+01]\n"
     ]
    }
   ],
   "source": [
    "process_cycle(\"Okabe and Ito\", [\"000000\", \"E69F00\", \"56B4E9\", \"009E73\", \"F0E442\", \"0072B2\", \"D55E00\", \"CC79A7\"])"
   ]
  },
  {
   "cell_type": "markdown",
   "metadata": {},
   "source": [
    "### ColorBrewer\n",
    "\n",
    "This is the \"Set 1\" cycle from [ColorBrewer](https://colorbrewer2.org/#type=qualitative&scheme=Set1&n=9)."
   ]
  },
  {
   "cell_type": "code",
   "execution_count": 22,
   "metadata": {},
   "outputs": [
    {
     "name": "stdout",
     "output_type": "stream",
     "text": [
      "     min delta E: [100.     44.676  11.358   4.656   4.656   4.656   3.456   3.456   3.456]\n",
      " min delta E typ: [100.     64.953  45.946  33.144  25.305  25.305  20.6    20.6    20.6  ]\n",
      "min delta E deut: [100.     51.069  11.358   4.656   4.656   4.656   4.656   4.656   4.656]\n",
      "min delta E prot: [100.     44.676  27.266  10.24    9.223   9.223   3.456   3.456   3.456]\n",
      "min delta E trit: [100.     60.033  15.588  15.588  15.588  15.588  13.117   9.833   9.833]\n",
      "    J min, J max: [49.108 97.522]\n"
     ]
    }
   ],
   "source": [
    "process_cycle(\"ColorBrewer Set 1\", [\"e41a1c\", \"377eb8\", \"4daf4a\", \"984ea3\", \"ff7f00\", \"ffff33\", \"a65628\", \"f781bf\", \"999999\"])"
   ]
  },
  {
   "cell_type": "markdown",
   "metadata": {},
   "source": [
    "### Mathematica\n",
    "\n",
    "This is the default cycle in Mathematica as of v12."
   ]
  },
  {
   "cell_type": "code",
   "execution_count": 23,
   "metadata": {},
   "outputs": [
    {
     "name": "stdout",
     "output_type": "stream",
     "text": [
      "     min delta E: [100.     46.943   2.128   2.128   1.145   1.145   1.145   1.145   1.145   1.145]\n",
      " min delta E typ: [100.     54.2    21.861  21.757  13.211  12.698  11.056  11.056  11.056   9.026]\n",
      "min delta E deut: [100.     53.611   5.725   4.27    2.521   2.521   2.521   2.521   2.521   2.331]\n",
      "min delta E prot: [100.     51.286   2.128   2.128   1.145   1.145   1.145   1.145   1.145   1.145]\n",
      "min delta E trit: [100.     46.943  19.468  16.869  11.783  10.443   9.76    9.76    9.76    8.742]\n",
      "    J min, J max: [54.399 84.228]\n"
     ]
    }
   ],
   "source": [
    "process_cycle(\"Mathematica\", [\"5e81b5\", \"e19c24\", \"8fb032\", \"eb6235\", \"8778b3\", \"c56e1a\", \"5d9ec7\", \"ffbf00\", \"a5609d\", \"929600\"])"
   ]
  },
  {
   "cell_type": "markdown",
   "metadata": {},
   "source": [
    "### Scientific colour maps\n",
    "\n",
    "This is from Fabio Crameri's [set of colormaps](https://doi.org/10.5281/zenodo.5501399)."
   ]
  },
  {
   "cell_type": "code",
   "execution_count": 24,
   "metadata": {},
   "outputs": [
    {
     "name": "stdout",
     "output_type": "stream",
     "text": [
      "     min delta E: [100.     72.43   35.563  23.773  16.838   9.046   9.046   9.046   8.431   5.141]\n",
      " min delta E typ: [100.     78.449  50.174  31.393  29.386  14.029  14.029  14.029  14.029   7.547]\n",
      "min delta E deut: [100.     78.028  46.769  29.318  21.362  13.887  13.887  13.887  10.951   6.577]\n",
      "min delta E prot: [100.     72.43   49.044  29.922  16.838  14.055  14.055  13.124   8.431   6.882]\n",
      "min delta E trit: [100.     78.011  35.563  23.773  20.663   9.046   9.046   9.046   9.046   5.141]\n",
      "    J min, J max: [14.351 89.627]\n"
     ]
    }
   ],
   "source": [
    "process_cycle(\"batlowS\", [\"011959\", \"faccfa\", \"828231\", \"226061\", \"f19d6b\", \"fdb4b4\", \"114360\", \"4d734d\", \"c09036\", \"175262\"])"
   ]
  },
  {
   "cell_type": "markdown",
   "metadata": {},
   "source": [
    "### Plots.jl\n",
    "\n",
    "This is the default cycle from the [Plots.jl](https://docs.juliaplots.org/latest/generated/colorschemes/) Julia library, v1.24.3."
   ]
  },
  {
   "cell_type": "code",
   "execution_count": 25,
   "metadata": {},
   "outputs": [
    {
     "name": "stdout",
     "output_type": "stream",
     "text": [
      "     min delta E: [100.     48.476   7.209   7.209   5.072   5.072   3.774   1.076   1.076   1.076]\n",
      " min delta E typ: [100.     60.76   45.328  36.713  24.349  22.745  20.057  10.026  10.026   8.95 ]\n",
      "min delta E deut: [100.     53.822   7.209   7.209   5.072   5.072   5.072   1.076   1.076   1.076]\n",
      "min delta E prot: [100.     48.476   8.226   8.226   8.226   8.226   8.226   3.168   3.168   1.285]\n",
      "min delta E trit: [100.     56.508  13.948  13.948  10.077   6.169   3.774   3.774   2.492   2.492]\n",
      "    J min, J max: [61.252 65.71 ]\n"
     ]
    }
   ],
   "source": [
    "process_cycle(\"Plots.jl\", [\"009AFA\", \"E36F47\", \"3EA44E\", \"C371D2\", \"AC8E18\", \"00AAAE\", \"ED5E93\", \"C68225\", \"00A98D\", \"8E971E\"])"
   ]
  },
  {
   "cell_type": "markdown",
   "metadata": {},
   "source": [
    "### Colour Schemes\n",
    "\n",
    "This cycle is from Paul Tol's [SRON/EPS/TN/09-002 technical report](https://personal.sron.nl/~pault/data/colourschemes.pdf), issue 3.2."
   ]
  },
  {
   "cell_type": "code",
   "execution_count": 26,
   "metadata": {},
   "outputs": [
    {
     "name": "stdout",
     "output_type": "stream",
     "text": [
      "     min delta E: [100.     24.978   7.369   7.369   7.369   7.369   7.369]\n",
      " min delta E typ: [100.     51.304  41.164  34.299  29.945  23.685  23.38 ]\n",
      "min delta E deut: [100.     39.121  17.334  17.334  17.334  16.155  16.155]\n",
      "min delta E prot: [100.     24.978  18.15   18.15   18.15   15.434  15.434]\n",
      "min delta E trit: [100.     47.914   7.369   7.369   7.369   7.369   7.369]\n",
      "    J min, J max: [46.409 78.435]\n"
     ]
    }
   ],
   "source": [
    "process_cycle(\"Tol Bright\", [\"4477AA\", \"EE6677\", \"228833\", \"CCBB44\", \"66CCEE\", \"AA3377\", \"BBBBBB\"])"
   ]
  },
  {
   "cell_type": "markdown",
   "metadata": {},
   "source": [
    "### Plotly Express\n",
    "\n",
    "This is the default cycle from the Plotly Express, which is part of the plotly.py Python library, v5.4.0."
   ]
  },
  {
   "cell_type": "code",
   "execution_count": 27,
   "metadata": {},
   "outputs": [
    {
     "name": "stdout",
     "output_type": "stream",
     "text": [
      "     min delta E: [100.     52.518  19.255   1.014   1.014   1.014   1.014   1.014   1.014   1.014]\n",
      " min delta E typ: [100.     61.913  52.289  18.338  18.338  18.338  17.088  17.088  17.088  15.37 ]\n",
      "min delta E deut: [100.     60.039  19.255   8.02    8.02    8.02    2.872   2.872   2.872   2.872]\n",
      "min delta E prot: [100.     52.518  26.57    1.014   1.014   1.014   1.014   1.014   1.014   1.014]\n",
      "min delta E trit: [100.     58.367  22.634  17.062  17.062   6.986   6.986   6.986   6.986   6.986]\n",
      "    J min, J max: [54.287 87.616]\n"
     ]
    }
   ],
   "source": [
    "process_cycle(\"Plotly\", [\"636EFA\", \"EF553B\", \"00CC96\", \"AB63FA\", \"FFA15A\", \"19D3F3\", \"FF6692\", \"B6E880\", \"FF97FF\", \"FECB52\"])"
   ]
  },
  {
   "cell_type": "markdown",
   "metadata": {},
   "source": [
    "## Generate table\n",
    "\n",
    "The results are processed into a LaTeX table."
   ]
  },
  {
   "cell_type": "code",
   "execution_count": 28,
   "metadata": {},
   "outputs": [],
   "source": [
    "names = [\n",
    "    \"This Work 6\",\n",
    "    \"This Work 8\",\n",
    "    \"This Work 10\",\n",
    "    \"ColorBrewer Set 1\",\n",
    "    \"batlowS\",\n",
    "\n",
    "    \"Microsoft Excel\",\n",
    "    \"LibreOffice Calc\",\n",
    "    \"Google Sheets\",\n",
    "    \"Mathematica\",\n",
    "    \"Plots.jl\",\n",
    "\n",
    "    \"Plotly\",\n",
    "    \"Seaborn Deep\",\n",
    "    \"Tableau 10\",\n",
    "    \"Category 10\",\n",
    "    \"MATLAB\",\n",
    "\n",
    "    \"R\",\n",
    "    \"Seaborn Colorblind\",\n",
    "    \"Tableau Color Blind\",\n",
    "    \"Okabe and Ito\",\n",
    "    \"Tol Bright\",\n",
    "]"
   ]
  },
  {
   "cell_type": "code",
   "execution_count": 29,
   "metadata": {},
   "outputs": [
    {
     "name": "stdout",
     "output_type": "stream",
     "text": [
      "\\begin{tabular}{@{}crrcrrcrrcrrcrr@{}}\n",
      "\\toprule\n",
      "\\multicolumn{3}{c}{This Work 6} & \\multicolumn{3}{c}{This Work 8} & \\multicolumn{3}{c}{This Work 10} & \\multicolumn{3}{c}{ColorBrewer Set 1} & \\multicolumn{3}{c}{batlowS} \\\\\n",
      "\\multicolumn{3}{c}{$J' \\in [41.3, 76.4]$} & \\multicolumn{3}{c}{$J' \\in [40.2, 78.5]$} & \\multicolumn{3}{c}{$J' \\in [41.3, 83.7]$} & \\multicolumn{3}{c}{$J' \\in [49.1, 97.5]$} & \\multicolumn{3}{c}{$J' \\in [14.4, 89.6]$} \\\\ \\cmidrule(r){1-3}\\cmidrule(rl){4-6}\\cmidrule(rl){7-9}\\cmidrule(rl){10-12}\\cmidrule(l){13-15}\n",
      "& $\\min$ & $\\min$ & & $\\min$ & $\\min$ & & $\\min$ & $\\min$ & & $\\min$ & $\\min$ & & $\\min$ & $\\min$ \\\\\n",
      "& $\\Delta E'$ & $\\Delta E_\\text{cvd}$ & & $\\Delta E'$ & $\\Delta E_\\text{cvd}$ & & $\\Delta E'$ & $\\Delta E_\\text{cvd}$ & & $\\Delta E'$ & $\\Delta E_\\text{cvd}$ & & $\\Delta E'$ & $\\Delta E_\\text{cvd}$ \\\\ \\midrule\n",
      "\\textcolor[HTML]{5790fc}{$\\blacksquare$} & 100.0 & 100.0 & \\textcolor[HTML]{1845fb}{$\\blacksquare$} & 100.0 & 100.0 & \\textcolor[HTML]{3f90da}{$\\blacksquare$} & 100.0 & 100.0 & \\textcolor[HTML]{e41a1c}{$\\blacksquare$} & 100.0 & 100.0 & \\textcolor[HTML]{011959}{$\\blacksquare$} & 100.0 & 100.0 \\\\\n",
      "\\textcolor[HTML]{f89c20}{$\\blacksquare$} & 64.5 & 57.1 & \\textcolor[HTML]{ff5e02}{$\\blacksquare$} & 78.0 & 66.9 & \\textcolor[HTML]{ffa90e}{$\\blacksquare$} & 64.2 & 56.8 & \\textcolor[HTML]{377eb8}{$\\blacksquare$} & 65.0 & 44.7 & \\textcolor[HTML]{faccfa}{$\\blacksquare$} & 78.4 & 72.4 \\\\\n",
      "\\textcolor[HTML]{e42536}{$\\blacksquare$} & 34.5 & 21.3 & \\textcolor[HTML]{c91f16}{$\\blacksquare$} & 20.0 & 18.2 & \\textcolor[HTML]{bd1f01}{$\\blacksquare$} & 41.4 & 33.4 & \\textcolor[HTML]{4daf4a}{$\\blacksquare$} & 45.9 & 11.4 & \\textcolor[HTML]{828231}{$\\blacksquare$} & 50.2 & 35.6 \\\\\n",
      "\\textcolor[HTML]{964a8b}{$\\blacksquare$} & 32.1 & 21.3 & \\textcolor[HTML]{c849a9}{$\\blacksquare$} & 20.0 & 18.1 & \\textcolor[HTML]{94a4a2}{$\\blacksquare$} & 26.6 & 22.3 & \\textcolor[HTML]{984ea3}{$\\blacksquare$} & 33.1 & \\textcolor[HTML]{990099}{\\textbf{4.7}} & \\textcolor[HTML]{226061}{$\\blacksquare$} & 31.4 & 23.8 \\\\\n",
      "\\textcolor[HTML]{9c9ca1}{$\\blacksquare$} & 28.8 & 21.3 & \\textcolor[HTML]{adad7d}{$\\blacksquare$} & 20.0 & 18.1 & \\textcolor[HTML]{832db6}{$\\blacksquare$} & 26.6 & 18.3 & \\textcolor[HTML]{ff7f00}{$\\blacksquare$} & 25.3 & \\textcolor[HTML]{990099}{\\textbf{4.7}} & \\textcolor[HTML]{f19d6b}{$\\blacksquare$} & 29.4 & 16.8 \\\\\n",
      "\\textcolor[HTML]{7a21dd}{$\\blacksquare$} & 23.9 & 20.5 & \\textcolor[HTML]{86c8dd}{$\\blacksquare$} & 20.0 & 18.1 & \\textcolor[HTML]{a96b59}{$\\blacksquare$} & 22.8 & 16.4 & \\textcolor[HTML]{ffff33}{$\\blacksquare$} & 25.3 & \\textcolor[HTML]{990099}{\\textbf{4.7}} & \\textcolor[HTML]{fdb4b4}{$\\blacksquare$} & 14.0 & \\textcolor[HTML]{990099}{\\textbf{9.0}} \\\\\n",
      "& & & \\textcolor[HTML]{578dff}{$\\blacksquare$} & 20.0 & 18.1 & \\textcolor[HTML]{e76300}{$\\blacksquare$} & 19.7 & 16.3 & \\textcolor[HTML]{a65628}{$\\blacksquare$} & 20.6 & \\textcolor[HTML]{990099}{\\textbf{3.5}} & \\textcolor[HTML]{114360}{$\\blacksquare$} & 14.0 & \\textcolor[HTML]{990099}{\\textbf{9.0}} \\\\\n",
      "& & & \\textcolor[HTML]{656364}{$\\blacksquare$} & 20.0 & 18.1 & \\textcolor[HTML]{b9ac70}{$\\blacksquare$} & 19.2 & 16.1 & \\textcolor[HTML]{f781bf}{$\\blacksquare$} & 20.6 & \\textcolor[HTML]{990099}{\\textbf{3.5}} & \\textcolor[HTML]{4d734d}{$\\blacksquare$} & 14.0 & \\textcolor[HTML]{990099}{\\textbf{9.0}} \\\\\n",
      "& & & & & & \\textcolor[HTML]{717581}{$\\blacksquare$} & 18.7 & 16.1 & \\textcolor[HTML]{999999}{$\\blacksquare$} & 20.6 & \\textcolor[HTML]{990099}{\\textbf{3.5}} & \\textcolor[HTML]{c09036}{$\\blacksquare$} & 14.0 & \\textcolor[HTML]{990099}{\\textbf{8.4}} \\\\\n",
      "& & & & & & \\textcolor[HTML]{92dadd}{$\\blacksquare$} & 18.7 & 16.1 & & & & \\textcolor[HTML]{175262}{$\\blacksquare$} & \\textcolor[HTML]{990099}{\\textbf{7.5}} & \\textcolor[HTML]{990099}{\\textbf{5.1}} \\\\\n",
      "\\toprule\n",
      "\\multicolumn{3}{c}{Microsoft Excel} & \\multicolumn{3}{c}{LibreOffice Calc} & \\multicolumn{3}{c}{Google Sheets} & \\multicolumn{3}{c}{Mathematica} & \\multicolumn{3}{c}{Plots.jl} \\\\\n",
      "\\multicolumn{3}{c}{$J' \\in [31.1, 82.9]$} & \\multicolumn{3}{c}{$J' \\in [25.1, 88.4]$} & \\multicolumn{3}{c}{$J' \\in [57.7, 87.7]$} & \\multicolumn{3}{c}{$J' \\in [54.4, 84.2]$} & \\multicolumn{3}{c}{$J' \\in [61.3, 65.7]$} \\\\ \\cmidrule(r){1-3}\\cmidrule(rl){4-6}\\cmidrule(rl){7-9}\\cmidrule(rl){10-12}\\cmidrule(l){13-15}\n",
      "& $\\min$ & $\\min$ & & $\\min$ & $\\min$ & & $\\min$ & $\\min$ & & $\\min$ & $\\min$ & & $\\min$ & $\\min$ \\\\\n",
      "& $\\Delta E'$ & $\\Delta E_\\text{cvd}$ & & $\\Delta E'$ & $\\Delta E_\\text{cvd}$ & & $\\Delta E'$ & $\\Delta E_\\text{cvd}$ & & $\\Delta E'$ & $\\Delta E_\\text{cvd}$ & & $\\Delta E'$ & $\\Delta E_\\text{cvd}$ \\\\ \\midrule\n",
      "\\textcolor[HTML]{417ebf}{$\\blacksquare$} & 100.0 & 100.0 & \\textcolor[HTML]{004586}{$\\blacksquare$} & 100.0 & 100.0 & \\textcolor[HTML]{4285f4}{$\\blacksquare$} & 100.0 & 100.0 & \\textcolor[HTML]{5e81b5}{$\\blacksquare$} & 100.0 & 100.0 & \\textcolor[HTML]{009AFA}{$\\blacksquare$} & 100.0 & 100.0 \\\\\n",
      "\\textcolor[HTML]{e38248}{$\\blacksquare$} & 54.7 & 44.4 & \\textcolor[HTML]{ff420e}{$\\blacksquare$} & 73.0 & 52.0 & \\textcolor[HTML]{ea4335}{$\\blacksquare$} & 64.8 & 50.4 & \\textcolor[HTML]{e19c24}{$\\blacksquare$} & 54.2 & 46.9 & \\textcolor[HTML]{E36F47}{$\\blacksquare$} & 60.8 & 48.5 \\\\\n",
      "\\textcolor[HTML]{a5a6a7}{$\\blacksquare$} & 29.1 & 23.6 & \\textcolor[HTML]{ffd320}{$\\blacksquare$} & 42.7 & 23.8 & \\textcolor[HTML]{fbbc04}{$\\blacksquare$} & 39.7 & 24.2 & \\textcolor[HTML]{8fb032}{$\\blacksquare$} & 21.9 & \\textcolor[HTML]{990099}{\\textbf{2.1}} & \\textcolor[HTML]{3EA44E}{$\\blacksquare$} & 45.3 & \\textcolor[HTML]{990099}{\\textbf{7.2}} \\\\\n",
      "\\textcolor[HTML]{faba45}{$\\blacksquare$} & 19.4 & 14.9 & \\textcolor[HTML]{579d1c}{$\\blacksquare$} & 35.6 & \\textcolor[HTML]{990099}{\\textbf{8.0}} & \\textcolor[HTML]{34a853}{$\\blacksquare$} & 38.0 & \\textcolor[HTML]{990099}{\\textbf{7.8}} & \\textcolor[HTML]{eb6235}{$\\blacksquare$} & 21.8 & \\textcolor[HTML]{990099}{\\textbf{2.1}} & \\textcolor[HTML]{C371D2}{$\\blacksquare$} & 36.7 & \\textcolor[HTML]{990099}{\\textbf{7.2}} \\\\\n",
      "\\textcolor[HTML]{5da3d1}{$\\blacksquare$} & 14.0 & 12.8 & \\textcolor[HTML]{7e0021}{$\\blacksquare$} & 35.6 & \\textcolor[HTML]{990099}{\\textbf{8.0}} & \\textcolor[HTML]{ff6d01}{$\\blacksquare$} & 15.5 & \\textcolor[HTML]{990099}{\\textbf{7.8}} & \\textcolor[HTML]{8778b3}{$\\blacksquare$} & 13.2 & \\textcolor[HTML]{990099}{\\textbf{1.1}} & \\textcolor[HTML]{AC8E18}{$\\blacksquare$} & 24.3 & \\textcolor[HTML]{990099}{\\textbf{5.1}} \\\\\n",
      "\\textcolor[HTML]{7ca353}{$\\blacksquare$} & 14.0 & \\textcolor[HTML]{990099}{\\textbf{4.1}} & \\textcolor[HTML]{83caff}{$\\blacksquare$} & 35.6 & \\textcolor[HTML]{990099}{\\textbf{8.0}} & \\textcolor[HTML]{46bdc6}{$\\blacksquare$} & 15.5 & \\textcolor[HTML]{990099}{\\textbf{7.8}} & \\textcolor[HTML]{c56e1a}{$\\blacksquare$} & 12.7 & \\textcolor[HTML]{990099}{\\textbf{1.1}} & \\textcolor[HTML]{00AAAE}{$\\blacksquare$} & 22.7 & \\textcolor[HTML]{990099}{\\textbf{5.1}} \\\\\n",
      "\\textcolor[HTML]{224873}{$\\blacksquare$} & 14.0 & \\textcolor[HTML]{990099}{\\textbf{4.1}} & \\textcolor[HTML]{314004}{$\\blacksquare$} & 35.6 & \\textcolor[HTML]{990099}{\\textbf{5.1}} & \\textcolor[HTML]{7baaf7}{$\\blacksquare$} & 14.5 & \\textcolor[HTML]{990099}{\\textbf{6.6}} & \\textcolor[HTML]{5d9ec7}{$\\blacksquare$} & 11.1 & \\textcolor[HTML]{990099}{\\textbf{1.1}} & \\textcolor[HTML]{ED5E93}{$\\blacksquare$} & 20.1 & \\textcolor[HTML]{990099}{\\textbf{3.8}} \\\\\n",
      "\\textcolor[HTML]{964b29}{$\\blacksquare$} & 14.0 & \\textcolor[HTML]{990099}{\\textbf{4.1}} & \\textcolor[HTML]{aecf00}{$\\blacksquare$} & 16.7 & \\textcolor[HTML]{990099}{\\textbf{4.7}} & \\textcolor[HTML]{f07b72}{$\\blacksquare$} & 14.5 & \\textcolor[HTML]{990099}{\\textbf{6.6}} & \\textcolor[HTML]{ffbf00}{$\\blacksquare$} & 11.1 & \\textcolor[HTML]{990099}{\\textbf{1.1}} & \\textcolor[HTML]{C68225}{$\\blacksquare$} & 10.0 & \\textcolor[HTML]{990099}{\\textbf{1.1}} \\\\\n",
      "\\textcolor[HTML]{616263}{$\\blacksquare$} & 14.0 & \\textcolor[HTML]{990099}{\\textbf{4.1}} & \\textcolor[HTML]{4b1f6f}{$\\blacksquare$} & 16.7 & \\textcolor[HTML]{990099}{\\textbf{4.7}} & \\textcolor[HTML]{fcd04f}{$\\blacksquare$} & \\textcolor[HTML]{990099}{\\textbf{6.8}} & \\textcolor[HTML]{990099}{\\textbf{6.0}} & \\textcolor[HTML]{a5609d}{$\\blacksquare$} & 11.1 & \\textcolor[HTML]{990099}{\\textbf{1.1}} & \\textcolor[HTML]{00A98D}{$\\blacksquare$} & 10.0 & \\textcolor[HTML]{990099}{\\textbf{1.1}} \\\\\n",
      "\\textcolor[HTML]{95702e}{$\\blacksquare$} & 14.0 & \\textcolor[HTML]{990099}{\\textbf{4.1}} & \\textcolor[HTML]{ff950e}{$\\blacksquare$} & 16.7 & \\textcolor[HTML]{990099}{\\textbf{3.3}} & \\textcolor[HTML]{71c287}{$\\blacksquare$} & \\textcolor[HTML]{990099}{\\textbf{6.8}} & \\textcolor[HTML]{990099}{\\textbf{5.4}} & \\textcolor[HTML]{929600}{$\\blacksquare$} & \\textcolor[HTML]{990099}{\\textbf{9.0}} & \\textcolor[HTML]{990099}{\\textbf{1.1}} & \\textcolor[HTML]{8E971E}{$\\blacksquare$} & \\textcolor[HTML]{990099}{\\textbf{9.0}} & \\textcolor[HTML]{990099}{\\textbf{1.1}} \\\\\n",
      "\\toprule\n",
      "\\multicolumn{3}{c}{Plotly} & \\multicolumn{3}{c}{Seaborn Deep} & \\multicolumn{3}{c}{Tableau 10} & \\multicolumn{3}{c}{Category 10} & \\multicolumn{3}{c}{MATLAB} \\\\\n",
      "\\multicolumn{3}{c}{$J' \\in [54.3, 87.6]$} & \\multicolumn{3}{c}{$J' \\in [49.4, 78.2]$} & \\multicolumn{3}{c}{$J' \\in [51.2, 84.7]$} & \\multicolumn{3}{c}{$J' \\in [45.8, 76.8]$} & \\multicolumn{3}{c}{$J' \\in [38.4, 79.3]$} \\\\ \\cmidrule(r){1-3}\\cmidrule(rl){4-6}\\cmidrule(rl){7-9}\\cmidrule(rl){10-12}\\cmidrule(l){13-15}\n",
      "& $\\min$ & $\\min$ & & $\\min$ & $\\min$ & & $\\min$ & $\\min$ & & $\\min$ & $\\min$ & & $\\min$ & $\\min$ \\\\\n",
      "& $\\Delta E'$ & $\\Delta E_\\text{cvd}$ & & $\\Delta E'$ & $\\Delta E_\\text{cvd}$ & & $\\Delta E'$ & $\\Delta E_\\text{cvd}$ & & $\\Delta E'$ & $\\Delta E_\\text{cvd}$ & & $\\Delta E'$ & $\\Delta E_\\text{cvd}$ \\\\ \\midrule\n",
      "\\textcolor[HTML]{636EFA}{$\\blacksquare$} & 100.0 & 100.0 & \\textcolor[HTML]{4C72B0}{$\\blacksquare$} & 100.0 & 100.0 & \\textcolor[HTML]{4e79a7}{$\\blacksquare$} & 100.0 & 100.0 & \\textcolor[HTML]{1f77b4}{$\\blacksquare$} & 100.0 & 100.0 & \\textcolor[HTML]{0072BD}{$\\blacksquare$} & 100.0 & 100.0 \\\\\n",
      "\\textcolor[HTML]{EF553B}{$\\blacksquare$} & 61.9 & 52.5 & \\textcolor[HTML]{DD8452}{$\\blacksquare$} & 51.4 & 42.4 & \\textcolor[HTML]{f28e2b}{$\\blacksquare$} & 56.5 & 48.5 & \\textcolor[HTML]{ff7f0e}{$\\blacksquare$} & 65.7 & 54.1 & \\textcolor[HTML]{D95319}{$\\blacksquare$} & 63.5 & 49.7 \\\\\n",
      "\\textcolor[HTML]{00CC96}{$\\blacksquare$} & 52.3 & 19.3 & \\textcolor[HTML]{55A868}{$\\blacksquare$} & 37.2 & \\textcolor[HTML]{990099}{\\textbf{5.3}} & \\textcolor[HTML]{e15759}{$\\blacksquare$} & 23.4 & 13.7 & \\textcolor[HTML]{2ca02c}{$\\blacksquare$} & 46.8 & \\textcolor[HTML]{990099}{\\textbf{3.4}} & \\textcolor[HTML]{EDB120}{$\\blacksquare$} & 30.7 & 20.7 \\\\\n",
      "\\textcolor[HTML]{AB63FA}{$\\blacksquare$} & 18.3 & \\textcolor[HTML]{990099}{\\textbf{1.0}} & \\textcolor[HTML]{C44E52}{$\\blacksquare$} & 19.4 & \\textcolor[HTML]{990099}{\\textbf{5.3}} & \\textcolor[HTML]{76b7b2}{$\\blacksquare$} & 23.4 & 13.7 & \\textcolor[HTML]{d62728}{$\\blacksquare$} & 26.1 & \\textcolor[HTML]{990099}{\\textbf{3.4}} & \\textcolor[HTML]{7E2F8E}{$\\blacksquare$} & 30.7 & \\textcolor[HTML]{990099}{\\textbf{10.0}} \\\\\n",
      "\\textcolor[HTML]{FFA15A}{$\\blacksquare$} & 18.3 & \\textcolor[HTML]{990099}{\\textbf{1.0}} & \\textcolor[HTML]{8172B3}{$\\blacksquare$} & 14.1 & \\textcolor[HTML]{990099}{\\textbf{2.4}} & \\textcolor[HTML]{59a14f}{$\\blacksquare$} & 23.4 & \\textcolor[HTML]{990099}{\\textbf{0.8}} & \\textcolor[HTML]{9467bd}{$\\blacksquare$} & 26.1 & \\textcolor[HTML]{990099}{\\textbf{2.0}} & \\textcolor[HTML]{77AC30}{$\\blacksquare$} & 25.6 & \\textcolor[HTML]{990099}{\\textbf{7.7}} \\\\\n",
      "\\textcolor[HTML]{19D3F3}{$\\blacksquare$} & 18.3 & \\textcolor[HTML]{990099}{\\textbf{1.0}} & \\textcolor[HTML]{937860}{$\\blacksquare$} & 14.1 & \\textcolor[HTML]{990099}{\\textbf{2.4}} & \\textcolor[HTML]{edc948}{$\\blacksquare$} & 19.3 & \\textcolor[HTML]{990099}{\\textbf{0.8}} & \\textcolor[HTML]{8c564b}{$\\blacksquare$} & 23.7 & \\textcolor[HTML]{990099}{\\textbf{2.0}} & \\textcolor[HTML]{4DBEEE}{$\\blacksquare$} & 25.6 & \\textcolor[HTML]{990099}{\\textbf{7.7}} \\\\\n",
      "\\textcolor[HTML]{FF6692}{$\\blacksquare$} & 17.1 & \\textcolor[HTML]{990099}{\\textbf{1.0}} & \\textcolor[HTML]{DA8BC3}{$\\blacksquare$} & 14.1 & \\textcolor[HTML]{990099}{\\textbf{2.4}} & \\textcolor[HTML]{b07aa1}{$\\blacksquare$} & 19.3 & \\textcolor[HTML]{990099}{\\textbf{0.8}} & \\textcolor[HTML]{e377c2}{$\\blacksquare$} & 22.9 & \\textcolor[HTML]{990099}{\\textbf{2.0}} & \\textcolor[HTML]{A2142F}{$\\blacksquare$} & 23.3 & \\textcolor[HTML]{990099}{\\textbf{7.7}} \\\\\n",
      "\\textcolor[HTML]{B6E880}{$\\blacksquare$} & 17.1 & \\textcolor[HTML]{990099}{\\textbf{1.0}} & \\textcolor[HTML]{8C8C8C}{$\\blacksquare$} & 13.1 & \\textcolor[HTML]{990099}{\\textbf{2.4}} & \\textcolor[HTML]{ff9da7}{$\\blacksquare$} & 19.3 & \\textcolor[HTML]{990099}{\\textbf{0.8}} & \\textcolor[HTML]{7f7f7f}{$\\blacksquare$} & 20.2 & \\textcolor[HTML]{990099}{\\textbf{2.0}} & & & \\\\\n",
      "\\textcolor[HTML]{FF97FF}{$\\blacksquare$} & 17.1 & \\textcolor[HTML]{990099}{\\textbf{1.0}} & \\textcolor[HTML]{CCB974}{$\\blacksquare$} & 13.1 & \\textcolor[HTML]{990099}{\\textbf{2.4}} & \\textcolor[HTML]{9c755f}{$\\blacksquare$} & 19.3 & \\textcolor[HTML]{990099}{\\textbf{0.8}} & \\textcolor[HTML]{bcbd22}{$\\blacksquare$} & 20.2 & \\textcolor[HTML]{990099}{\\textbf{2.0}} & & & \\\\\n",
      "\\textcolor[HTML]{FECB52}{$\\blacksquare$} & 15.4 & \\textcolor[HTML]{990099}{\\textbf{1.0}} & \\textcolor[HTML]{64B5CD}{$\\blacksquare$} & 13.1 & \\textcolor[HTML]{990099}{\\textbf{2.4}} & \\textcolor[HTML]{bab0ac}{$\\blacksquare$} & 19.3 & \\textcolor[HTML]{990099}{\\textbf{0.8}} & \\textcolor[HTML]{17becf}{$\\blacksquare$} & 20.2 & \\textcolor[HTML]{990099}{\\textbf{2.0}} & & & \\\\\n",
      "\\toprule\n",
      "\\multicolumn{3}{c}{R} & \\multicolumn{3}{c}{Seaborn Colorblind} & \\multicolumn{3}{c}{Tableau Color Blind} & \\multicolumn{3}{c}{Okabe and Ito} & \\multicolumn{3}{c}{Tol Bright} \\\\\n",
      "\\multicolumn{3}{c}{$J' \\in [0.0, 84.8]$} & \\multicolumn{3}{c}{$J' \\in [47.1, 89.6]$} & \\multicolumn{3}{c}{$J' \\in [42.3, 85.1]$} & \\multicolumn{3}{c}{$J' \\in [0.0, 90.7]$} & \\multicolumn{3}{c}{$J' \\in [46.4, 78.4]$} \\\\ \\cmidrule(r){1-3}\\cmidrule(rl){4-6}\\cmidrule(rl){7-9}\\cmidrule(rl){10-12}\\cmidrule(l){13-15}\n",
      "& $\\min$ & $\\min$ & & $\\min$ & $\\min$ & & $\\min$ & $\\min$ & & $\\min$ & $\\min$ & & $\\min$ & $\\min$ \\\\\n",
      "& $\\Delta E'$ & $\\Delta E_\\text{cvd}$ & & $\\Delta E'$ & $\\Delta E_\\text{cvd}$ & & $\\Delta E'$ & $\\Delta E_\\text{cvd}$ & & $\\Delta E'$ & $\\Delta E_\\text{cvd}$ & & $\\Delta E'$ & $\\Delta E_\\text{cvd}$ \\\\ \\midrule\n",
      "\\textcolor[HTML]{000000}{$\\blacksquare$} & 100.0 & 100.0 & \\textcolor[HTML]{0173B2}{$\\blacksquare$} & 100.0 & 100.0 & \\textcolor[HTML]{1170aa}{$\\blacksquare$} & 100.0 & 100.0 & \\textcolor[HTML]{000000}{$\\blacksquare$} & 100.0 & 100.0 & \\textcolor[HTML]{4477AA}{$\\blacksquare$} & 100.0 & 100.0 \\\\\n",
      "\\textcolor[HTML]{df536b}{$\\blacksquare$} & 68.3 & 50.4 & \\textcolor[HTML]{DE8F05}{$\\blacksquare$} & 62.4 & 55.8 & \\textcolor[HTML]{fc7d0b}{$\\blacksquare$} & 66.1 & 54.0 & \\textcolor[HTML]{E69F00}{$\\blacksquare$} & 80.8 & 77.2 & \\textcolor[HTML]{EE6677}{$\\blacksquare$} & 51.3 & 25.0 \\\\\n",
      "\\textcolor[HTML]{61d04f}{$\\blacksquare$} & 59.1 & 17.7 & \\textcolor[HTML]{029E73}{$\\blacksquare$} & 34.2 & 12.8 & \\textcolor[HTML]{a3acb9}{$\\blacksquare$} & 32.2 & 27.9 & \\textcolor[HTML]{56B4E9}{$\\blacksquare$} & 56.8 & 49.3 & \\textcolor[HTML]{228833}{$\\blacksquare$} & 41.2 & \\textcolor[HTML]{990099}{\\textbf{7.4}} \\\\\n",
      "\\textcolor[HTML]{2297e6}{$\\blacksquare$} & 53.0 & 17.7 & \\textcolor[HTML]{D55E00}{$\\blacksquare$} & 16.3 & 10.6 & \\textcolor[HTML]{57606c}{$\\blacksquare$} & 18.4 & 16.8 & \\textcolor[HTML]{009E73}{$\\blacksquare$} & 31.5 & 13.8 & \\textcolor[HTML]{CCBB44}{$\\blacksquare$} & 34.3 & \\textcolor[HTML]{990099}{\\textbf{7.4}} \\\\\n",
      "\\textcolor[HTML]{28e2e5}{$\\blacksquare$} & 30.0 & 12.7 & \\textcolor[HTML]{CC78BC}{$\\blacksquare$} & 16.3 & \\textcolor[HTML]{990099}{\\textbf{9.9}} & \\textcolor[HTML]{5fa2ce}{$\\blacksquare$} & 16.7 & 12.1 & \\textcolor[HTML]{F0E442}{$\\blacksquare$} & 20.8 & 13.8 & \\textcolor[HTML]{66CCEE}{$\\blacksquare$} & 29.9 & \\textcolor[HTML]{990099}{\\textbf{7.4}} \\\\\n",
      "\\textcolor[HTML]{cd0bbc}{$\\blacksquare$} & 24.8 & \\textcolor[HTML]{990099}{\\textbf{8.3}} & \\textcolor[HTML]{CA9161}{$\\blacksquare$} & 13.0 & \\textcolor[HTML]{990099}{\\textbf{5.8}} & \\textcolor[HTML]{c85200}{$\\blacksquare$} & 16.7 & 12.1 & \\textcolor[HTML]{0072B2}{$\\blacksquare$} & 20.8 & 13.1 & \\textcolor[HTML]{AA3377}{$\\blacksquare$} & 23.7 & \\textcolor[HTML]{990099}{\\textbf{7.4}} \\\\\n",
      "\\textcolor[HTML]{f5c710}{$\\blacksquare$} & 24.8 & \\textcolor[HTML]{990099}{\\textbf{8.3}} & \\textcolor[HTML]{FBAFE4}{$\\blacksquare$} & 13.0 & \\textcolor[HTML]{990099}{\\textbf{5.8}} & \\textcolor[HTML]{7b848f}{$\\blacksquare$} & 14.9 & 12.1 & \\textcolor[HTML]{D55E00}{$\\blacksquare$} & 20.8 & 13.1 & \\textcolor[HTML]{BBBBBB}{$\\blacksquare$} & 23.4 & \\textcolor[HTML]{990099}{\\textbf{7.4}} \\\\\n",
      "\\textcolor[HTML]{9e9e9e}{$\\blacksquare$} & 24.8 & \\textcolor[HTML]{990099}{\\textbf{8.3}} & \\textcolor[HTML]{949494}{$\\blacksquare$} & 13.0 & \\textcolor[HTML]{990099}{\\textbf{5.8}} & \\textcolor[HTML]{a3cce9}{$\\blacksquare$} & 13.2 & 11.6 & \\textcolor[HTML]{CC79A7}{$\\blacksquare$} & 20.8 & 11.0 & & & \\\\\n",
      "& & & \\textcolor[HTML]{ECE133}{$\\blacksquare$} & 13.0 & \\textcolor[HTML]{990099}{\\textbf{5.8}} & \\textcolor[HTML]{ffbc79}{$\\blacksquare$} & 13.2 & 11.6 & & & & & & \\\\\n",
      "& & & \\textcolor[HTML]{56B4E9}{$\\blacksquare$} & 13.0 & \\textcolor[HTML]{990099}{\\textbf{5.8}} & \\textcolor[HTML]{c8d0d9}{$\\blacksquare$} & 11.2 & \\textcolor[HTML]{990099}{\\textbf{8.3}} & & & & & & \\\\\n",
      "\\bottomrule\n",
      "\\end{tabular}\n"
     ]
    }
   ],
   "source": [
    "emph_text = r\"\\textcolor[HTML]{990099}{\\textbf{\"\n",
    "threshold = 10\n",
    "rows = 4\n",
    "cols = 5\n",
    "output = r\"\\begin{tabular}{@{}\" + \"crr\" * cols + \"@{}}\\n\"\n",
    "for k in range(rows):\n",
    "    output += r\"\\toprule\" + \"\\n\"\n",
    "    for i in range(cols):\n",
    "        output += r\"\\multicolumn{3}{c}{\" + names[k * cols + i] + \"} & \"\n",
    "    output = output[:-2] + r\"\\\\\" + \"\\n\"\n",
    "    for i in range(cols):\n",
    "        output += (\n",
    "            r\"\\multicolumn{3}{c}{$J' \\in [\"\n",
    "            + f\"{j_ranges[names[k * cols + i]][0]:.1f}, {j_ranges[names[k * cols + i]][1]:.1f}\"\n",
    "            + \"]$} & \"\n",
    "        )\n",
    "    output = output[:-2]\n",
    "    output += (\n",
    "        r\"\\\\ \\cmidrule(r){1-3}\\cmidrule(rl){4-6}\\cmidrule(rl){7-9}\\cmidrule(rl){10-12}\\cmidrule(l){13-15}\"\n",
    "        + \"\\n\"\n",
    "    )\n",
    "    output += r\"& $\\min$ & $\\min$ & \" * (cols - 1) + r\"& $\\min$ & $\\min$ \\\\\" + \"\\n\"\n",
    "    output += (\n",
    "        r\"& $\\Delta E'$ & $\\Delta E_\\text{cvd}$ & \" * (cols - 1)\n",
    "        + r\"& $\\Delta E'$ & $\\Delta E_\\text{cvd}$ \\\\ \\midrule\"\n",
    "        + \"\\n\"\n",
    "    )\n",
    "    for i in range(10):\n",
    "        for j in range(cols):\n",
    "            if i < len(colors[names[k * cols + j]]):\n",
    "                output += (\n",
    "                    r\"\\textcolor[HTML]{\"\n",
    "                    + colors[names[k * cols + j]][i]\n",
    "                    + r\"}{$\\blacksquare$} & \"\n",
    "                )\n",
    "                if results[names[k * cols + j]][1][i] <= threshold:\n",
    "                    output += emph_text\n",
    "                output += f\"{results[names[k * cols + j]][1][i]:.1f}\"\n",
    "                if results[names[k * cols + j]][1][i] <= threshold:\n",
    "                    output += \"}}\"\n",
    "                output += \" & \"\n",
    "                if results[names[k * cols + j]][0][i] <= threshold:\n",
    "                    output += emph_text\n",
    "                output += f\"{results[names[k * cols + j]][0][i]:.1f}\"\n",
    "                if results[names[k * cols + j]][0][i] <= threshold:\n",
    "                    output += \"}}\"\n",
    "                output += \" & \"\n",
    "            else:\n",
    "                output += \"& & & \"\n",
    "        output = output[:-2] + \"\\\\\\\\\\n\"\n",
    "output += r\"\"\"\\bottomrule\n",
    "\\end{tabular}\"\"\"\n",
    "print(output)"
   ]
  },
  {
   "cell_type": "code",
   "execution_count": 30,
   "metadata": {},
   "outputs": [],
   "source": [
    "with open(\"cycle-comparison.json\", \"w\") as outfile:\n",
    "    json.dump({\"colors\": colors, \"results\": {r: results[r].tolist() for r in results}, \"j_ranges\": j_ranges}, outfile, indent=2)"
   ]
  }
 ],
 "metadata": {
  "kernelspec": {
   "display_name": "Python 3",
   "language": "python",
   "name": "python3"
  },
  "language_info": {
   "codemirror_mode": {
    "name": "ipython",
    "version": 3
   },
   "file_extension": ".py",
   "mimetype": "text/x-python",
   "name": "python",
   "nbconvert_exporter": "python",
   "pygments_lexer": "ipython3",
   "version": "3.6.9"
  }
 },
 "nbformat": 4,
 "nbformat_minor": 4
}
