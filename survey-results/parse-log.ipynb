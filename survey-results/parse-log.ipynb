{
 "cells": [
  {
   "cell_type": "code",
   "execution_count": 1,
   "metadata": {},
   "outputs": [],
   "source": [
    "import json\n",
    "import sqlite3\n",
    "import numpy as np\n",
    "import geoip2.database\n",
    "from ua_parser import user_agent_parser"
   ]
  },
  {
   "cell_type": "code",
   "execution_count": 2,
   "metadata": {},
   "outputs": [],
   "source": [
    "LOG_FILE = \"results.log\"\n",
    "DB_FILE = \"results.db\""
   ]
  },
  {
   "cell_type": "markdown",
   "metadata": {},
   "source": [
    "## Populate database"
   ]
  },
  {
   "cell_type": "code",
   "execution_count": 3,
   "metadata": {},
   "outputs": [],
   "source": [
    "conn = sqlite3.connect(DB_FILE)\n",
    "c = conn.cursor()\n",
    "c.execute(\n",
    "    \"\"\"CREATE TABLE sessions\n",
    "             (id text, ip text, ua text, cb text, ww integer, wo text)\"\"\"\n",
    ")\n",
    "c.execute(\n",
    "    \"\"\"CREATE TABLE picks\n",
    "             (id text, ip text, c1 text, c2 text, o text, dm integer, sp integer, cp integer)\"\"\"\n",
    ")\n",
    "\n",
    "with open(LOG_FILE) as log_file:\n",
    "    sessions = picks = bad_picks = 0\n",
    "    for line in log_file:\n",
    "        line = json.loads(line)\n",
    "        if line[\"type\"] == \"session\":\n",
    "            sessions += 1\n",
    "            c.execute(\n",
    "                \"INSERT INTO sessions VALUES (?, ?, ?, ?, ?, ?)\",\n",
    "                (\n",
    "                    line[\"id\"],\n",
    "                    line[\"ip\"],\n",
    "                    line[\"ua\"],\n",
    "                    line[\"cbtq\"],\n",
    "                    line[\"ww\"],\n",
    "                    line[\"wo\"],\n",
    "                ),\n",
    "            )\n",
    "        elif line[\"type\"] == \"pick\":\n",
    "            picks += 1\n",
    "            c.execute(\n",
    "                \"INSERT INTO picks VALUES (?, ?, ?, ?, ?, ?, ?, ?)\",\n",
    "                (\n",
    "                    line[\"id\"],\n",
    "                    line[\"ip\"],\n",
    "                    line[\"c1\"],\n",
    "                    line[\"c2\"],\n",
    "                    line[\"o\"],\n",
    "                    line[\"dm\"],\n",
    "                    line[\"sp\"],\n",
    "                    line[\"cp\"],\n",
    "                ),\n",
    "            )\n",
    "        elif line[\"type\"] in [\"badpick\", \"badmatch\"]:\n",
    "            bad_picks += 1\n",
    "        else:\n",
    "            raise ValueError(f\"Invalid log entry type!: {line['type']}\")\n",
    "\n",
    "if (\n",
    "    c.execute(\"SELECT count(*) FROM sessions\").fetchone()[0]\n",
    "    > c.execute(\"SELECT count(DISTINCT id) FROM sessions\").fetchone()[0]\n",
    "):\n",
    "    raise ValueError(\"There are duplicate sessions!\")\n",
    "\n",
    "ids = [row for row in c.execute(\"SELECT id FROM sessions\")]\n",
    "pick_counts = []\n",
    "empty_sessions = 0\n",
    "for row in ids:\n",
    "    pick_count = c.execute(\"SELECT count(*) FROM picks WHERE id = ?\", row).fetchone()[0]\n",
    "    if pick_count < 1:\n",
    "        c.execute(\"DELETE FROM sessions WHERE id = ?\", row)\n",
    "        empty_sessions += 1\n",
    "    else:\n",
    "        pick_counts.append(pick_count)\n",
    "\n",
    "session_count = sessions - empty_sessions\n",
    "\n",
    "conn.commit()\n",
    "conn.close()"
   ]
  },
  {
   "cell_type": "markdown",
   "metadata": {},
   "source": [
    "## Session statistics"
   ]
  },
  {
   "cell_type": "code",
   "execution_count": 4,
   "metadata": {},
   "outputs": [
    {
     "name": "stdout",
     "output_type": "stream",
     "text": [
      "sessions: 2386\n",
      "empty sessions: 176\n",
      "good sessions: 2210\n",
      "picks: 22423\n",
      "bad picks: 77\n",
      "average picks per session: 10.146153846153846\n",
      "median picks per session: 7.5\n",
      "min picks per session: 1\n",
      "max picks per session: 302\n"
     ]
    }
   ],
   "source": [
    "print(\"sessions:\", sessions)\n",
    "print(\"empty sessions:\", empty_sessions)\n",
    "print(\"good sessions:\", session_count)\n",
    "print(\"picks:\", picks)\n",
    "print(\"bad picks:\", bad_picks)\n",
    "print(\"average picks per session:\", np.mean(pick_counts))\n",
    "print(\"median picks per session:\", np.median(pick_counts))\n",
    "print(\"min picks per session:\", np.min(pick_counts))\n",
    "print(\"max picks per session:\", np.max(pick_counts))"
   ]
  },
  {
   "cell_type": "markdown",
   "metadata": {},
   "source": [
    "## Picks per set length\n",
    "\n",
    "Ten-color sets were disabled shortly after the survey was launched, to avoid diluting the responses for the other set lengths. Thus, there are fewer ten-color responses."
   ]
  },
  {
   "cell_type": "code",
   "execution_count": 5,
   "metadata": {},
   "outputs": [],
   "source": [
    "conn = sqlite3.connect(DB_FILE)\n",
    "c = conn.cursor()"
   ]
  },
  {
   "cell_type": "code",
   "execution_count": 6,
   "metadata": {},
   "outputs": [
    {
     "name": "stdout",
     "output_type": "stream",
     "text": [
      "10347  6\n",
      "10371  8\n",
      " 1705 10\n"
     ]
    }
   ],
   "source": [
    "for num_colors in [6, 8, 10]:\n",
    "    print(f\"{c.execute('SELECT COUNT(c1) FROM picks WHERE length(c1) = ?', (num_colors * 7 - 1,)).fetchone()[0]:5d} {num_colors:2d}\")"
   ]
  },
  {
   "cell_type": "markdown",
   "metadata": {},
   "source": [
    "## Self-reported color-vision-deficiency information\n",
    "\n",
    "Respondees were asked if they had a color-vision deficiency at the start of the survey."
   ]
  },
  {
   "cell_type": "code",
   "execution_count": 7,
   "metadata": {},
   "outputs": [],
   "source": [
    "cvd_types = {\n",
    "    \"na\": \"Not applicable\",\n",
    "    \"dta\": \"Decline to answer\",\n",
    "    \"dk\": \"Don't know\",\n",
    "    \"dy\": \"Deuteranomaly (partial green deficiency) [most common]\",\n",
    "    \"py\": \"Protanomaly (partial red deficiency)\",\n",
    "    \"da\": \"Deuteranopia (complete green deficiency)\",\n",
    "    \"pa\": \"Protanopia (complete red deficiency)\",\n",
    "    \"ty\": \"Tritanomaly (partial blue deficiency) [rare]\",\n",
    "    \"ta\": \"Tritanopia (complete blue deficiency) [rare]\",\n",
    "    \"m\": \"Monochromasy (complete colorblindness) [rare]\",\n",
    "    \"o\": \"Other\",\n",
    "}"
   ]
  },
  {
   "cell_type": "code",
   "execution_count": 8,
   "metadata": {},
   "outputs": [
    {
     "name": "stdout",
     "output_type": "stream",
     "text": [
      "2024 Not applicable\n",
      "  28 Decline to answer\n",
      "  36 Don't know\n",
      "  74 Deuteranomaly (partial green deficiency) [most common]\n",
      "  27 Protanomaly (partial red deficiency)\n",
      "   3 Deuteranopia (complete green deficiency)\n",
      "   6 Protanopia (complete red deficiency)\n",
      "   4 Tritanomaly (partial blue deficiency) [rare]\n",
      "   2 Tritanopia (complete blue deficiency) [rare]\n",
      "   3 Monochromasy (complete colorblindness) [rare]\n",
      "   3 Other\n",
      " 122 CVD total: 5.5%\n"
     ]
    }
   ],
   "source": [
    "total_cvd_count = 0\n",
    "for t in cvd_types:\n",
    "    count = c.execute('SELECT COUNT(cb) FROM sessions WHERE cb = ?', (t,)).fetchone()[0]\n",
    "    print(f'{count:4d}', cvd_types[t])\n",
    "    if t not in ['na', 'dta', 'dk']:\n",
    "        total_cvd_count += count\n",
    "print(f'{total_cvd_count:4d} CVD total: {total_cvd_count / session_count * 100:.1f}%')"
   ]
  },
  {
   "cell_type": "markdown",
   "metadata": {},
   "source": [
    "## Screen size information\n",
    "\n",
    "Horizontal screen resolution was recorded for each user session, rounded to the nearest 100px. The screen aspect ratio, landscape or portrait, was also recorded (square was recorded as landscape)."
   ]
  },
  {
   "cell_type": "code",
   "execution_count": 9,
   "metadata": {},
   "outputs": [
    {
     "name": "stdout",
     "output_type": "stream",
     "text": [
      "  0  100px\n",
      "  0  200px\n",
      " 34  300px\n",
      "318  400px\n",
      " 11  500px\n",
      "  8  600px\n",
      "  5  700px\n",
      " 20  800px\n",
      " 10  900px\n",
      " 46 1000px\n",
      " 37 1100px\n",
      " 73 1200px\n",
      "193 1300px\n",
      "295 1400px\n",
      "187 1500px\n",
      " 93 1600px\n",
      "106 1700px\n",
      " 35 1800px\n",
      "593 1900px\n",
      " 22 2000px\n",
      "  6 2100px\n",
      " 10 2200px\n",
      "  8 2300px\n",
      "  5 2400px\n",
      " 10 2500px\n",
      " 72 2600px\n",
      "  1 2700px\n",
      "  3 2800px\n",
      "  1 2900px\n",
      "  1 3000px\n",
      "  1 3100px\n",
      "  0 3200px\n",
      "  0 3300px\n",
      "  2 3400px\n",
      "  0 3500px\n",
      "  1 3600px\n",
      "  0 3700px\n",
      "  3 3800px\n",
      "  0 3900px\n",
      "  0 4000px\n"
     ]
    }
   ],
   "source": [
    "for i in range(1, 41):\n",
    "    print(f\"{c.execute('SELECT COUNT(ww) FROM sessions WHERE ww = ?', (i,)).fetchone()[0]:3d} {i * 100:4d}px\")"
   ]
  },
  {
   "cell_type": "code",
   "execution_count": 10,
   "metadata": {},
   "outputs": [
    {
     "name": "stdout",
     "output_type": "stream",
     "text": [
      "l 1779\n",
      "p  431\n"
     ]
    }
   ],
   "source": [
    "for i in ['l', 'p']:\n",
    "    print(i, f\"{c.execute('SELECT COUNT(wo) FROM sessions WHERE wo = ?', (i,)).fetchone()[0]:4d}\")"
   ]
  },
  {
   "cell_type": "markdown",
   "metadata": {},
   "source": [
    "## Country derived from IP address\n",
    "\n",
    "The last version of the MaxMind GeoLite2 database that was available under a CC BY-SA 4.0 license is used. It's from 2019-12-24, which was in the middle of the survey period."
   ]
  },
  {
   "cell_type": "code",
   "execution_count": 11,
   "metadata": {},
   "outputs": [],
   "source": [
    "geoip_reader = geoip2.database.Reader('GeoLite2-Country_20191224.mmdb')"
   ]
  },
  {
   "cell_type": "code",
   "execution_count": 12,
   "metadata": {},
   "outputs": [],
   "source": [
    "countries = {}\n",
    "for row in c.execute(f'SELECT ip FROM sessions'):\n",
    "    cc = geoip_reader.country(row[0]).country.iso_code\n",
    "    if cc not in countries:\n",
    "        countries[cc] = 0\n",
    "    countries[cc] += 1"
   ]
  },
  {
   "cell_type": "code",
   "execution_count": 13,
   "metadata": {},
   "outputs": [
    {
     "name": "stdout",
     "output_type": "stream",
     "text": [
      "644 US\n",
      "213 DE\n",
      "140 GB\n",
      "129 JP\n",
      " 85 CA\n",
      " 67 FR\n",
      " 60 IT\n",
      " 57 BR\n",
      " 57 AU\n",
      " 51 IN\n",
      " 43 NL\n",
      " 38 RU\n",
      " 34 CN\n",
      " 33 CH\n",
      " 30 PL\n",
      " 30 TR\n",
      " 27 AT\n",
      " 27 ES\n",
      " 22 BE\n",
      " 19 SE\n",
      " 19 FI\n",
      " 18 CZ\n",
      " 17 HU\n",
      " 16 NO\n",
      " 16 AR\n",
      " 16 MX\n",
      " 15 ZA\n",
      " 15 DK\n",
      " 15 RO\n",
      " 15 ID\n",
      " 14 PT\n",
      " 14 CO\n",
      " 10 HK\n",
      " 10 NZ\n",
      " 10 PE\n",
      "  9 CL\n",
      "  9 TW\n",
      "  8 UA\n",
      "  8 VN\n",
      "  8 PK\n",
      "  8 GR\n",
      "  7 EE\n",
      "  6 IE\n",
      "  6 SG\n",
      "  6 BY\n",
      "  6 IR\n",
      "  6 BG\n",
      "  5 IL\n",
      "  5 KR\n",
      "  5 MY\n",
      "  5 HR\n",
      "  5 LV\n",
      "  4 SI\n",
      "  4 TH\n",
      "  4 BD\n",
      "  4 MA\n",
      "  4 SK\n",
      "  4 PH\n",
      "  4 AE\n",
      "  3 None\n",
      "  3 LB\n",
      "  3 SA\n",
      "  3 IQ\n",
      "  2 LT\n",
      "  2 BA\n",
      "  2 RS\n",
      "  2 UZ\n",
      "  1 CU\n",
      "  1 RW\n",
      "  1 MV\n",
      "  1 SD\n",
      "  1 NG\n",
      "  1 KE\n",
      "  1 LU\n",
      "  1 RE\n",
      "  1 JM\n",
      "  1 BS\n",
      "  1 MW\n",
      "  1 LK\n",
      "  1 GE\n",
      "  1 NP\n",
      "  1 KZ\n",
      "  1 CR\n",
      "  1 EC\n",
      "  1 PA\n",
      "  1 AZ\n",
      "  1 MD\n",
      "  1 AL\n",
      "  1 CY\n",
      "  1 QA\n",
      "  1 BB\n"
     ]
    }
   ],
   "source": [
    "for i in sorted(countries.items(), key=lambda i: i[1], reverse=True):\n",
    "    print(f'{i[1]:3d} {i[0]}')"
   ]
  },
  {
   "cell_type": "markdown",
   "metadata": {},
   "source": [
    "## Browser information\n",
    "\n",
    "As derived from user-agent strings"
   ]
  },
  {
   "cell_type": "code",
   "execution_count": 14,
   "metadata": {},
   "outputs": [],
   "source": [
    "browser = {}\n",
    "os = {}\n",
    "device = {}\n",
    "for row in c.execute(f'SELECT ua FROM sessions'):\n",
    "    ua = user_agent_parser.Parse(row[0])\n",
    "    if ua['user_agent']['family'] not in browser:\n",
    "        browser[ua['user_agent']['family']] = 0\n",
    "    browser[ua['user_agent']['family']] += 1\n",
    "    if ua['os']['family'] not in os:\n",
    "        os[ua['os']['family']] = 0\n",
    "    os[ua['os']['family']] += 1\n",
    "    if ua['device']['family'] not in device:\n",
    "        device[ua['device']['family']] = 0\n",
    "    device[ua['device']['family']] += 1"
   ]
  },
  {
   "cell_type": "code",
   "execution_count": 15,
   "metadata": {},
   "outputs": [
    {
     "name": "stdout",
     "output_type": "stream",
     "text": [
      "1275 Chrome\n",
      " 537 Firefox\n",
      " 186 Mobile Safari UI/WKWebView\n",
      " 106 Apple Mail\n",
      "  47 Android\n",
      "  26 Firefox Mobile\n",
      "  15 Chromium\n",
      "  12 Other\n",
      "   2 Safari\n",
      "   1 Dragon\n",
      "   1 Firefox iOS\n",
      "   1 ekoobot\n",
      "   1 Amazon Silk\n"
     ]
    }
   ],
   "source": [
    "for i in sorted(browser.items(), key=lambda i: i[1], reverse=True):\n",
    "    print(f'{i[1]:4d} {i[0]}')"
   ]
  },
  {
   "cell_type": "code",
   "execution_count": 16,
   "metadata": {},
   "outputs": [
    {
     "name": "stdout",
     "output_type": "stream",
     "text": [
      " 999 Windows\n",
      " 450 Mac OS X\n",
      " 212 Android\n",
      " 199 Linux\n",
      " 187 iOS\n",
      " 138 Ubuntu\n",
      "  13 Fedora\n",
      "  12 Chrome OS\n"
     ]
    }
   ],
   "source": [
    "for i in sorted(os.items(), key=lambda i: i[1], reverse=True):\n",
    "    print(f'{i[1]:4d} {i[0]}')"
   ]
  },
  {
   "cell_type": "code",
   "execution_count": 17,
   "metadata": {},
   "outputs": [
    {
     "name": "stdout",
     "output_type": "stream",
     "text": [
      "1360 Other\n",
      " 450 Mac\n",
      " 164 iPhone\n",
      "  27 Generic Smartphone\n",
      "  22 iPad\n",
      "   7 OnePlus ONEPLUS A3003\n",
      "   6 Pixel\n",
      "   4 ANE-LX2J\n",
      "   4 Samsung SM-G955U\n",
      "   4 Samsung SM-G950F\n",
      "   4 Samsung SM-G950U\n",
      "   4 Samsung SM-N950U\n",
      "   3 OnePlus ONEPLUS A5010\n",
      "   3 Moto G (5\n",
      "   2 SO-04H\n",
      "   2 Generic Tablet\n",
      "   2 WAS-LX2J\n",
      "   2 Samsung SM-G930F\n",
      "   2 SOV36\n",
      "   2 KFSUWI\n",
      "   2 moto g(6\n",
      "   2 SO-01J\n",
      "   2 Pixel 3\n",
      "   2 moto x4\n",
      "   2 Huawei ANE-LX1\n",
      "   2 Samsung SM-N960U\n",
      "   2 Pixel XL\n",
      "   2 Moto G (5S\n",
      "   2 D6603\n",
      "   1 XiaoMi Redmi 4X\n",
      "   1 OnePlus ONEPLUS A6003\n",
      "   1 Asus Nexus 7\n",
      "   1 Moto G Play\n",
      "   1 Moto E (4\n",
      "   1 Samsung SM-T535\n",
      "   1 Asus X008D\n",
      "   1 WAS-LX1A\n",
      "   1 XT1069\n",
      "   1 E6653\n",
      "   1 Samsung SM-J320A\n",
      "   1 Samsung SM-G955F\n",
      "   1 Huawei CAM-L03\n",
      "   1 Xperia Z4 Tablet Wifi\n",
      "   1 SO-01K\n",
      "   1 SOV32\n",
      "   1 OnePlus ONEPLUS A6010\n",
      "   1 SHV40\n",
      "   1 SO-02J\n",
      "   1 Asus Z017DA\n",
      "   1 Nexus 6\n",
      "   1 601SO\n",
      "   1 G8142\n",
      "   1 Samsung SM-A310F\n",
      "   1 SH-01K\n",
      "   1 SCH-I535\n",
      "   1 SO-01H\n",
      "   1 BBB100-6\n",
      "   1 FTJ152C\n",
      "   1 iPod\n",
      "   1 Samsung SM-T285M\n",
      "   1 XT1039\n",
      "   1 d-01J\n",
      "   1 SO-02K\n",
      "   1 SC-02H\n",
      "   1 SGP612\n",
      "   1 SH-04H\n",
      "   1 Samsung SM-J727T\n",
      "   1 KYV35\n",
      "   1 Samsung SM-G960U1\n",
      "   1 Samsung SM-G891A\n",
      "   1 Samsung SM-T700\n",
      "   1 Samsung SM-J737V\n",
      "   1 PRO 6\n",
      "   1 Samsung SM-G960F\n",
      "   1 Samsung SM-G930V\n",
      "   1 Samsung SM-G960W\n",
      "   1 LG-D802\n",
      "   1 OnePlus ONEPLUS A6000\n",
      "   1 Huawei EML-L09\n",
      "   1 Samsung SM-G930T\n",
      "   1 Huawei Nexus 6P\n",
      "   1 OnePlus ONEPLUS A5000\n",
      "   1 Samsung SM-A520F\n",
      "   1 Samsung SM-G960U\n",
      "   1 XiaoMi Redmi Note 3\n",
      "   1 LG-H932\n",
      "   1 Samsung SM-A320FL\n",
      "   1 LG-H873\n",
      "   1 ZTE A2017U\n",
      "   1 Moto Z2 Play\n",
      "   1 Samsung SM-G965U\n",
      "   1 Samsung SM-G925F\n",
      "   1 A37fw\n",
      "   1 Huawei EML-L29\n",
      "   1 Samsung SM-G935A\n",
      "   1 Huawei FIG-LX1\n",
      "   1 D5803\n",
      "   1 Samsung SM-J500F\n",
      "   1 Samsung SM-G935F\n",
      "   1 Pixel 2 XL\n",
      "   1 HTC One M9\n",
      "   1 Samsung SM-G570F\n",
      "   1 Samsung SM-J510FN\n",
      "   1 Samsung SM-N960F\n",
      "   1 Huawei FRD-L09\n",
      "   1 T10(E3C6\n",
      "   1 LM-Q710(FGN\n",
      "   1 Samsung SM-J600G\n",
      "   1 TECNO KA7\n",
      "   1 SNE-LX1\n",
      "   1 OnePlus ONE A2003\n",
      "   1 S31\n",
      "   1 A50Style_Plus\n",
      "   1 XiaoMi Redmi 3\n",
      "   1 Spider\n",
      "   1 Huawei BLA-L09\n",
      "   1 SM-T720\n",
      "   1 Samsung SM-G970F\n",
      "   1 Huawei BKL-L09\n",
      "   1 CPH1969\n",
      "   1 Infinix X626\n",
      "   1 Kindle\n",
      "   1 SKR-H0\n",
      "   1 Samsung SM-N976U\n",
      "   1 Pixel 3a\n",
      "   1 XiaoMi Redmi Note 7\n",
      "   1 Samsung SM-A520W\n",
      "   1 Pixel 3 XL\n",
      "   1 Huawei POT-LX1\n",
      "   1 Lenovo K33a42\n",
      "   1 Huawei PRA-LX1\n",
      "   1 XiaoMi MI 8 Lite\n",
      "   1 Samsung SM-N970F\n",
      "   1 Samsung SM-G610F\n",
      "   1 Pixel 4\n",
      "   1 Pixel 2\n",
      "   1 HTC U11 life\n",
      "   1 Huawei DRA-LX5\n",
      "   1 moto g(8\n",
      "   1 GM1911\n",
      "   1 Samsung SM-G9880\n",
      "   1 Asus X01BDA\n",
      "   1 Huawei JNY-LX2\n",
      "   1 Samsung SM-G965F\n",
      "   1 Samsung SM-J737T1\n",
      "   1 BBE100-4\n",
      "   1 RMX2030\n"
     ]
    }
   ],
   "source": [
    "for i in sorted(device.items(), key=lambda i: i[1], reverse=True):\n",
    "    print(f'{i[1]:4d} {i[0]}')"
   ]
  },
  {
   "cell_type": "markdown",
   "metadata": {},
   "source": [
    "## Drop sessions table for privacy reasons"
   ]
  },
  {
   "cell_type": "code",
   "execution_count": 18,
   "metadata": {},
   "outputs": [],
   "source": [
    "c.execute(\"DROP TABLE sessions\")\n",
    "c.execute(\"VACUUM\")\n",
    "conn.commit()\n",
    "conn.close()"
   ]
  }
 ],
 "metadata": {
  "kernelspec": {
   "display_name": "Python 3",
   "language": "python",
   "name": "python3"
  },
  "language_info": {
   "codemirror_mode": {
    "name": "ipython",
    "version": 3
   },
   "file_extension": ".py",
   "mimetype": "text/x-python",
   "name": "python",
   "nbconvert_exporter": "python",
   "pygments_lexer": "ipython3",
   "version": "3.6.9"
  }
 },
 "nbformat": 4,
 "nbformat_minor": 4
}
