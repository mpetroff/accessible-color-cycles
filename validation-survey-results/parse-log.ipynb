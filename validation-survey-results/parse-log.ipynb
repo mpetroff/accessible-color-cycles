{
 "cells": [
  {
   "cell_type": "code",
   "execution_count": 1,
   "metadata": {},
   "outputs": [],
   "source": [
    "import json\n",
    "import sqlite3\n",
    "import numpy as np"
   ]
  },
  {
   "cell_type": "code",
   "execution_count": 2,
   "metadata": {},
   "outputs": [],
   "source": [
    "LOG_FILE = \"results.log\"\n",
    "DB_FILE = \"results.db\""
   ]
  },
  {
   "cell_type": "markdown",
   "metadata": {},
   "source": [
    "## Populate database"
   ]
  },
  {
   "cell_type": "code",
   "execution_count": 3,
   "metadata": {},
   "outputs": [],
   "source": [
    "conn = sqlite3.connect(DB_FILE)\n",
    "c = conn.cursor()\n",
    "c.execute(\n",
    "    \"\"\"CREATE TABLE sessions\n",
    "             (id text, ip text, ua text, cb text, ww integer, wo text)\"\"\"\n",
    ")\n",
    "c.execute(\n",
    "    \"\"\"CREATE TABLE picks\n",
    "             (id text, ip text, c1 text, c2 text, o text, dm integer, sp integer, cp integer, np integer)\"\"\"\n",
    ")\n",
    "\n",
    "with open(LOG_FILE) as log_file:\n",
    "    sessions = picks = bad_picks = 0\n",
    "    for line in log_file:\n",
    "        line = json.loads(line)\n",
    "        if line[\"type\"] == \"session\":\n",
    "            sessions += 1\n",
    "            c.execute(\n",
    "                \"INSERT INTO sessions VALUES (?, ?, ?, ?, ?, ?)\",\n",
    "                (\n",
    "                    line[\"id\"],\n",
    "                    line[\"ip\"],\n",
    "                    line[\"ua\"],\n",
    "                    line[\"cbtq\"],\n",
    "                    line[\"ww\"],\n",
    "                    line[\"wo\"],\n",
    "                ),\n",
    "            )\n",
    "        elif line[\"type\"] == \"pick\":\n",
    "            picks += 1\n",
    "            c.execute(\n",
    "                \"INSERT INTO picks VALUES (?, ?, ?, ?, ?, ?, ?, ?, ?)\",\n",
    "                (\n",
    "                    line[\"id\"],\n",
    "                    line[\"ip\"],\n",
    "                    line[\"c1\"],\n",
    "                    line[\"c2\"],\n",
    "                    line[\"o\"],\n",
    "                    line[\"dm\"],\n",
    "                    line[\"sp\"],\n",
    "                    line[\"cp\"],\n",
    "                    line[\"np\"],\n",
    "                ),\n",
    "            )\n",
    "        elif line[\"type\"] in [\"badpick\", \"badmatch\"]:\n",
    "            bad_picks += 1\n",
    "        else:\n",
    "            raise ValueError(f\"Invalid log entry type!: {line['type']}\")\n",
    "\n",
    "if (\n",
    "    c.execute(\"SELECT count(*) FROM sessions\").fetchone()[0]\n",
    "    > c.execute(\"SELECT count(DISTINCT id) FROM sessions\").fetchone()[0]\n",
    "):\n",
    "    raise ValueError(\"There are duplicate sessions!\")\n",
    "\n",
    "ids = [row for row in c.execute(\"SELECT id FROM sessions\")]\n",
    "pick_counts = []\n",
    "empty_sessions = 0\n",
    "for row in ids:\n",
    "    pick_count = c.execute(\"SELECT count(*) FROM picks WHERE id = ?\", row).fetchone()[0]\n",
    "    if pick_count < 100:\n",
    "        c.execute(\"DELETE FROM sessions WHERE id = ?\", row)\n",
    "        c.execute(\"DELETE FROM picks WHERE id = ?\", row)\n",
    "        empty_sessions += 1\n",
    "    else:\n",
    "        pick_counts.append(pick_count)\n",
    "\n",
    "session_count = sessions - empty_sessions\n",
    "\n",
    "conn.commit()\n",
    "conn.close()"
   ]
  },
  {
   "cell_type": "markdown",
   "metadata": {},
   "source": [
    "## Session statistics"
   ]
  },
  {
   "cell_type": "code",
   "execution_count": 4,
   "metadata": {},
   "outputs": [
    {
     "name": "stdout",
     "output_type": "stream",
     "text": [
      "sessions: 10\n",
      "empty sessions: 3\n",
      "good sessions: 7\n",
      "picks: 756\n",
      "bad picks: 0\n",
      "average picks per session: 100.0\n",
      "median picks per session: 100.0\n",
      "min picks per session: 100\n",
      "max picks per session: 100\n"
     ]
    }
   ],
   "source": [
    "print(\"sessions:\", sessions)\n",
    "print(\"empty sessions:\", empty_sessions)\n",
    "print(\"good sessions:\", session_count)\n",
    "print(\"picks:\", picks)\n",
    "print(\"bad picks:\", bad_picks)\n",
    "print(\"average picks per session:\", np.mean(pick_counts))\n",
    "print(\"median picks per session:\", np.median(pick_counts))\n",
    "print(\"min picks per session:\", np.min(pick_counts))\n",
    "print(\"max picks per session:\", np.max(pick_counts))"
   ]
  },
  {
   "cell_type": "markdown",
   "metadata": {},
   "source": [
    "## Picks per set length\n",
    "\n",
    "Repeat survey only looked at eight-color sets."
   ]
  },
  {
   "cell_type": "code",
   "execution_count": 5,
   "metadata": {},
   "outputs": [],
   "source": [
    "conn = sqlite3.connect(DB_FILE)\n",
    "c = conn.cursor()"
   ]
  },
  {
   "cell_type": "code",
   "execution_count": 6,
   "metadata": {},
   "outputs": [
    {
     "name": "stdout",
     "output_type": "stream",
     "text": [
      "    0  6\n",
      "  700  8\n",
      "    0 10\n"
     ]
    }
   ],
   "source": [
    "for num_colors in [6, 8, 10]:\n",
    "    print(f\"{c.execute('SELECT COUNT(c1) FROM picks WHERE length(c1) = ?', (num_colors * 7 - 1,)).fetchone()[0]:5d} {num_colors:2d}\")"
   ]
  },
  {
   "cell_type": "markdown",
   "metadata": {},
   "source": [
    "## Self-reported color-vision-deficiency information\n",
    "\n",
    "Respondees were asked if they had a color-vision deficiency at the start of the survey."
   ]
  },
  {
   "cell_type": "code",
   "execution_count": 7,
   "metadata": {},
   "outputs": [],
   "source": [
    "cvd_types = {\n",
    "    \"na\": \"Not applicable\",\n",
    "    \"dta\": \"Decline to answer\",\n",
    "    \"dk\": \"Don't know\",\n",
    "    \"dy\": \"Deuteranomaly (partial green deficiency) [most common]\",\n",
    "    \"py\": \"Protanomaly (partial red deficiency)\",\n",
    "    \"da\": \"Deuteranopia (complete green deficiency)\",\n",
    "    \"pa\": \"Protanopia (complete red deficiency)\",\n",
    "    \"ty\": \"Tritanomaly (partial blue deficiency) [rare]\",\n",
    "    \"ta\": \"Tritanopia (complete blue deficiency) [rare]\",\n",
    "    \"m\": \"Monochromasy (complete colorblindness) [rare]\",\n",
    "    \"o\": \"Other\",\n",
    "}"
   ]
  },
  {
   "cell_type": "code",
   "execution_count": 8,
   "metadata": {},
   "outputs": [
    {
     "name": "stdout",
     "output_type": "stream",
     "text": [
      "   6 Not applicable\n",
      "   0 Decline to answer\n",
      "   0 Don't know\n",
      "   0 Deuteranomaly (partial green deficiency) [most common]\n",
      "   1 Protanomaly (partial red deficiency)\n",
      "   0 Deuteranopia (complete green deficiency)\n",
      "   0 Protanopia (complete red deficiency)\n",
      "   0 Tritanomaly (partial blue deficiency) [rare]\n",
      "   0 Tritanopia (complete blue deficiency) [rare]\n",
      "   0 Monochromasy (complete colorblindness) [rare]\n",
      "   0 Other\n",
      "   1 CVD total: 14.3%\n"
     ]
    }
   ],
   "source": [
    "total_cvd_count = 0\n",
    "for t in cvd_types:\n",
    "    count = c.execute('SELECT COUNT(cb) FROM sessions WHERE cb = ?', (t,)).fetchone()[0]\n",
    "    print(f'{count:4d}', cvd_types[t])\n",
    "    if t not in ['na', 'dta', 'dk']:\n",
    "        total_cvd_count += count\n",
    "print(f'{total_cvd_count:4d} CVD total: {total_cvd_count / session_count * 100:.1f}%')"
   ]
  },
  {
   "cell_type": "markdown",
   "metadata": {},
   "source": [
    "## Drop sessions table for privacy reasons"
   ]
  },
  {
   "cell_type": "code",
   "execution_count": 9,
   "metadata": {},
   "outputs": [],
   "source": [
    "c.execute(\"DROP TABLE sessions\")\n",
    "c.execute(\"VACUUM\")\n",
    "conn.commit()\n",
    "conn.close()"
   ]
  }
 ],
 "metadata": {
  "kernelspec": {
   "display_name": "Python 3",
   "language": "python",
   "name": "python3"
  },
  "language_info": {
   "codemirror_mode": {
    "name": "ipython",
    "version": 3
   },
   "file_extension": ".py",
   "mimetype": "text/x-python",
   "name": "python",
   "nbconvert_exporter": "python",
   "pygments_lexer": "ipython3",
   "version": "3.6.9"
  }
 },
 "nbformat": 4,
 "nbformat_minor": 4
}
