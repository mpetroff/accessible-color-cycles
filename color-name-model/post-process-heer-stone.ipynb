{
 "cells": [
  {
   "cell_type": "code",
   "execution_count": 1,
   "metadata": {},
   "outputs": [],
   "source": [
    "import json\n",
    "import numpy as np\n",
    "import colorspacious\n",
    "import scipy.interpolate"
   ]
  },
  {
   "cell_type": "markdown",
   "metadata": {},
   "source": [
    "# Post-processing data from Heer & Stone (2012)\n",
    "\n",
    "Heer & Stone (2012) produced an English color naming model consisting of 153 names by analyzing data from the xkcd color survey. Along with naming colors, the model can also be used to define a color saliency metric. However, the model has an excessive number of colors, so most of the colors in the model are not the preferred color of any point in the color gamut. Additionally, synonyms are not merged. Both the excessive number of colors and the lack of synonym merging reduce the effectiveness of the color saliency metric, since neither the presence of rarely used alternative names nor the presence of synonyms negatively affects the ease to which a given color can be named. Furthermore, the lack of synonym merging reduces the accuracy of the model's color naming in cases where a third name is more probable than either of two synonyms but less probable than the combined probability of the synonyms, since the third name will be used instead of that of the synonyms. To remedy these shortcomings, synonyms should be merged, and rarely used colors should be eliminated.\n",
    "\n",
    "## Loading Heer & Stone (2012) data\n",
    "\n",
    "The results JSON file is loaded, and the counts table is constructed. Additionally, helper functions and a Hellinger distance function are defined."
   ]
  },
  {
   "cell_type": "code",
   "execution_count": 2,
   "metadata": {},
   "outputs": [],
   "source": [
    "with open(\"c3_data.json\") as infile:\n",
    "    c3_data = json.load(infile)\n",
    "\n",
    "# Use US English spelling\n",
    "c3_data[\"terms\"] = [c.replace(\"grey\", \"gray\") for c in c3_data[\"terms\"]]\n",
    "\n",
    "W = len(c3_data[\"terms\"])\n",
    "\n",
    "c3_color = np.array(c3_data[\"color\"])\n",
    "c3_color = c3_color.reshape((c3_color.size // 3, 3))\n",
    "\n",
    "# Parse count table\n",
    "T = {\n",
    "    c3_data[\"T\"][i * 2]: c3_data[\"T\"][i * 2 + 1] for i in range(len(c3_data[\"T\"]) // 2)\n",
    "}\n",
    "\n",
    "# Build lookup table\n",
    "cmap = {tuple(c3_color[i]): i for i in range(c3_color.shape[0])}\n",
    "\n",
    "# Construct counts\n",
    "ccount = np.zeros(c3_color.shape[0], dtype=int)\n",
    "tcount = np.zeros(W, dtype=int)\n",
    "for idx in T:\n",
    "    c = idx // W\n",
    "    w = idx % W\n",
    "    if idx in T:\n",
    "        ccount[c] += T[idx]\n",
    "        tcount[w] += T[idx]"
   ]
  },
  {
   "cell_type": "code",
   "execution_count": 3,
   "metadata": {},
   "outputs": [],
   "source": [
    "def color_name_idx_from_cmap_idx(idx):\n",
    "    \"\"\"Determine color name based on a color index.\"\"\"\n",
    "    cc = idx * W\n",
    "    scores = {w: T[cc + w] for w in range(W) if cc + w in T}\n",
    "    return max(scores, key=scores.get)"
   ]
  },
  {
   "cell_type": "code",
   "execution_count": 4,
   "metadata": {},
   "outputs": [],
   "source": [
    "def color_name_prob_from_cmap_idx(idx):\n",
    "    \"\"\"Determine color name probabilities based on a color index.\"\"\"\n",
    "    cc = idx * W\n",
    "    scores = [T[cc + w] if cc + w in T else 0 for w in range(W)]\n",
    "    return scores"
   ]
  },
  {
   "cell_type": "code",
   "execution_count": 5,
   "metadata": {},
   "outputs": [],
   "source": [
    "def color_hellinger(a, b):\n",
    "    \"\"\"Calculate Hellinger distance between two color indices.\"\"\"\n",
    "    bc = 0\n",
    "    z = np.sqrt(tcount[a] * tcount[b])\n",
    "    for c in range(len(c3_data[\"color\"])):\n",
    "        pa = T[c * W + a] if c * W + a in T else 0\n",
    "        pb = T[c * W + b] if c * W + b in T else 0\n",
    "        bc += np.sqrt(pa * pb)\n",
    "    return np.sqrt(1 - bc / z)"
   ]
  },
  {
   "cell_type": "markdown",
   "metadata": {},
   "source": [
    "## Find synonyms\n",
    "\n",
    "To find synonyms, a list of colors is constructed such that each color is the preferred color for at least one voxel in the Lab color gamut. Then, synonyms are found by looking for other color names with a Hellinger distance of <0.25 from each of the preferred colors."
   ]
  },
  {
   "cell_type": "code",
   "execution_count": 6,
   "metadata": {},
   "outputs": [
    {
     "name": "stdout",
     "output_type": "stream",
     "text": [
      "0 1322 green\n",
      "1 1015 blue\n",
      "2 1264 purple\n",
      "3 314 red\n",
      "4 897 pink\n",
      "5 270 yellow\n",
      "6 307 orange\n",
      "7 713 brown\n",
      "8 216 teal\n",
      "9 217 lightblue\n",
      "10 453 gray\n",
      "11 12 limegreen\n",
      "12 39 magenta\n",
      "13 92 lightgreen\n",
      "16 52 cyan\n",
      "19 109 darkgreen\n",
      "21 124 olive\n",
      "22 113 navyblue\n",
      "23 114 lavender\n",
      "25 140 black\n",
      "29 154 tan\n",
      "33 4 yellowgreen\n",
      "34 112 maroon\n",
      "35 24 darkpurple\n",
      "36 52 salmon\n",
      "37 72 peach\n",
      "38 65 beige\n",
      "41 15 mustard\n",
      "49 18 mauve\n",
      "57 2 lightpink\n",
      "68 1 darkteal\n",
      "75 22 white\n",
      "88 1 offwhite\n",
      "33\n"
     ]
    }
   ],
   "source": [
    "# Locate colors that are the preferred color for at least one voxel\n",
    "names_idx_idx = np.array([color_name_idx_from_cmap_idx(i) for i in range(len(cmap))])\n",
    "num_names = 0\n",
    "remaining_name_idx = []\n",
    "for i in range(W):\n",
    "    if names_idx_idx[names_idx_idx == i].size > 0:\n",
    "        print(i, names_idx_idx[names_idx_idx == i].size, c3_data[\"terms\"][i])\n",
    "        num_names += 1\n",
    "        remaining_name_idx.append(i)\n",
    "print(num_names)"
   ]
  },
  {
   "cell_type": "code",
   "execution_count": 7,
   "metadata": {},
   "outputs": [
    {
     "name": "stdout",
     "output_type": "stream",
     "text": [
      "green:\n",
      "blue:\n",
      "purple:\n",
      "0.13934000761791623 violet\n",
      "red:\n",
      "pink:\n",
      "yellow:\n",
      "orange:\n",
      "brown:\n",
      "teal:\n",
      "0.20058096340649395 turquoise\n",
      "0.22216206461580287 bluegreen\n",
      "lightblue:\n",
      "0.1399636840687085 skyblue\n",
      "gray:\n",
      "limegreen:\n",
      "0.15156836542273974 lime\n",
      "magenta:\n",
      "0.15614773714168304 fuchsia\n",
      "lightgreen:\n",
      "cyan:\n",
      "0.24624808916839397 aqua\n",
      "darkgreen:\n",
      "0.16059734080569615 forestgreen\n",
      "olive:\n",
      "navyblue:\n",
      "0.18581406431217756 darkblue\n",
      "lavender:\n",
      "0.20054279242594514 lightpurple\n",
      "0.13068359809102645 lilac\n",
      "black:\n",
      "tan:\n",
      "yellowgreen:\n",
      "0.22223365451259827 greenyellow\n",
      "0.21869958196766523 chartreuse\n",
      "maroon:\n",
      "0.21133744257750556 burgundy\n",
      "darkpurple:\n",
      "salmon:\n",
      "peach:\n",
      "beige:\n",
      "mustard:\n",
      "0.18176374441303011 gold\n",
      "0.21610061396993244 darkyellow\n",
      "0.23209732977246744 mustardyellow\n",
      "mauve:\n",
      "lightpink:\n",
      "darkteal:\n",
      "white:\n",
      "offwhite:\n"
     ]
    }
   ],
   "source": [
    "# Find very similar color among remaining colors\n",
    "color_synonyms = {cidx: [] for cidx in remaining_name_idx}\n",
    "for cidx in remaining_name_idx:\n",
    "    print(c3_data[\"terms\"][cidx] + \":\")\n",
    "    for i in range(len(c3_data[\"terms\"])):\n",
    "        if (\n",
    "            cidx != i\n",
    "            and i not in remaining_name_idx\n",
    "            and color_hellinger(cidx, i) < 0.25\n",
    "        ):\n",
    "            color_synonyms[cidx].append(i)\n",
    "            print(color_hellinger(cidx, i), c3_data[\"terms\"][i])"
   ]
  },
  {
   "cell_type": "code",
   "execution_count": 8,
   "metadata": {},
   "outputs": [
    {
     "name": "stdout",
     "output_type": "stream",
     "text": [
      "17\n"
     ]
    }
   ],
   "source": [
    "# Make sure there aren't duplicates\n",
    "all_color_synonyms = sum(list(color_synonyms.values()), [])\n",
    "assert len(all_color_synonyms) == len(set(all_color_synonyms))\n",
    "print(len(all_color_synonyms))"
   ]
  },
  {
   "cell_type": "markdown",
   "metadata": {},
   "source": [
    "## Simplify color list\n",
    "\n",
    "To simplify the color list, synonyms are combined, with the most commonly used name, not the one with the highest preferred voxel count, used to refer to the combined data. Next, the voxel counts of the basic color terms from Berlin & Kay (1969) are tallied, and the voxel counts of the other colors are compared to the lowest basic color term voxel counts; colors with lower voxel counts are eliminated. Finally, the remaining color names are returned to their correct forms by re-adding spaces and the like."
   ]
  },
  {
   "cell_type": "code",
   "execution_count": 9,
   "metadata": {},
   "outputs": [
    {
     "name": "stdout",
     "output_type": "stream",
     "text": [
      "(8325, 153)\n"
     ]
    }
   ],
   "source": [
    "# Score all colors\n",
    "all_scores = np.array([color_name_prob_from_cmap_idx(i) for i in range(len(cmap))])\n",
    "per_color_count = all_scores.sum(axis=0)\n",
    "print(all_scores.shape)"
   ]
  },
  {
   "cell_type": "code",
   "execution_count": 10,
   "metadata": {},
   "outputs": [],
   "source": [
    "# Use most commonly used name for synonyms instead of one with highest voxel count\n",
    "for cidx in [i for i in color_synonyms if len(color_synonyms[i]) > 0]:\n",
    "    vals = [cidx] + color_synonyms[cidx]\n",
    "    max_idx = np.argmax(per_color_count[vals])\n",
    "    if cidx != vals[max_idx]:\n",
    "        color_synonyms[vals.pop(max_idx)] = vals\n",
    "        del color_synonyms[cidx]\n",
    "remaining_name_idx = sorted(color_synonyms.keys())"
   ]
  },
  {
   "cell_type": "code",
   "execution_count": 11,
   "metadata": {},
   "outputs": [],
   "source": [
    "# Combine synonym scores\n",
    "for cidx in color_synonyms:\n",
    "    for i in color_synonyms[cidx]:\n",
    "        all_scores[:, cidx] += all_scores[:, i]"
   ]
  },
  {
   "cell_type": "code",
   "execution_count": 12,
   "metadata": {},
   "outputs": [],
   "source": [
    "# Remove remaining colors\n",
    "for i in reversed(range(all_scores.shape[1])):\n",
    "    if i not in remaining_name_idx:\n",
    "        if i < all_scores.shape[1]:\n",
    "            all_scores = np.concatenate(\n",
    "                (all_scores[:, :i], all_scores[:, i + 1 :]), axis=1\n",
    "            )\n",
    "        else:\n",
    "            all_scores = all_scores[:, :i]"
   ]
  },
  {
   "cell_type": "code",
   "execution_count": 13,
   "metadata": {},
   "outputs": [],
   "source": [
    "# From \"Basic color terms: Their universality and evolution\", p. 2\n",
    "berlin_kay_color_names = [\n",
    "    \"white\",\n",
    "    \"black\",\n",
    "    \"red\",\n",
    "    \"green\",\n",
    "    \"yellow\",\n",
    "    \"blue\",\n",
    "    \"brown\",\n",
    "    \"purple\",\n",
    "    \"pink\",\n",
    "    \"orange\",\n",
    "    \"gray\",\n",
    "]"
   ]
  },
  {
   "cell_type": "code",
   "execution_count": 14,
   "metadata": {},
   "outputs": [
    {
     "name": "stdout",
     "output_type": "stream",
     "text": [
      "21\n"
     ]
    }
   ],
   "source": [
    "# Determine minimum voxel count where a given BCT is the prefered color\n",
    "names_idx_idx2 = np.argmax(all_scores, axis=1)\n",
    "min_bct_count = all_scores.shape[0]\n",
    "for bct in berlin_kay_color_names:\n",
    "    min_bct_count = min(\n",
    "        min_bct_count,\n",
    "        names_idx_idx2[\n",
    "            names_idx_idx2 == remaining_name_idx.index(c3_data[\"terms\"].index(bct))\n",
    "        ].size,\n",
    "    )\n",
    "print(min_bct_count)"
   ]
  },
  {
   "cell_type": "code",
   "execution_count": 15,
   "metadata": {},
   "outputs": [
    {
     "name": "stdout",
     "output_type": "stream",
     "text": [
      "0 1139 green\n",
      "1 789 blue\n",
      "2 1189 purple\n",
      "3 301 red\n",
      "4 799 pink\n",
      "5 231 yellow\n",
      "6 299 orange\n",
      "7 691 brown\n",
      "8 341 teal\n",
      "9 325 lightblue\n",
      "10 417 gray\n",
      "11 33 limegreen\n",
      "12 97 magenta\n",
      "13 90 lightgreen\n",
      "14 51 cyan\n",
      "15 191 darkblue\n",
      "16 180 darkgreen\n",
      "17 112 olive\n",
      "18 279 lavender\n",
      "19 125 black\n",
      "20 149 tan\n",
      "21 46 yellowgreen\n",
      "22 140 maroon\n",
      "24 52 salmon\n",
      "25 72 peach\n",
      "26 65 beige\n",
      "27 73 mustard\n",
      "31 21 white\n",
      "28\n"
     ]
    }
   ],
   "source": [
    "# Eliminate color terms with a voxel count lower than that of the BCT with the fewest voxels\n",
    "num_names2 = 0\n",
    "remaining_name_idx2 = []\n",
    "remaining_names2 = []\n",
    "for i in range(len(remaining_name_idx)):\n",
    "    if names_idx_idx2[names_idx_idx2 == i].size >= min_bct_count:\n",
    "        remaining_names2.append(c3_data[\"terms\"][remaining_name_idx[i]])\n",
    "        print(i, names_idx_idx2[names_idx_idx2 == i].size, remaining_names2[-1])\n",
    "        num_names2 += 1\n",
    "        remaining_name_idx2.append(i)\n",
    "print(num_names2)"
   ]
  },
  {
   "cell_type": "code",
   "execution_count": 16,
   "metadata": {},
   "outputs": [],
   "source": [
    "# Remove remaining colors\n",
    "for i in reversed(range(all_scores.shape[1])):\n",
    "    if i not in remaining_name_idx2:\n",
    "        if i < all_scores.shape[1]:\n",
    "            all_scores = np.concatenate(\n",
    "                (all_scores[:, :i], all_scores[:, i + 1 :]), axis=1\n",
    "            )\n",
    "        else:\n",
    "            all_scores = all_scores[:, :i]"
   ]
  },
  {
   "cell_type": "code",
   "execution_count": 17,
   "metadata": {},
   "outputs": [],
   "source": [
    "# Fix color names\n",
    "remaining_names2[remaining_names2.index(\"lightblue\")] = \"light blue\"\n",
    "remaining_names2[remaining_names2.index(\"limegreen\")] = \"lime green\"\n",
    "remaining_names2[remaining_names2.index(\"lightgreen\")] = \"light green\"\n",
    "remaining_names2[remaining_names2.index(\"darkgreen\")] = \"dark green\"\n",
    "remaining_names2[remaining_names2.index(\"darkblue\")] = \"dark blue\"\n",
    "remaining_names2[remaining_names2.index(\"yellowgreen\")] = \"yellow-green\""
   ]
  },
  {
   "cell_type": "code",
   "execution_count": 18,
   "metadata": {},
   "outputs": [
    {
     "data": {
      "text/plain": [
       "['green',\n",
       " 'blue',\n",
       " 'purple',\n",
       " 'red',\n",
       " 'pink',\n",
       " 'yellow',\n",
       " 'orange',\n",
       " 'brown',\n",
       " 'teal',\n",
       " 'light blue',\n",
       " 'gray',\n",
       " 'lime green',\n",
       " 'magenta',\n",
       " 'light green',\n",
       " 'cyan',\n",
       " 'dark blue',\n",
       " 'dark green',\n",
       " 'olive',\n",
       " 'lavender',\n",
       " 'black',\n",
       " 'tan',\n",
       " 'yellow-green',\n",
       " 'maroon',\n",
       " 'salmon',\n",
       " 'peach',\n",
       " 'beige',\n",
       " 'mustard',\n",
       " 'white']"
      ]
     },
     "execution_count": 1,
     "metadata": {},
     "output_type": "execute_result"
    }
   ],
   "source": [
    "remaining_names2"
   ]
  },
  {
   "cell_type": "code",
   "execution_count": 19,
   "metadata": {},
   "outputs": [
    {
     "data": {
      "text/plain": [
       "(8325, 28)"
      ]
     },
     "execution_count": 1,
     "metadata": {},
     "output_type": "execute_result"
    }
   ],
   "source": [
    "all_scores.shape"
   ]
  },
  {
   "cell_type": "code",
   "execution_count": 20,
   "metadata": {},
   "outputs": [
    {
     "data": {
      "text/plain": [
       "1138"
      ]
     },
     "execution_count": 1,
     "metadata": {},
     "output_type": "execute_result"
    }
   ],
   "source": [
    "np.max(all_scores)"
   ]
  },
  {
   "cell_type": "markdown",
   "metadata": {},
   "source": [
    "## Names and Saliencies\n",
    "\n",
    "Finally, the most probable name and most probable basic color term for each color is determined, and saliencies are calculated. For saliencies, the negative entropy is used, as is done in Heer & Stone (2012). However, a different normalization is used, ensuring that the saliencies span the full zero to one range."
   ]
  },
  {
   "cell_type": "code",
   "execution_count": 21,
   "metadata": {},
   "outputs": [],
   "source": [
    "rgb_colors = np.arange(2**24)\n",
    "rgb_colors = np.array([rgb_colors & 0xff, (rgb_colors >> 8) & 0xff, (rgb_colors >> 16) & 0xff]).T\n",
    "lab_colors = colorspacious.cspace_convert(rgb_colors, \"sRGB255\", {\"name\": \"CIELab\", \"XYZ100_w\": \"D65\"})\n",
    "interpolated = scipy.interpolate.griddata(np.array(list(cmap.keys()), dtype=np.int8), all_scores, lab_colors, method='linear')\n",
    "name_idxs = np.argmax(interpolated, axis=1).astype(np.uint8)\n",
    "interpolated_bct = np.zeros(interpolated.shape)\n",
    "interpolated_bct[:, [remaining_names2.index(i) for i in berlin_kay_color_names]] = interpolated[:, [remaining_names2.index(i) for i in berlin_kay_color_names]]\n",
    "bct_idxs = np.argmax(interpolated_bct, axis=1).astype(np.uint8)"
   ]
  },
  {
   "cell_type": "code",
   "execution_count": 22,
   "metadata": {},
   "outputs": [],
   "source": [
    "probs = all_scores / np.sum(all_scores, axis=1)[:, np.newaxis]\n",
    "saliencies = np.copy(probs)\n",
    "saliencies[probs > 0] *= np.log2(saliencies[probs > 0])\n",
    "saliencies = np.sum(saliencies, axis=1)"
   ]
  },
  {
   "cell_type": "code",
   "execution_count": 23,
   "metadata": {},
   "outputs": [
    {
     "name": "stdout",
     "output_type": "stream",
     "text": [
      "min: -3.158\n",
      "max:  0.000\n"
     ]
    }
   ],
   "source": [
    "# Renormalize\n",
    "min_saliency = np.min(saliencies)\n",
    "max_saliency = np.max(saliencies)\n",
    "print(f\"min: {min_saliency:6.3f}\")\n",
    "print(f\"max: {max_saliency:6.3f}\")\n",
    "saliencies = ((saliencies - min_saliency) / (max_saliency - min_saliency)).astype(np.float32)"
   ]
  },
  {
   "cell_type": "code",
   "execution_count": 24,
   "metadata": {},
   "outputs": [],
   "source": [
    "np.savez_compressed(\n",
    "    \"colornamemodel.npz\",\n",
    "    scores=all_scores.astype(np.uint16),\n",
    "    names=remaining_names2,\n",
    "    saliencies=saliencies,\n",
    "    name_idxs=name_idxs,\n",
    "    bct_idxs=bct_idxs,\n",
    "    cmap=np.array(list(cmap.keys()), dtype=np.int8),\n",
    ")"
   ]
  }
 ],
 "metadata": {
  "kernelspec": {
   "display_name": "Python 3",
   "language": "python",
   "name": "python3"
  },
  "language_info": {
   "codemirror_mode": {
    "name": "ipython",
    "version": 3
   },
   "file_extension": ".py",
   "mimetype": "text/x-python",
   "name": "python",
   "nbconvert_exporter": "python",
   "pygments_lexer": "ipython3",
   "version": "3.6.9"
  }
 },
 "nbformat": 4,
 "nbformat_minor": 4
}
