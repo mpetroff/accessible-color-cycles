{
 "cells": [
  {
   "cell_type": "code",
   "execution_count": 1,
   "metadata": {},
   "outputs": [],
   "source": [
    "import numpy as np\n",
    "import matplotlib.pyplot as plt"
   ]
  },
  {
   "cell_type": "code",
   "execution_count": 2,
   "metadata": {},
   "outputs": [],
   "source": [
    "plt.rc(\"text\", usetex=True)\n",
    "plt.rc(\"text.latex\", preamble=r\"\\usepackage{libertine}\\usepackage{sansmath}\\sansmath\")\n",
    "params = {\"axes.labelsize\": 9, \"xtick.labelsize\": 9, \"ytick.labelsize\": 9}\n",
    "plt.rcParams.update(params)"
   ]
  },
  {
   "cell_type": "markdown",
   "metadata": {},
   "source": [
    "# Response time analysis of data from Smart & Szafir (2019)\n",
    "\n",
    "Experiment two of Smart & Szafir (2019) examined how different colors and marker sizes affect the ability to discern different marker shapes on a scatter plot. A scatter plot with L\\* = 50 gray markers as distractors is shown with two colored markers, which are either the same shape or different shapes. The experiment uses a binary forced-choice design where the research subject is asked whether or not the two colored markers are identical, with instructions to complete the task as quickly and accurately as possible. The authors' analysis considered how changing the marker size and color affected accuracy and concluded that there was no significant effect except for decreased accuracy for markers with L\\* > 92.\n",
    "\n",
    "The authors kindly published their raw data, allowing for reanalysis. Here, the response time is considered instead of the accuracy. Even if two markers can be accurately told apart, the response time should increase if doing so is difficult. Only responses with the smallest marker sized used in the experiments, 15 arcsec, are used to looked at the worst-case scenario. Only correct responses are considered.\n",
    "\n",
    "\n",
    "## Data processing\n",
    "\n",
    "Data comes from https://osf.io/34jca, file `Experiment_2/data/color-shape_data_processed.csv`, which has a revision date of 2018-09-19 and a SHA-256 checksum of c0fe510d1b673d26a9fa1085fc5da3017b27cc3814c6e587a1800a7a647c778d.\n",
    "\n",
    "The data file is loaded and the timestamps are converted to response times. Incorrect responses and those with marker sizes larger than 15 arcsec and eliminated, as are responses with response times less than 0.5 seconds or more than 10 seconds."
   ]
  },
  {
   "cell_type": "code",
   "execution_count": 3,
   "metadata": {},
   "outputs": [],
   "source": [
    "# Columns: qnum, fixed_size, timeElapsed, L, A, B, numeric_response\n",
    "qnum, size, elapsed_time, L, A, B, correct = np.loadtxt(\n",
    "    \"color-shape_data_processed.csv\",\n",
    "    skiprows=1,\n",
    "    usecols=(11, 16, 17, 24, 25, 26, 27),\n",
    "    unpack=True,\n",
    "    delimiter=\",\",\n",
    ")"
   ]
  },
  {
   "cell_type": "code",
   "execution_count": 4,
   "metadata": {},
   "outputs": [],
   "source": [
    "# Convert to response times\n",
    "elapsed_time2 = np.append(elapsed_time[:1], np.diff(elapsed_time))\n",
    "elapsed_time2[qnum == 1] = elapsed_time[qnum == 1]\n",
    "elapsed_time = elapsed_time2"
   ]
  },
  {
   "cell_type": "code",
   "execution_count": 5,
   "metadata": {},
   "outputs": [],
   "source": [
    "# Limit to correct answers with smallest marker size\n",
    "small_and_correct = np.logical_and(size == 0.25, correct == 1)\n",
    "elapsed_time = elapsed_time[small_and_correct]\n",
    "L = L[small_and_correct]"
   ]
  },
  {
   "cell_type": "code",
   "execution_count": 6,
   "metadata": {},
   "outputs": [],
   "source": [
    "# Keep response times between 0.5 and 10 seconds\n",
    "reasonable_times = np.logical_and(elapsed_time >= 500, elapsed_time <= 10000)\n",
    "elapsed_time = elapsed_time[reasonable_times]\n",
    "L = L[reasonable_times]"
   ]
  },
  {
   "cell_type": "code",
   "execution_count": 7,
   "metadata": {},
   "outputs": [
    {
     "data": {
      "text/plain": [
       "4932"
      ]
     },
     "execution_count": 1,
     "metadata": {},
     "output_type": "execute_result"
    }
   ],
   "source": [
    "L.size"
   ]
  },
  {
   "cell_type": "markdown",
   "metadata": {},
   "source": [
    "## Results\n",
    "\n",
    "The remaining responses are binned by L\\*, and the response times are considered. The response times are considerably above average for the bins with L\\* > 85 and for the bin with L\\* = 50. The increased response time for the L\\* = 50 bin is likely because the distractor markers are of the same lightness."
   ]
  },
  {
   "cell_type": "code",
   "execution_count": 8,
   "metadata": {},
   "outputs": [
    {
     "name": "stdout",
     "output_type": "stream",
     "text": [
      "Overall mean response time: 2501 +/- 26 ms\n"
     ]
    }
   ],
   "source": [
    "# Mean & standard error\n",
    "mean = np.array([np.mean(elapsed_time[L == l]) for l in np.unique(L)])\n",
    "se = np.array(\n",
    "    [\n",
    "        np.std(elapsed_time[L == l]) / np.sqrt(elapsed_time[L == l].size)\n",
    "        for l in np.unique(L)\n",
    "    ]\n",
    ")\n",
    "overall_mean = np.mean(elapsed_time)\n",
    "overall_se = np.std(elapsed_time) / np.sqrt(elapsed_time.size)\n",
    "print(f\"Overall mean response time: {overall_mean:.0f} +/- {overall_se:.0f} ms\")"
   ]
  },
  {
   "cell_type": "code",
   "execution_count": 9,
   "metadata": {},
   "outputs": [
    {
     "name": "stdout",
     "output_type": "stream",
     "text": [
      " L*    Mean (ms)  SE (ms)\n",
      "50.0     3069       368\n",
      "53.8     2204        64\n",
      "57.7     2453        71\n",
      "61.5     2248        76\n",
      "65.4     2515        84\n",
      "69.2     2542        83\n",
      "73.1     2587        89\n",
      "76.9     2526       102\n",
      "80.8     2508        92\n",
      "84.6     2526        97\n",
      "88.5     2698       105\n",
      "92.3     3176       163\n",
      "96.2     3809       292\n"
     ]
    }
   ],
   "source": [
    "print(\" L*    Mean (ms)  SE (ms)\")\n",
    "for i, l in enumerate(np.unique(L)):\n",
    "    print(f\"{l}     {mean[i]:4.0f}       {se[i]:3.0f}\")"
   ]
  },
  {
   "cell_type": "code",
   "execution_count": 10,
   "metadata": {},
   "outputs": [
    {
     "data": {
      "image/png": "[encoded data removed]",
      "text/plain": [
       "<Figure size 280.8x187.2 with 1 Axes>"
      ]
     },
     "metadata": {
      "image/png": {
       "height": 180,
       "width": 273
      },
      "needs_background": "light"
     },
     "output_type": "display_data"
    }
   ],
   "source": [
    "plt.figure(figsize=(3.9, 2.6))\n",
    "plt.errorbar(np.unique(L), mean, se, marker=\"o\", c=\"#3f90da\")\n",
    "plt.axhspan(\n",
    "    overall_mean - overall_se, overall_mean + overall_se, alpha=0.25, fc=\"black\"\n",
    ")\n",
    "plt.xlabel(\"L*\")\n",
    "plt.ylabel(\"Average response time (ms)\")\n",
    "plt.tight_layout()\n",
    "plt.savefig(\"marker-shape-lightness.pdf\", bbox_inches=\"tight\")"
   ]
  }
 ],
 "metadata": {
  "kernelspec": {
   "display_name": "Python 3",
   "language": "python",
   "name": "python3"
  },
  "language_info": {
   "codemirror_mode": {
    "name": "ipython",
    "version": 3
   },
   "file_extension": ".py",
   "mimetype": "text/x-python",
   "name": "python",
   "nbconvert_exporter": "python",
   "pygments_lexer": "ipython3",
   "version": "3.6.9"
  }
 },
 "nbformat": 4,
 "nbformat_minor": 4
}
