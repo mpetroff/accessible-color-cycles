{
 "cells": [
  {
   "cell_type": "code",
   "execution_count": 1,
   "metadata": {},
   "outputs": [],
   "source": [
    "import csv\n",
    "import gzip\n",
    "import random\n",
    "import sqlite3\n",
    "import sys\n",
    "import time\n",
    "import itertools\n",
    "import json\n",
    "import numpy as np\n",
    "import colorspacious\n",
    "from tensorflow.keras.models import Model\n",
    "from tensorflow.keras.layers import Input, Dense, SeparableConv1D, Activation\n",
    "import tensorflow as tf\n",
    "import sklearn.utils\n",
    "import matplotlib.pyplot as plt\n",
    "import numba"
   ]
  },
  {
   "cell_type": "code",
   "execution_count": 2,
   "metadata": {},
   "outputs": [],
   "source": [
    "# Force CPU operation for deterministic and reproducible results\n",
    "# Disable parallelism per https://github.com/NVIDIA/framework-determinism/blob/28091e4fb1483685fc78b7ab844a5ae6ddf55a14/README.md#cpu\n",
    "tf.config.set_visible_devices([], \"GPU\")\n",
    "tf.config.threading.set_intra_op_parallelism_threads(1)\n",
    "tf.config.threading.set_inter_op_parallelism_threads(1)"
   ]
  },
  {
   "cell_type": "code",
   "execution_count": 3,
   "metadata": {},
   "outputs": [],
   "source": [
    "# Needed for deterministic results\n",
    "SEED = 567687\n",
    "random.seed(SEED)\n",
    "np.random.seed(SEED)\n",
    "tf.random.set_seed(SEED)"
   ]
  },
  {
   "cell_type": "code",
   "execution_count": 4,
   "metadata": {},
   "outputs": [],
   "source": [
    "with open(\"top-sets.json\") as infile:\n",
    "    TOP_SETS_RGB = json.load(infile)\n",
    "TOP_SETS_RGB = {int(i): TOP_SETS_RGB[i] for i in TOP_SETS_RGB}\n",
    "ALL_NUM_COLORS = TOP_SETS_RGB.keys()\n",
    "DB_FILE = \"../survey-results/results.db\""
   ]
  },
  {
   "cell_type": "code",
   "execution_count": 5,
   "metadata": {},
   "outputs": [],
   "source": [
    "npz = np.load(\"../color-name-model/colornamemodel.npz\")\n",
    "COLOR_NAMES = list(npz[\"names\"])\n",
    "BCT_IDX = npz[\"bct_idxs\"]\n",
    "COLOR_NAME_IDX = npz[\"name_idxs\"]"
   ]
  },
  {
   "cell_type": "code",
   "execution_count": 6,
   "metadata": {},
   "outputs": [],
   "source": [
    "ENSEMBLE_COUNT = 100"
   ]
  },
  {
   "cell_type": "markdown",
   "metadata": {},
   "source": [
    "## Color conversion and sorting functions\n",
    "\n",
    "Data are all stored as 8-bit RGB values and need to be converted to CAM02-UCS.\n",
    "\n",
    "We also need to be able to sort along the three CAM02-UCS axes."
   ]
  },
  {
   "cell_type": "code",
   "execution_count": 7,
   "metadata": {},
   "outputs": [],
   "source": [
    "def to_jab(color):\n",
    "    \"\"\"\n",
    "    Convert hex color code (without `#`) to CAM02-UCS.\n",
    "    \"\"\"\n",
    "    rgb = [(int(i[:2], 16), int(i[2:4], 16), int(i[4:], 16)) for i in color]\n",
    "    jab = [colorspacious.cspace_convert(i, \"sRGB255\", \"CAM02-UCS\") for i in rgb]\n",
    "    return np.array(jab)\n",
    "\n",
    "\n",
    "def sort_colors_by_j(colors):\n",
    "    \"\"\"\n",
    "    Sorts colors by CAM02-UCS J' axis.\n",
    "    \"\"\"\n",
    "    return colors[np.lexsort(colors[:, ::-1].T, 0)]\n",
    "\n",
    "\n",
    "def sort_colors_by_a(colors):\n",
    "    \"\"\"\n",
    "    Sorts colors by CAM02-UCS a' axis.\n",
    "    \"\"\"\n",
    "    return colors[np.argsort(colors[:, ::-1].T[1])]\n",
    "\n",
    "\n",
    "def sort_colors_by_b(colors):\n",
    "    \"\"\"\n",
    "    Sorts colors by CAM02-UCS b' axis.\n",
    "    \"\"\"\n",
    "    return colors[np.argsort(colors[:, ::-1].T[2])]"
   ]
  },
  {
   "cell_type": "markdown",
   "metadata": {},
   "source": [
    "## Data loading\n",
    "\n",
    "Survey data are loaded from a SQLite database, and the complete set of color sets is loaded from a text file. The 8-bit RGB values are converted to CAM02-UCS and sorted along the three CAM02-UCS axes."
   ]
  },
  {
   "cell_type": "code",
   "execution_count": 8,
   "metadata": {},
   "outputs": [
    {
     "name": "stdout",
     "output_type": "stream",
     "text": [
      "6 10347\n",
      "8 10371\n",
      "10 1705\n"
     ]
    }
   ],
   "source": [
    "# Load survey data\n",
    "cycle_data = {}\n",
    "cycle_targets = {}\n",
    "min_count = 1e10\n",
    "\n",
    "conn = sqlite3.connect(DB_FILE)\n",
    "c = conn.cursor()\n",
    "\n",
    "for num_colors in ALL_NUM_COLORS:\n",
    "    count = 0\n",
    "    cycle_data[num_colors] = []\n",
    "    cycle_targets[num_colors] = []\n",
    "    for row in c.execute(\n",
    "        f\"SELECT c1, c2, o, cp, sp FROM picks WHERE length(c1) = {num_colors * 7 - 1}\"\n",
    "    ):\n",
    "        count += 1\n",
    "        orders = [[int(c) for c in o] for o in row[2].split(\",\")]\n",
    "        # Convert to Jab [CAM02-UCS based]\n",
    "        jab = to_jab(row[row[4] - 1].split(\",\"))\n",
    "        # Add cycle data\n",
    "        for i in range(4):\n",
    "            if i != row[3] - 1:\n",
    "                cycle_data[num_colors].append(\n",
    "                    np.array((jab[orders[row[3] - 1]], jab[orders[i]])).flatten()\n",
    "                )\n",
    "                cycle_targets[num_colors].append(0)\n",
    "    cycle_data[num_colors] = np.array(cycle_data[num_colors])\n",
    "    cycle_targets[num_colors] = np.array(cycle_targets[num_colors])\n",
    "    min_count = min(min_count, count)\n",
    "    print(num_colors, count)\n",
    "\n",
    "conn.close()"
   ]
  },
  {
   "cell_type": "code",
   "execution_count": 9,
   "metadata": {},
   "outputs": [],
   "source": [
    "# Convert color set data\n",
    "TOP_SETS = {}\n",
    "for num_colors in ALL_NUM_COLORS:\n",
    "    TOP_SETS[num_colors] = to_jab(TOP_SETS_RGB[num_colors]).flatten()"
   ]
  },
  {
   "cell_type": "code",
   "execution_count": 10,
   "metadata": {},
   "outputs": [],
   "source": [
    "# Best color set\n",
    "orderings = {}\n",
    "orderings_rgb = {}\n",
    "for num_colors in ALL_NUM_COLORS:\n",
    "    orderings[num_colors] = np.array(\n",
    "        list(itertools.permutations(TOP_SETS[num_colors].reshape(-1, 3)))\n",
    "    ).reshape(-1, 3 * num_colors)\n",
    "    orderings_rgb[num_colors] = np.array(\n",
    "        list(itertools.permutations(TOP_SETS_RGB[num_colors]))\n",
    "    )"
   ]
  },
  {
   "cell_type": "code",
   "execution_count": 11,
   "metadata": {},
   "outputs": [],
   "source": [
    "def construct_network(num_colors):\n",
    "    #\n",
    "    # Construct network\n",
    "    #\n",
    "    conv_size = 5\n",
    "\n",
    "    layer1 = Dense(units=5, activation=\"elu\", name=\"l1\")\n",
    "    layer2 = Dense(units=5, activation=\"elu\", name=\"l2\")\n",
    "\n",
    "    layer3 = SeparableConv1D(5, conv_size, padding=\"same\", activation=\"elu\", name=\"l3\")\n",
    "    layer4 = SeparableConv1D(3, conv_size, padding=\"same\", activation=\"elu\", name=\"l4\")\n",
    "    layer5 = SeparableConv1D(1, conv_size, padding=\"same\", activation=\"elu\", name=\"l5\")\n",
    "\n",
    "    # Create network\n",
    "    input_a = Input(shape=(3 * num_colors,))\n",
    "    inputs_a = [input_a[:, i * 3 : (i + 1) * 3] for i in range(num_colors)]\n",
    "\n",
    "    # Share layers between colors\n",
    "    x_a = [layer1(i / 100) for i in inputs_a]\n",
    "    x_a = [layer2(i) for i in x_a]\n",
    "\n",
    "    # Combine colors into sets\n",
    "    x_a = tf.keras.layers.concatenate(\n",
    "        [tf.keras.backend.expand_dims(i, 1) for i in x_a], axis=1\n",
    "    )\n",
    "\n",
    "    # Share layers between color sets\n",
    "    x_a = layer3(x_a)\n",
    "    x_a = layer4(x_a)\n",
    "    x_a = layer5(x_a)\n",
    "\n",
    "    # Average outputs\n",
    "    x_a = tf.math.reduce_mean(x_a, axis=1)\n",
    "\n",
    "    # Final non-linear activation\n",
    "    layer_nm1 = Activation(\"sigmoid\", name=f\"score{num_colors}\")\n",
    "    x_a = layer_nm1(x_a)\n",
    "\n",
    "    # For evaluation\n",
    "    return Model(inputs=input_a, outputs=x_a)"
   ]
  },
  {
   "cell_type": "code",
   "execution_count": 12,
   "metadata": {},
   "outputs": [],
   "source": [
    "scoring_model = {nc: construct_network(nc) for nc in ALL_NUM_COLORS}"
   ]
  },
  {
   "cell_type": "markdown",
   "metadata": {},
   "source": [
    "## Evaluate model accuracy\n",
    "\n",
    "Scores are compared to calculate model accuracy. All data are used (no train / test split).\n",
    "\n",
    "As the ten-color data were not used during design, hyperparameter tuning, or training, they serve as a validation set. These data were only evaluated after the model was finalized."
   ]
  },
  {
   "cell_type": "code",
   "execution_count": 13,
   "metadata": {},
   "outputs": [],
   "source": [
    "survey_scores_a = {nc: [] for nc in ALL_NUM_COLORS}\n",
    "survey_scores_b = {nc: [] for nc in ALL_NUM_COLORS}\n",
    "for nc in ALL_NUM_COLORS:\n",
    "    for i in range(ENSEMBLE_COUNT):\n",
    "        with gzip.open(f\"weights/cycle_model_weights_{i:03d}.h5.gz\", \"rb\") as infile:\n",
    "            infile.endswith = lambda x: x == \".h5\"  # Monkey-patch for format detection\n",
    "            scoring_model[nc].load_weights(infile, by_name=True)\n",
    "        survey_scores_a[nc].append(\n",
    "            scoring_model[nc].predict(cycle_data[nc][:, : nc * 3]).flatten()\n",
    "        )\n",
    "        survey_scores_b[nc].append(\n",
    "            scoring_model[nc].predict(cycle_data[nc][:, nc * 3 :]).flatten()\n",
    "        )\n",
    "    survey_scores_a[nc] = np.array(survey_scores_a[nc])\n",
    "    survey_scores_b[nc] = np.array(survey_scores_b[nc])"
   ]
  },
  {
   "cell_type": "code",
   "execution_count": 14,
   "metadata": {},
   "outputs": [
    {
     "name": "stdout",
     "output_type": "stream",
     "text": [
      "accuracy  6: 0.54951\n",
      "accuracy  8: 0.55304\n",
      "accuracy 10: 0.54676\n"
     ]
    }
   ],
   "source": [
    "for nc in ALL_NUM_COLORS:\n",
    "    acc = np.mean((survey_scores_a[nc] > survey_scores_b[nc]) ^ cycle_targets[nc])\n",
    "    print(f\"accuracy {nc:2d}: {acc:.5f}\")"
   ]
  },
  {
   "cell_type": "markdown",
   "metadata": {},
   "source": [
    "## Predict scores for full set of color sets\n",
    "\n",
    "A score is predicted for each color set in the full set of color sets. Furthermore, the variability within the ensemble is also evaluated."
   ]
  },
  {
   "cell_type": "code",
   "execution_count": 15,
   "metadata": {},
   "outputs": [],
   "source": [
    "# Score color cycles\n",
    "scores = {nc: [] for nc in ALL_NUM_COLORS}\n",
    "for nc in ALL_NUM_COLORS:\n",
    "    for i in range(ENSEMBLE_COUNT):\n",
    "        with gzip.open(f\"weights/cycle_model_weights_{i:03d}.h5.gz\", \"rb\") as infile:\n",
    "            infile.endswith = lambda x: x == \".h5\"  # Monkey-patch for format detection\n",
    "            scoring_model[nc].load_weights(infile, by_name=True)\n",
    "        scores[nc].append(scoring_model[nc].predict(orderings[nc]).flatten())\n",
    "    scores[nc] = np.array(scores[nc])"
   ]
  },
  {
   "cell_type": "code",
   "execution_count": 16,
   "metadata": {},
   "outputs": [],
   "source": [
    "cycle_scores = {}\n",
    "for nc in ALL_NUM_COLORS:\n",
    "    bootstrap = np.array(\n",
    "        [np.mean(sklearn.utils.resample(scores[nc]), axis=0) for _ in range(1000)]\n",
    "    )\n",
    "    cycle_scores[f\"mean{nc:02d}\"] = scores[nc].mean(axis=0)\n",
    "    cycle_scores[f\"error{nc:02d}\"] = bootstrap.std(axis=0)"
   ]
  },
  {
   "cell_type": "markdown",
   "metadata": {},
   "source": [
    "## Calculate final cycle scores\n",
    "\n",
    "The final cycle scores combine the machine learning derived scores with a perceptual distance score and a luminance distance score. These scores are calculated to favor cycles that include easier to differentiate colors at the beginning of the cycle, both for color and grayscale. Additionally, only cycles that do not contain two colors in the first half of the cycle that would be identified by the same basic color term are considered."
   ]
  },
  {
   "cell_type": "code",
   "execution_count": 17,
   "metadata": {},
   "outputs": [],
   "source": [
    "top_cycles = {}"
   ]
  },
  {
   "cell_type": "code",
   "execution_count": 18,
   "metadata": {},
   "outputs": [],
   "source": [
    "def to_jab_cvd(color):\n",
    "    rgb255 = [(int(i[:2], 16), int(i[2:4], 16), int(i[4:], 16)) for i in color]\n",
    "    rgb = [\n",
    "        (int(i[:2], 16) / 255, int(i[2:4], 16) / 255, int(i[4:], 16) / 255)\n",
    "        for i in color\n",
    "    ]\n",
    "    jab = [colorspacious.cspace_convert(i, \"sRGB1\", \"CAM02-UCS\") for i in rgb]\n",
    "    jab_deut = [\n",
    "        colorspacious.cspace_convert(\n",
    "            i,\n",
    "            {\"name\": \"sRGB1+CVD\", \"cvd_type\": \"deuteranomaly\", \"severity\": 100},\n",
    "            \"CAM02-UCS\",\n",
    "        )\n",
    "        for i in rgb\n",
    "    ]\n",
    "    jab_prot = [\n",
    "        colorspacious.cspace_convert(\n",
    "            i,\n",
    "            {\"name\": \"sRGB1+CVD\", \"cvd_type\": \"protanomaly\", \"severity\": 100},\n",
    "            \"CAM02-UCS\",\n",
    "        )\n",
    "        for i in rgb\n",
    "    ]\n",
    "    jab_trit = [\n",
    "        colorspacious.cspace_convert(\n",
    "            i,\n",
    "            {\"name\": \"sRGB1+CVD\", \"cvd_type\": \"tritanomaly\", \"severity\": 100},\n",
    "            \"CAM02-UCS\",\n",
    "        )\n",
    "        for i in rgb\n",
    "    ]\n",
    "    return (\n",
    "        np.array(rgb255),\n",
    "        np.array(jab),\n",
    "        np.array(jab_deut),\n",
    "        np.array(jab_prot),\n",
    "        np.array(jab_trit),\n",
    "    )"
   ]
  },
  {
   "cell_type": "code",
   "execution_count": 19,
   "metadata": {},
   "outputs": [],
   "source": [
    "@numba.njit\n",
    "def cam02de(c1, c2):\n",
    "    diff = np.abs(c1 - c2)\n",
    "    return np.sqrt(np.sum(diff * diff))"
   ]
  },
  {
   "cell_type": "code",
   "execution_count": 20,
   "metadata": {},
   "outputs": [],
   "source": [
    "BCT_IDX_WHITE = COLOR_NAMES.index(\"white\")"
   ]
  },
  {
   "cell_type": "code",
   "execution_count": 21,
   "metadata": {},
   "outputs": [],
   "source": [
    "@numba.njit\n",
    "def score_permuations(\n",
    "    permutations, set_rgb, set_jab, set_jab_deut, set_jab_prot, set_jab_trit\n",
    "):\n",
    "    unique_name_count = len(\n",
    "        set([BCT_IDX[i[0] + i[1] * 256 + i[2] * 256 ** 2] for i in set_rgb[1:]])\n",
    "    )\n",
    "    permutation_scores = []\n",
    "    for order in permutations:\n",
    "        # Score cycle by calculating minimum perceptual distance as each color is added and averaging distances\n",
    "        dists = []\n",
    "        color_names = [BCT_IDX_WHITE]\n",
    "        dist = 1000\n",
    "        J_dist = 1000\n",
    "        name_score = True\n",
    "        for i in range(1, len(set_jab)):\n",
    "            j = order[i - 1] + 1\n",
    "            for k in [0] + list(order[: i - 1] + 1):\n",
    "                dist = min(dist, cam02de(set_jab[j], set_jab[k]))\n",
    "                dist = min(dist, cam02de(set_jab_deut[j], set_jab_deut[k]))\n",
    "                dist = min(dist, cam02de(set_jab_prot[j], set_jab_prot[k]))\n",
    "                dist = min(dist, cam02de(set_jab_trit[j], set_jab_trit[k]))\n",
    "                J_dist = min(J_dist, abs(set_jab[j][0] - set_jab[k][0]))\n",
    "\n",
    "            color_names.append(\n",
    "                BCT_IDX[set_rgb[j, 0] + set_rgb[j, 1] * 256 + set_rgb[j, 2] * 256 ** 2]\n",
    "            )\n",
    "            if (\n",
    "                i < len(set_jab) - 1\n",
    "                and i <= unique_name_count\n",
    "                and len(set(color_names)) < len(color_names)\n",
    "            ):\n",
    "                name_score = False\n",
    "                break\n",
    "\n",
    "            dists.append(dist * J_dist)\n",
    "        if name_score:\n",
    "            permutation_scores.append(\n",
    "                np.mean(np.array(dists, dtype=np.float64))\n",
    "            )  # Order score (higher is better)\n",
    "        else:\n",
    "            permutation_scores.append(\n",
    "                0.0\n",
    "            )  # Duplicate color name in first half of cycle\n",
    "    return np.array(permutation_scores)"
   ]
  },
  {
   "cell_type": "markdown",
   "metadata": {},
   "source": [
    "### Six colors"
   ]
  },
  {
   "cell_type": "code",
   "execution_count": 22,
   "metadata": {},
   "outputs": [],
   "source": [
    "set_rgb, set_jab, set_jab_deut, set_jab_prot, set_jab_trit = to_jab_cvd(\n",
    "    [\"ffffff\"] + TOP_SETS_RGB[6]\n",
    ")"
   ]
  },
  {
   "cell_type": "code",
   "execution_count": 23,
   "metadata": {},
   "outputs": [],
   "source": [
    "permutations = np.array(list(itertools.permutations(np.arange(6))))\n",
    "scores_mean = np.mean(scores[6], axis=0)\n",
    "with_same_first_color = permutations[:, 0] == permutations[np.argmax(scores_mean)][0]\n",
    "permutations = permutations[with_same_first_color]\n",
    "scores_mean = scores_mean[with_same_first_color]"
   ]
  },
  {
   "cell_type": "code",
   "execution_count": 24,
   "metadata": {},
   "outputs": [
    {
     "name": "stdout",
     "output_type": "stream",
     "text": [
      "48\n"
     ]
    }
   ],
   "source": [
    "permutation_scores = score_permuations(\n",
    "    permutations, set_rgb, set_jab, set_jab_deut, set_jab_prot, set_jab_trit\n",
    ")\n",
    "print(np.sum(permutation_scores > 0))"
   ]
  },
  {
   "cell_type": "code",
   "execution_count": 25,
   "metadata": {},
   "outputs": [],
   "source": [
    "cycle_scores[\"first06\"] = with_same_first_color\n",
    "cycle_scores[\"access06\"] = permutation_scores.astype(np.float32)"
   ]
  },
  {
   "cell_type": "code",
   "execution_count": 26,
   "metadata": {},
   "outputs": [
    {
     "data": {
      "text/plain": [
       "<matplotlib.collections.PathCollection at 0x7f42e2ec64a8>"
      ]
     },
     "execution_count": 1,
     "metadata": {},
     "output_type": "execute_result"
    },
    {
     "data": {
      "image/png": "[encoded data removed]",
      "text/plain": [
       "<Figure size 432x288 with 1 Axes>"
      ]
     },
     "metadata": {
      "needs_background": "light"
     },
     "output_type": "display_data"
    }
   ],
   "source": [
    "plt.scatter(scores_mean, permutation_scores)"
   ]
  },
  {
   "cell_type": "code",
   "execution_count": 27,
   "metadata": {},
   "outputs": [
    {
     "data": {
      "text/plain": [
       "(array([117]),)"
      ]
     },
     "execution_count": 1,
     "metadata": {},
     "output_type": "execute_result"
    }
   ],
   "source": [
    "tallies6 = permutation_scores * scores_mean\n",
    "np.where(tallies6 == np.max(tallies6))"
   ]
  },
  {
   "cell_type": "code",
   "execution_count": 28,
   "metadata": {},
   "outputs": [
    {
     "data": {
      "image/png": "[encoded data removed]",
      "text/plain": [
       "<Figure size 216x216 with 1 Axes>"
      ]
     },
     "metadata": {
      "needs_background": "light"
     },
     "output_type": "display_data"
    }
   ],
   "source": [
    "idx = np.where(tallies6 == np.sort(np.unique(tallies6))[-1])[0][0]\n",
    "n = len(orderings_rgb[6][0])\n",
    "\n",
    "fig, ax = plt.subplots(figsize=(3, n * 0.5))\n",
    "\n",
    "# Get height and width\n",
    "w, Y = fig.get_dpi() * fig.get_size_inches()\n",
    "h = Y / (n + 1)\n",
    "\n",
    "for i, name in enumerate(orderings_rgb[6][with_same_first_color][idx]):\n",
    "    row = i\n",
    "    y = Y - (row * h) - h\n",
    "    xi_line = w * (0.05)\n",
    "    xf_line = w * (0.25)\n",
    "    xi_text = w * (0.3)\n",
    "    ax.text(\n",
    "        xi_text,\n",
    "        y,\n",
    "        \"#\" + name,\n",
    "        fontsize=(h * 0.6),\n",
    "        horizontalalignment=\"left\",\n",
    "        verticalalignment=\"center\",\n",
    "    )\n",
    "\n",
    "    ax.hlines(y + h * 0.1, xi_line, xf_line, color=\"#\" + name, linewidth=(h * 0.6))\n",
    "ax.set_xlim(0, w)\n",
    "ax.set_ylim(0, Y)\n",
    "ax.set_axis_off()\n",
    "fig.subplots_adjust(left=0, right=1, top=1, bottom=0, hspace=0, wspace=0)\n",
    "plt.show()"
   ]
  },
  {
   "cell_type": "code",
   "execution_count": 29,
   "metadata": {},
   "outputs": [
    {
     "name": "stdout",
     "output_type": "stream",
     "text": [
      "Names:\n",
      "1 blue\n",
      "6 orange\n",
      "3 red\n",
      "2 purple\n",
      "10 gray\n",
      "2 purple\n"
     ]
    }
   ],
   "source": [
    "tmp = orderings_rgb[6][with_same_first_color][idx]\n",
    "top_cycles[6] = list(tmp)\n",
    "print(\"Names:\")\n",
    "for i in range(6):\n",
    "    i = COLOR_NAME_IDX[\n",
    "        int(tmp[i][0:2], 16)\n",
    "        + int(tmp[i][2:4], 16) * 256\n",
    "        + int(tmp[i][4:], 16) * 256 ** 2\n",
    "    ]\n",
    "    print(i, COLOR_NAMES[i])"
   ]
  },
  {
   "cell_type": "markdown",
   "metadata": {},
   "source": [
    "### Eight colors"
   ]
  },
  {
   "cell_type": "code",
   "execution_count": 30,
   "metadata": {},
   "outputs": [],
   "source": [
    "set_rgb, set_jab, set_jab_deut, set_jab_prot, set_jab_trit = to_jab_cvd(\n",
    "    [\"ffffff\"] + TOP_SETS_RGB[8]\n",
    ")"
   ]
  },
  {
   "cell_type": "code",
   "execution_count": 31,
   "metadata": {},
   "outputs": [],
   "source": [
    "permutations = np.array(list(itertools.permutations(np.arange(8))))\n",
    "scores_mean = np.mean(scores[8], axis=0)\n",
    "with_same_first_color = permutations[:, 0] == permutations[np.argmax(scores_mean)][0]\n",
    "permutations = permutations[with_same_first_color]\n",
    "scores_mean = scores_mean[with_same_first_color]"
   ]
  },
  {
   "cell_type": "code",
   "execution_count": 32,
   "metadata": {},
   "outputs": [
    {
     "name": "stdout",
     "output_type": "stream",
     "text": [
      "288\n"
     ]
    }
   ],
   "source": [
    "permutation_scores = score_permuations(\n",
    "    permutations, set_rgb, set_jab, set_jab_deut, set_jab_prot, set_jab_trit\n",
    ")\n",
    "print(np.sum(permutation_scores > 0))"
   ]
  },
  {
   "cell_type": "code",
   "execution_count": 33,
   "metadata": {},
   "outputs": [],
   "source": [
    "cycle_scores[\"first08\"] = with_same_first_color\n",
    "cycle_scores[\"access08\"] = permutation_scores.astype(np.float32)"
   ]
  },
  {
   "cell_type": "code",
   "execution_count": 34,
   "metadata": {},
   "outputs": [
    {
     "data": {
      "text/plain": [
       "<matplotlib.collections.PathCollection at 0x7f42e29be978>"
      ]
     },
     "execution_count": 1,
     "metadata": {},
     "output_type": "execute_result"
    },
    {
     "data": {
      "image/png": "[encoded data removed]",
      "text/plain": [
       "<Figure size 432x288 with 1 Axes>"
      ]
     },
     "metadata": {
      "needs_background": "light"
     },
     "output_type": "display_data"
    }
   ],
   "source": [
    "plt.scatter(scores_mean, permutation_scores)"
   ]
  },
  {
   "cell_type": "code",
   "execution_count": 35,
   "metadata": {},
   "outputs": [
    {
     "data": {
      "text/plain": [
       "(array([5038]),)"
      ]
     },
     "execution_count": 1,
     "metadata": {},
     "output_type": "execute_result"
    }
   ],
   "source": [
    "tallies8 = permutation_scores * scores_mean\n",
    "np.where(tallies8 == np.max(tallies8))"
   ]
  },
  {
   "cell_type": "code",
   "execution_count": 36,
   "metadata": {},
   "outputs": [
    {
     "data": {
      "image/png": "[encoded data removed]",
      "text/plain": [
       "<Figure size 216x288 with 1 Axes>"
      ]
     },
     "metadata": {
      "needs_background": "light"
     },
     "output_type": "display_data"
    }
   ],
   "source": [
    "idx = np.where(tallies8 == np.sort(np.unique(tallies8))[-1])[0][0]\n",
    "n = len(orderings_rgb[8][0])\n",
    "\n",
    "fig, ax = plt.subplots(figsize=(3, n * 0.5))\n",
    "\n",
    "# Get height and width\n",
    "w, Y = fig.get_dpi() * fig.get_size_inches()\n",
    "h = Y / (n + 1)\n",
    "\n",
    "for i, name in enumerate(orderings_rgb[8][with_same_first_color][idx]):\n",
    "    row = i\n",
    "    y = Y - (row * h) - h\n",
    "    xi_line = w * (0.05)\n",
    "    xf_line = w * (0.25)\n",
    "    xi_text = w * (0.3)\n",
    "    ax.text(\n",
    "        xi_text,\n",
    "        y,\n",
    "        \"#\" + name,\n",
    "        fontsize=(h * 0.6),\n",
    "        horizontalalignment=\"left\",\n",
    "        verticalalignment=\"center\",\n",
    "    )\n",
    "\n",
    "    ax.hlines(y + h * 0.1, xi_line, xf_line, color=\"#\" + name, linewidth=(h * 0.6))\n",
    "ax.set_xlim(0, w)\n",
    "ax.set_ylim(0, Y)\n",
    "ax.set_axis_off()\n",
    "fig.subplots_adjust(left=0, right=1, top=1, bottom=0, hspace=0, wspace=0)\n",
    "plt.show()"
   ]
  },
  {
   "cell_type": "code",
   "execution_count": 37,
   "metadata": {},
   "outputs": [
    {
     "name": "stdout",
     "output_type": "stream",
     "text": [
      "Names:\n",
      "1 blue\n",
      "6 orange\n",
      "3 red\n",
      "2 purple\n",
      "10 gray\n",
      "9 light blue\n",
      "1 blue\n",
      "10 gray\n"
     ]
    }
   ],
   "source": [
    "tmp = orderings_rgb[8][with_same_first_color][idx]\n",
    "top_cycles[8] = list(tmp)\n",
    "print(\"Names:\")\n",
    "for i in range(8):\n",
    "    i = COLOR_NAME_IDX[\n",
    "        int(tmp[i][0:2], 16)\n",
    "        + int(tmp[i][2:4], 16) * 256\n",
    "        + int(tmp[i][4:], 16) * 256 ** 2\n",
    "    ]\n",
    "    print(i, COLOR_NAMES[i])"
   ]
  },
  {
   "cell_type": "markdown",
   "metadata": {},
   "source": [
    "### Ten colors"
   ]
  },
  {
   "cell_type": "code",
   "execution_count": 38,
   "metadata": {},
   "outputs": [],
   "source": [
    "set_rgb, set_jab, set_jab_deut, set_jab_prot, set_jab_trit = to_jab_cvd(\n",
    "    [\"ffffff\"] + TOP_SETS_RGB[10]\n",
    ")"
   ]
  },
  {
   "cell_type": "code",
   "execution_count": 39,
   "metadata": {},
   "outputs": [],
   "source": [
    "permutations = np.array(list(itertools.permutations(np.arange(10))))\n",
    "scores_mean = np.mean(scores[10], axis=0)\n",
    "with_same_first_color = permutations[:, 0] == permutations[np.argmax(scores_mean)][0]\n",
    "permutations = permutations[with_same_first_color]\n",
    "scores_mean = scores_mean[with_same_first_color]"
   ]
  },
  {
   "cell_type": "code",
   "execution_count": 40,
   "metadata": {},
   "outputs": [
    {
     "name": "stdout",
     "output_type": "stream",
     "text": [
      "23040\n"
     ]
    }
   ],
   "source": [
    "permutation_scores = score_permuations(\n",
    "    permutations, set_rgb, set_jab, set_jab_deut, set_jab_prot, set_jab_trit\n",
    ")\n",
    "print(np.sum(permutation_scores > 0))"
   ]
  },
  {
   "cell_type": "code",
   "execution_count": 41,
   "metadata": {},
   "outputs": [],
   "source": [
    "cycle_scores[\"first10\"] = with_same_first_color\n",
    "cycle_scores[\"access10\"] = permutation_scores.astype(np.float32)"
   ]
  },
  {
   "cell_type": "code",
   "execution_count": 42,
   "metadata": {},
   "outputs": [
    {
     "data": {
      "text/plain": [
       "<matplotlib.collections.PathCollection at 0x7f43bcd10f60>"
      ]
     },
     "execution_count": 1,
     "metadata": {},
     "output_type": "execute_result"
    },
    {
     "data": {
      "image/png": "[encoded data removed]",
      "text/plain": [
       "<Figure size 432x288 with 1 Axes>"
      ]
     },
     "metadata": {
      "needs_background": "light"
     },
     "output_type": "display_data"
    }
   ],
   "source": [
    "plt.scatter(scores_mean, permutation_scores)"
   ]
  },
  {
   "cell_type": "code",
   "execution_count": 43,
   "metadata": {},
   "outputs": [
    {
     "data": {
      "text/plain": [
       "(array([355150]),)"
      ]
     },
     "execution_count": 1,
     "metadata": {},
     "output_type": "execute_result"
    }
   ],
   "source": [
    "tallies10 = permutation_scores * scores_mean\n",
    "np.where(tallies10 == np.max(tallies10))"
   ]
  },
  {
   "cell_type": "code",
   "execution_count": 44,
   "metadata": {},
   "outputs": [
    {
     "data": {
      "image/png": "[encoded data removed]",
      "text/plain": [
       "<Figure size 216x360 with 1 Axes>"
      ]
     },
     "metadata": {
      "needs_background": "light"
     },
     "output_type": "display_data"
    }
   ],
   "source": [
    "idx = np.where(tallies10 == np.sort(np.unique(tallies10))[-1])[0][0]\n",
    "n = len(orderings_rgb[10][0])\n",
    "\n",
    "fig, ax = plt.subplots(figsize=(3, n * 0.5))\n",
    "\n",
    "# Get height and width\n",
    "w, Y = fig.get_dpi() * fig.get_size_inches()\n",
    "h = Y / (n + 1)\n",
    "\n",
    "for i, name in enumerate(orderings_rgb[10][with_same_first_color][idx]):\n",
    "    row = i\n",
    "    y = Y - (row * h) - h\n",
    "    xi_line = w * (0.05)\n",
    "    xf_line = w * (0.25)\n",
    "    xi_text = w * (0.3)\n",
    "    ax.text(\n",
    "        xi_text,\n",
    "        y,\n",
    "        \"#\" + name,\n",
    "        fontsize=(h * 0.6),\n",
    "        horizontalalignment=\"left\",\n",
    "        verticalalignment=\"center\",\n",
    "    )\n",
    "\n",
    "    ax.hlines(y + h * 0.1, xi_line, xf_line, color=\"#\" + name, linewidth=(h * 0.6))\n",
    "ax.set_xlim(0, w)\n",
    "ax.set_ylim(0, Y)\n",
    "ax.set_axis_off()\n",
    "fig.subplots_adjust(left=0, right=1, top=1, bottom=0, hspace=0, wspace=0)\n",
    "plt.show()"
   ]
  },
  {
   "cell_type": "code",
   "execution_count": 45,
   "metadata": {},
   "outputs": [
    {
     "name": "stdout",
     "output_type": "stream",
     "text": [
      "Names:\n",
      "1 blue\n",
      "6 orange\n",
      "3 red\n",
      "10 gray\n",
      "2 purple\n",
      "7 brown\n",
      "6 orange\n",
      "20 tan\n",
      "10 gray\n",
      "9 light blue\n"
     ]
    }
   ],
   "source": [
    "tmp = orderings_rgb[10][with_same_first_color][idx]\n",
    "top_cycles[10] = list(tmp)\n",
    "print(\"Names:\")\n",
    "for i in range(10):\n",
    "    i = COLOR_NAME_IDX[\n",
    "        int(tmp[i][0:2], 16)\n",
    "        + int(tmp[i][2:4], 16) * 256\n",
    "        + int(tmp[i][4:], 16) * 256 ** 2\n",
    "    ]\n",
    "    print(i, COLOR_NAMES[i])"
   ]
  },
  {
   "cell_type": "markdown",
   "metadata": {},
   "source": [
    "### Save results"
   ]
  },
  {
   "cell_type": "code",
   "execution_count": 46,
   "metadata": {},
   "outputs": [],
   "source": [
    "np.savez_compressed('cycle-scores.npz', **cycle_scores)\n",
    "with open('top-cycles.json', 'w') as outfile:\n",
    "    json.dump(top_cycles, outfile)"
   ]
  }
 ],
 "metadata": {
  "kernelspec": {
   "display_name": "Python 3",
   "language": "python",
   "name": "python3"
  },
  "language_info": {
   "codemirror_mode": {
    "name": "ipython",
    "version": 3
   },
   "file_extension": ".py",
   "mimetype": "text/x-python",
   "name": "python",
   "nbconvert_exporter": "python",
   "pygments_lexer": "ipython3",
   "version": "3.6.9"
  }
 },
 "nbformat": 4,
 "nbformat_minor": 4
}
