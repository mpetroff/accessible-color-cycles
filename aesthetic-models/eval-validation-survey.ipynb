{
 "cells": [
  {
   "cell_type": "code",
   "execution_count": 1,
   "metadata": {},
   "outputs": [],
   "source": [
    "import sqlite3\n",
    "import numpy as np"
   ]
  },
  {
   "cell_type": "code",
   "execution_count": 2,
   "metadata": {},
   "outputs": [],
   "source": [
    "import sys\n",
    "sys.path.append('numpy-version')\n",
    "from numpy_model import SetModel, CycleModel"
   ]
  },
  {
   "cell_type": "code",
   "execution_count": 3,
   "metadata": {},
   "outputs": [],
   "source": [
    "DB_FILE = \"../validation-survey-results/results.db\""
   ]
  },
  {
   "cell_type": "markdown",
   "metadata": {},
   "source": [
    "## Evaluate sets and cycles using aesthetic model"
   ]
  },
  {
   "cell_type": "code",
   "execution_count": 4,
   "metadata": {},
   "outputs": [],
   "source": [
    "set_model = SetModel(\"numpy-version/set_model_weights.npz.gz\")\n",
    "cycle_model = CycleModel(\"numpy-version/cycle_model_weights.npz.gz\")"
   ]
  },
  {
   "cell_type": "code",
   "execution_count": 5,
   "metadata": {},
   "outputs": [],
   "source": [
    "conn = sqlite3.connect(DB_FILE)\n",
    "c = conn.cursor()\n",
    "set_scores = []\n",
    "for i in range(50):\n",
    "    sets = c.execute(\"SELECT c1, c2 FROM picks WHERE np = ?\", (i,)).fetchone()\n",
    "    set_scores.append((set_model(sets[0].split(\",\")), set_model(sets[1].split(\",\"))))\n",
    "conn.close()\n",
    "set_scores = np.array(set_scores).T"
   ]
  },
  {
   "cell_type": "code",
   "execution_count": 6,
   "metadata": {},
   "outputs": [],
   "source": [
    "conn = sqlite3.connect(DB_FILE)\n",
    "c = conn.cursor()\n",
    "cycle_scores = []\n",
    "for i in range(50):\n",
    "    set1, set2, order = c.execute(\n",
    "        \"SELECT c1, c2, o FROM picks WHERE np = ?\", (i,)\n",
    "    ).fetchone()\n",
    "    set_pick = set1 if i % 2 == 0 else set2\n",
    "    set_pick = np.array(set_pick.split(\",\"))\n",
    "    order = order.split(\",\")\n",
    "    cycle_scores.append(\n",
    "        (\n",
    "            cycle_model(set_pick[[int(o) for o in order[0]]]),\n",
    "            cycle_model(set_pick[[int(o) for o in order[1]]]),\n",
    "            cycle_model(set_pick[[int(o) for o in order[2]]]),\n",
    "            cycle_model(set_pick[[int(o) for o in order[3]]]),\n",
    "        )\n",
    "    )\n",
    "conn.close()\n",
    "cycle_scores = np.array(cycle_scores).T"
   ]
  },
  {
   "cell_type": "markdown",
   "metadata": {},
   "source": [
    "## Evaluate validation survey results\n",
    "\n",
    "Self-consistency for individual subjects, overall consistency, and accuracy of aesthetic model are considered for both sets and cycles."
   ]
  },
  {
   "cell_type": "code",
   "execution_count": 7,
   "metadata": {},
   "outputs": [
    {
     "name": "stdout",
     "output_type": "stream",
     "text": [
      "first set matches second set: 0.63\n"
     ]
    }
   ],
   "source": [
    "conn = sqlite3.connect(DB_FILE)\n",
    "c = conn.cursor()\n",
    "set_a = []\n",
    "set_b = []\n",
    "for i in range(50):\n",
    "    set_a.append(list(c.execute(\"SELECT sp FROM picks WHERE np = ?\", (i,))))\n",
    "    set_b.append(list(c.execute(\"SELECT sp FROM picks WHERE np = ?\", (i + 50,))))\n",
    "conn.close()\n",
    "set_a = np.array(set_a).reshape(50, -1)\n",
    "set_b = np.array(set_b).reshape(50, -1)\n",
    "print(\"first set matches second set: {:.2f}\".format(np.mean(set_a == set_b)))"
   ]
  },
  {
   "cell_type": "code",
   "execution_count": 8,
   "metadata": {},
   "outputs": [
    {
     "name": "stdout",
     "output_type": "stream",
     "text": [
      "set matches mean of other subjects: 0.58\n"
     ]
    }
   ],
   "source": [
    "set_all = np.append(set_a.T, set_b.T, axis=0)\n",
    "results = []\n",
    "for i in range(set_all.shape[0] // 2):\n",
    "    # Exclude the current subject from mode to avoid bias\n",
    "    idx = list(range(set_all.shape[0]))\n",
    "    idx.pop(set_all.shape[0] // 2 + i)\n",
    "    idx.pop(i)\n",
    "    # Consider mode\n",
    "    response_count = np.array([np.sum(set_all[idx] == c, axis=0) for c in range(1, 3)])\n",
    "    max_count = np.max(response_count, axis=0)\n",
    "    # Consider both responses from current subject\n",
    "    j = set_all.shape[0] // 2 + i\n",
    "    # If tied with mode, divide by tie count\n",
    "    results.append(\n",
    "        np.mean(\n",
    "            (np.choose(set_all[i] - 1, response_count) == max_count)\n",
    "            / np.sum(response_count == max_count, axis=0)\n",
    "        )\n",
    "    )\n",
    "    results.append(\n",
    "        np.mean(\n",
    "            (np.choose(set_all[j] - 1, response_count) == max_count)\n",
    "            / np.sum(response_count == max_count, axis=0)\n",
    "        )\n",
    "    )\n",
    "np.mean(results)\n",
    "print(\"set matches mean of other subjects: {:.2f}\".format(np.mean(results)))"
   ]
  },
  {
   "cell_type": "code",
   "execution_count": 9,
   "metadata": {},
   "outputs": [
    {
     "name": "stdout",
     "output_type": "stream",
     "text": [
      "set prediction matches responses: 0.59\n"
     ]
    }
   ],
   "source": [
    "print(\n",
    "    \"set prediction matches responses: {:.2f}\".format(\n",
    "        np.mean((set_all - 1) == np.argmax(set_scores, axis=0))\n",
    "    )\n",
    ")"
   ]
  },
  {
   "cell_type": "code",
   "execution_count": 10,
   "metadata": {},
   "outputs": [
    {
     "name": "stdout",
     "output_type": "stream",
     "text": [
      "set prediction matches mode: 0.70\n"
     ]
    }
   ],
   "source": [
    "# Consider mode\n",
    "response_count = np.array([np.sum(set_all == c, axis=0) for c in range(1, 3)])\n",
    "max_count = np.max(response_count, axis=0)\n",
    "print(\n",
    "    \"set prediction matches mode: {:.2f}\".format(\n",
    "        np.mean(\n",
    "            (np.choose(np.argmax(set_scores, axis=0), response_count) == max_count)\n",
    "            / np.sum(response_count == max_count, axis=0)\n",
    "        )\n",
    "    )\n",
    ")"
   ]
  },
  {
   "cell_type": "code",
   "execution_count": 11,
   "metadata": {},
   "outputs": [
    {
     "name": "stdout",
     "output_type": "stream",
     "text": [
      "first cycle matches second cycle: 0.43\n"
     ]
    }
   ],
   "source": [
    "conn = sqlite3.connect(DB_FILE)\n",
    "c = conn.cursor()\n",
    "cycle_a = []\n",
    "cycle_b = []\n",
    "for i in range(50):\n",
    "    cycle_a.append(list(c.execute(\"SELECT cp FROM picks WHERE np = ?\", (i,))))\n",
    "    cycle_b.append(list(c.execute(\"SELECT cp FROM picks WHERE np = ?\", (i + 50,))))\n",
    "conn.close()\n",
    "cycle_a = np.array(cycle_a).reshape(50, -1)\n",
    "cycle_b = np.array(cycle_b).reshape(50, -1)\n",
    "print(\"first cycle matches second cycle: {:.2f}\".format(np.mean(cycle_a == cycle_b)))"
   ]
  },
  {
   "cell_type": "code",
   "execution_count": 12,
   "metadata": {},
   "outputs": [
    {
     "name": "stdout",
     "output_type": "stream",
     "text": [
      "cycle matches mode of other subjects: 0.31\n"
     ]
    }
   ],
   "source": [
    "cycle_all = np.append(cycle_a.T, cycle_b.T, axis=0)\n",
    "results = []\n",
    "for i in range(cycle_all.shape[0] // 2):\n",
    "    # Exclude the current subject from mode to avoid bias\n",
    "    idx = list(range(cycle_all.shape[0]))\n",
    "    idx.pop(cycle_all.shape[0] // 2 + i)\n",
    "    idx.pop(i)\n",
    "    # Consider mode\n",
    "    response_count = np.array(\n",
    "        [np.sum(cycle_all[idx] == c, axis=0) for c in range(1, 5)]\n",
    "    )\n",
    "    max_count = np.max(response_count, axis=0)\n",
    "    # Consider both responses from current subject\n",
    "    j = cycle_all.shape[0] // 2 + i\n",
    "    # If tied with mode, divide by tie count\n",
    "    results.append(\n",
    "        np.mean(\n",
    "            (np.choose(cycle_all[i] - 1, response_count) == max_count)\n",
    "            / np.sum(response_count == max_count, axis=0)\n",
    "        )\n",
    "    )\n",
    "    results.append(\n",
    "        np.mean(\n",
    "            (np.choose(cycle_all[j] - 1, response_count) == max_count)\n",
    "            / np.sum(response_count == max_count, axis=0)\n",
    "        )\n",
    "    )\n",
    "np.mean(results)\n",
    "print(\"cycle matches mode of other subjects: {:.2f}\".format(np.mean(results)))"
   ]
  },
  {
   "cell_type": "code",
   "execution_count": 13,
   "metadata": {},
   "outputs": [
    {
     "name": "stdout",
     "output_type": "stream",
     "text": [
      "cycle prediction matches responses: 0.32\n"
     ]
    }
   ],
   "source": [
    "print(\n",
    "    \"cycle prediction matches responses: {:.2f}\".format(\n",
    "        np.mean((cycle_all - 1) == np.argmax(cycle_scores, axis=0))\n",
    "    )\n",
    ")"
   ]
  },
  {
   "cell_type": "code",
   "execution_count": 14,
   "metadata": {},
   "outputs": [
    {
     "name": "stdout",
     "output_type": "stream",
     "text": [
      "cycle prediction matches mode: 0.37\n"
     ]
    }
   ],
   "source": [
    "# Consider mode\n",
    "response_count = np.array([np.sum(cycle_all == c, axis=0) for c in range(1, 5)])\n",
    "max_count = np.max(response_count, axis=0)\n",
    "print(\n",
    "    \"cycle prediction matches mode: {:.2f}\".format(\n",
    "        np.mean(\n",
    "            (np.choose(np.argmax(cycle_scores, axis=0), response_count) == max_count)\n",
    "            / np.sum(response_count == max_count, axis=0)\n",
    "        )\n",
    "    )\n",
    ")"
   ]
  }
 ],
 "metadata": {
  "kernelspec": {
   "display_name": "Python 3",
   "language": "python",
   "name": "python3"
  },
  "language_info": {
   "codemirror_mode": {
    "name": "ipython",
    "version": 3
   },
   "file_extension": ".py",
   "mimetype": "text/x-python",
   "name": "python",
   "nbconvert_exporter": "python",
   "pygments_lexer": "ipython3",
   "version": "3.6.9"
  }
 },
 "nbformat": 4,
 "nbformat_minor": 5
}
