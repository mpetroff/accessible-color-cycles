{
 "cells": [
  {
   "cell_type": "markdown",
   "metadata": {},
   "source": [
    "# Set / cycle aesthetic models implemented with just NumPy\n",
    "\n",
    "This notebook, along with `numpy_model.py`, serves as a reference for using the machine-learning-derived aesthetic-preference models in plain NumPy. It eliminates the dependency on TensorFlow, allows for much quicker startup time, and eliminates the need to construct the model differently for different set / cycle sizes."
   ]
  },
  {
   "cell_type": "code",
   "execution_count": 1,
   "metadata": {},
   "outputs": [],
   "source": [
    "import gzip\n",
    "import numpy as np\n",
    "import colorspacious\n",
    "from numpy_model import SetModel, CycleModel"
   ]
  },
  {
   "cell_type": "code",
   "execution_count": 2,
   "metadata": {},
   "outputs": [],
   "source": [
    "set_model = SetModel(\"set_model_weights.npz.gz\")"
   ]
  },
  {
   "cell_type": "code",
   "execution_count": 3,
   "metadata": {},
   "outputs": [
    {
     "data": {
      "text/plain": [
       "array([0.9407356 , 0.92325067, 0.91179653, 0.90746855, 0.97235842,\n",
       "       0.87814595, 0.95064555, 0.95652208, 0.95896659, 0.93452655,\n",
       "       0.95849617, 0.95634684, 0.92588308, 0.89528361, 0.92886266,\n",
       "       0.93745349, 0.91188076, 0.92659491, 0.9146983 , 0.95082445,\n",
       "       0.93291935, 0.90114288, 0.93595538, 0.95127765, 0.95795301,\n",
       "       0.93861053, 0.96140436, 0.95401919, 0.92817434, 0.88656765,\n",
       "       0.89589191, 0.97675997, 0.94061453, 0.91865082, 0.95474508,\n",
       "       0.94461286, 0.92363482, 0.96499798, 0.92938569, 0.96354053,\n",
       "       0.94115221, 0.96538744, 0.92923351, 0.9368276 , 0.94854879,\n",
       "       0.95069497, 0.94660813, 0.94894713, 0.9239899 , 0.91478789,\n",
       "       0.95417172, 0.97155175, 0.87584965, 0.9221434 , 0.93746551,\n",
       "       0.97827544, 0.9734127 , 0.98348642, 0.92747586, 0.93725532,\n",
       "       0.98018789, 0.91959197, 0.93972237, 0.96397076, 0.94397894,\n",
       "       0.95660088, 0.92827893, 0.94917383, 0.91458699, 0.97417309,\n",
       "       0.95993975, 0.96077677, 0.95813232, 0.93259952, 0.95964985,\n",
       "       0.90221174, 0.8944325 , 0.96995149, 0.88458181, 0.93559671,\n",
       "       0.95145267, 0.95037301, 0.9318611 , 0.95555547, 0.94765259,\n",
       "       0.95925983, 0.88449847, 0.963304  , 0.89362224, 0.92059959,\n",
       "       0.89228956, 0.97210029, 0.95762266, 0.90726886, 0.92174384,\n",
       "       0.94842175, 0.92711482, 0.97260191, 0.95877567, 0.9352079 ])"
      ]
     },
     "execution_count": 1,
     "metadata": {},
     "output_type": "execute_result"
    }
   ],
   "source": [
    "set_model([\"5790fc\", \"f89c20\", \"e42536\", \"964a8b\", \"9c9ca1\", \"7a21dd\"], False)"
   ]
  },
  {
   "cell_type": "code",
   "execution_count": 4,
   "metadata": {},
   "outputs": [
    {
     "data": {
      "text/plain": [
       "0.9384832896546818"
      ]
     },
     "execution_count": 1,
     "metadata": {},
     "output_type": "execute_result"
    }
   ],
   "source": [
    "set_model([\"5790fc\", \"f89c20\", \"e42536\", \"964a8b\", \"9c9ca1\", \"7a21dd\"])"
   ]
  },
  {
   "cell_type": "code",
   "execution_count": 5,
   "metadata": {},
   "outputs": [],
   "source": [
    "cycle_model = CycleModel(\"cycle_model_weights.npz.gz\")"
   ]
  },
  {
   "cell_type": "code",
   "execution_count": 6,
   "metadata": {},
   "outputs": [
    {
     "data": {
      "text/plain": [
       "array([0.79113204, 0.84352501, 0.73963716, 0.82771162, 0.93812328,\n",
       "       0.90184422, 0.80009427, 0.91007263, 0.90014248, 0.90255738,\n",
       "       0.89314603, 0.87337727, 0.94452668, 0.93412935, 0.97595985,\n",
       "       0.94515165, 0.80886561, 0.95295789, 0.94706009, 0.81464452,\n",
       "       0.89526913, 0.92536559, 0.92859962, 0.8628093 , 0.96058151,\n",
       "       0.90387856, 0.87772628, 0.96258661, 0.81628324, 0.90389503,\n",
       "       0.73150181, 0.96628648, 0.78988317, 0.87065408, 0.92929813,\n",
       "       0.80659468, 0.75030227, 0.95403829, 0.89626898, 0.83050431,\n",
       "       0.85668924, 0.98271341, 0.89517819, 0.88757386, 0.94805913,\n",
       "       0.93444915, 0.8905322 , 0.91697865, 0.95031951, 0.57388685,\n",
       "       0.93093406, 0.76945447, 0.94673372, 0.7918687 , 0.81393584,\n",
       "       0.81855381, 0.68476482, 0.96826218, 0.96453205, 0.7801653 ,\n",
       "       0.72103778, 0.80424852, 0.7219706 , 0.95473046, 0.79892566,\n",
       "       0.94427794, 0.94256421, 0.89724755, 0.90743375, 0.9223052 ,\n",
       "       0.86892798, 0.95484589, 0.86904558, 0.96611119, 0.9382704 ,\n",
       "       0.92188258, 0.92456774, 0.94169126, 0.92796681, 0.91184645,\n",
       "       0.94663032, 0.6542909 , 0.92663175, 0.82408545, 0.90581022,\n",
       "       0.94265764, 0.83890655, 0.82409555, 0.97114818, 0.90441664,\n",
       "       0.93499123, 0.97984326, 0.90747135, 0.91572324, 0.85128069,\n",
       "       0.91300771, 0.94609118, 0.91674159, 0.952085  , 0.87554719])"
      ]
     },
     "execution_count": 1,
     "metadata": {},
     "output_type": "execute_result"
    }
   ],
   "source": [
    "cycle_model([\"5790fc\", \"f89c20\", \"e42536\", \"964a8b\", \"9c9ca1\", \"7a21dd\"], False)"
   ]
  },
  {
   "cell_type": "code",
   "execution_count": 7,
   "metadata": {},
   "outputs": [
    {
     "data": {
      "text/plain": [
       "0.8828392444301422"
      ]
     },
     "execution_count": 1,
     "metadata": {},
     "output_type": "execute_result"
    }
   ],
   "source": [
    "cycle_model([\"5790fc\", \"f89c20\", \"e42536\", \"964a8b\", \"9c9ca1\", \"7a21dd\"])"
   ]
  }
 ],
 "metadata": {
  "kernelspec": {
   "display_name": "Python 3",
   "language": "python",
   "name": "python3"
  },
  "language_info": {
   "codemirror_mode": {
    "name": "ipython",
    "version": 3
   },
   "file_extension": ".py",
   "mimetype": "text/x-python",
   "name": "python",
   "nbconvert_exporter": "python",
   "pygments_lexer": "ipython3",
   "version": "3.6.9"
  }
 },
 "nbformat": 4,
 "nbformat_minor": 4
}
