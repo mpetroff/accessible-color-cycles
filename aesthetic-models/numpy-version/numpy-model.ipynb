{
 "cells": [
  {
   "cell_type": "markdown",
   "metadata": {},
   "source": [
    "# Set / cycle aesthetic models implemented with just NumPy\n",
    "\n",
    "This notebook serves as a reference for using the machine-learning-derived aesthetic-preference models in plain NumPy. It eliminates the dependency on TensorFlow, allows for much quicker startup time, and eliminates the need to construct the model differently for different set / cycle sizes."
   ]
  },
  {
   "cell_type": "code",
   "execution_count": 1,
   "metadata": {},
   "outputs": [],
   "source": [
    "import gzip\n",
    "import numpy as np\n",
    "import colorspacious"
   ]
  },
  {
   "cell_type": "code",
   "execution_count": 2,
   "metadata": {},
   "outputs": [],
   "source": [
    "def to_jab(color):\n",
    "    \"\"\"\n",
    "    Convert hex color code (without `#`) to CAM02-UCS.\n",
    "    \"\"\"\n",
    "    rgb = [(int(i[:2], 16), int(i[2:4], 16), int(i[4:], 16)) for i in color]\n",
    "    jab = [colorspacious.cspace_convert(i, \"sRGB255\", \"CAM02-UCS\") for i in rgb]\n",
    "    return np.array(jab, dtype=np.float32)\n",
    "\n",
    "\n",
    "def sort_colors_by_j(colors):\n",
    "    \"\"\"\n",
    "    Sorts colors by CAM02-UCS J' axis.\n",
    "    \"\"\"\n",
    "    return colors[np.lexsort(colors[:, ::-1].T, 0)]\n",
    "\n",
    "\n",
    "def sort_colors_by_a(colors):\n",
    "    \"\"\"\n",
    "    Sorts colors by CAM02-UCS a' axis.\n",
    "    \"\"\"\n",
    "    return colors[np.argsort(colors[:, ::-1].T[1])]\n",
    "\n",
    "\n",
    "def sort_colors_by_b(colors):\n",
    "    \"\"\"\n",
    "    Sorts colors by CAM02-UCS b' axis.\n",
    "    \"\"\"\n",
    "    return colors[np.argsort(colors[:, ::-1].T[2])]"
   ]
  },
  {
   "cell_type": "code",
   "execution_count": 3,
   "metadata": {},
   "outputs": [],
   "source": [
    "# These four functions are based on functions in: https://github.com/keras-team/keras/blob/2.3.0/keras/backend/numpy_backend.py\n",
    "\n",
    "\n",
    "def conv(x, w):\n",
    "    y = []\n",
    "    for j in range(w.shape[1]):\n",
    "        _y = [np.convolve(x[k], w[k, j], \"same\") for k in range(w.shape[0])]\n",
    "        y.append(np.sum(np.stack(_y, axis=-1), axis=-1))\n",
    "    return np.array(y)\n",
    "\n",
    "\n",
    "def depthwise_conv(x, w):\n",
    "    y = []\n",
    "    for j in range(w.shape[0]):\n",
    "        _y = [np.convolve(x[j], w[j, k], \"same\") for k in range(w.shape[1])]\n",
    "        y.append(np.stack(_y, axis=0))\n",
    "    return np.concatenate(y, axis=0)\n",
    "\n",
    "\n",
    "def elu(x):\n",
    "    return x * (x > 0) + (np.exp(x) - 1) * (x < 0)\n",
    "\n",
    "\n",
    "def sigmoid(x):\n",
    "    return 1 / (1 + np.exp(-x))"
   ]
  },
  {
   "cell_type": "code",
   "execution_count": 4,
   "metadata": {},
   "outputs": [],
   "source": [
    "class Dense(object):\n",
    "    def __init__(self, kernel, bias):\n",
    "        self.kernel = kernel\n",
    "        self.bias = bias\n",
    "\n",
    "    def __call__(self, inputs):\n",
    "        outputs = np.dot(inputs, self.kernel)\n",
    "        outputs += self.bias\n",
    "        return elu(outputs)\n",
    "\n",
    "\n",
    "class SeparableConv1D(object):\n",
    "    def __init__(self, depthwise_kernel, pointwise_kernel, bias):\n",
    "        self.depthwise_kernel = depthwise_kernel\n",
    "        self.pointwise_kernel = pointwise_kernel\n",
    "        self.bias = bias\n",
    "\n",
    "    def __call__(self, inputs):\n",
    "        outputs = depthwise_conv(inputs, self.depthwise_kernel)\n",
    "        outputs = conv(outputs, self.pointwise_kernel)\n",
    "        outputs += self.bias\n",
    "        return elu(outputs)"
   ]
  },
  {
   "cell_type": "code",
   "execution_count": 5,
   "metadata": {},
   "outputs": [],
   "source": [
    "class SetModel(object):\n",
    "    def __init__(self, filename):\n",
    "        # Load model weights\n",
    "        layers = []\n",
    "        with gzip.open(filename, \"rb\") as infile:\n",
    "            weight_file = np.load(infile)\n",
    "            for i in range(weight_file[\"ensemble_count\"]):\n",
    "                layers.append({})\n",
    "                for key in [\"1j\", \"2j\", \"1a\", \"2a\", \"1b\", \"2b\"]:\n",
    "                    kernel = weight_file[key + f\"_{i:03d}_kernel\"]\n",
    "                    bias = weight_file[key + f\"_{i:03d}_bias\"]\n",
    "                    layers[i][key] = Dense(kernel, bias)\n",
    "                for key in [\"3j\", \"4j\", \"5j\", \"3a\", \"4a\", \"5a\", \"3b\", \"4b\", \"5b\"]:\n",
    "                    depthwise_kernel = weight_file[key + f\"_{i:03d}_depthwise_kernel\"]\n",
    "                    pointwise_kernel = weight_file[key + f\"_{i:03d}_pointwise_kernel\"]\n",
    "                    bias = weight_file[key + f\"_{i:03d}_bias\"]\n",
    "                    layers[i][key] = SeparableConv1D(\n",
    "                        depthwise_kernel, pointwise_kernel, bias\n",
    "                    )\n",
    "        self.all_layers = layers\n",
    "\n",
    "    @staticmethod\n",
    "    def _eval_ensemble_instance(layers, input_a):\n",
    "        \"\"\"\n",
    "        layers: dict with callable layers\n",
    "        input_a: [colors sorted by J', colors sorted by a', colors sorted by b']; shape=(3 * num_colors,)\n",
    "        \"\"\"\n",
    "        num_colors = input_a[0].shape[0] // 3\n",
    "\n",
    "        # Create network\n",
    "        inputs_a_j = [input_a[0][i * 3 : (i + 1) * 3] for i in range(num_colors)]\n",
    "        inputs_a_a = [input_a[1][i * 3 : (i + 1) * 3] for i in range(num_colors)]\n",
    "        inputs_a_b = [input_a[2][i * 3 : (i + 1) * 3] for i in range(num_colors)]\n",
    "\n",
    "        # Share layers between colors\n",
    "        x_a_j = [layers[\"1j\"](i / 100) for i in inputs_a_j]\n",
    "        x_a_a = [layers[\"1a\"](i / 100) for i in inputs_a_a]\n",
    "        x_a_b = [layers[\"1b\"](i / 100) for i in inputs_a_b]\n",
    "\n",
    "        x_a_j = [layers[\"2j\"](i) for i in x_a_j]\n",
    "        x_a_a = [layers[\"2a\"](i) for i in x_a_a]\n",
    "        x_a_b = [layers[\"2b\"](i) for i in x_a_b]\n",
    "\n",
    "        # Combine colors into sets\n",
    "        x_a_j = np.vstack(x_a_j).T\n",
    "        x_a_a = np.vstack(x_a_a).T\n",
    "        x_a_b = np.vstack(x_a_b).T\n",
    "\n",
    "        # Share layers between color sets\n",
    "        x_a_j = layers[\"3j\"](x_a_j)\n",
    "        x_a_a = layers[\"3a\"](x_a_a)\n",
    "        x_a_b = layers[\"3b\"](x_a_b)\n",
    "\n",
    "        x_a_j = layers[\"4j\"](x_a_j)\n",
    "        x_a_a = layers[\"4a\"](x_a_a)\n",
    "        x_a_b = layers[\"4b\"](x_a_b)\n",
    "\n",
    "        x_a_j = layers[\"5j\"](x_a_j)\n",
    "        x_a_a = layers[\"5a\"](x_a_a)\n",
    "        x_a_b = layers[\"5b\"](x_a_b)\n",
    "\n",
    "        # Average outputs\n",
    "        x_a_j = np.mean(x_a_j)\n",
    "        x_a_a = np.mean(x_a_a)\n",
    "        x_a_b = np.mean(x_a_b)\n",
    "\n",
    "        # Final non-linear activation\n",
    "        x_a_j = sigmoid(x_a_j)\n",
    "        x_a_a = sigmoid(x_a_a)\n",
    "        x_a_b = sigmoid(x_a_b)\n",
    "\n",
    "        # Final averaging of sub-ensemble\n",
    "        return np.mean([x_a_j, x_a_a, x_a_b])\n",
    "\n",
    "    def __call__(self, rgb_colors, average=True):\n",
    "        jab = to_jab(rgb_colors)\n",
    "        sorted_by_j = sort_colors_by_j(jab).flatten()\n",
    "        sorted_by_a = sort_colors_by_a(jab).flatten()\n",
    "        sorted_by_b = sort_colors_by_b(jab).flatten()\n",
    "        inputs = (sorted_by_j, sorted_by_a, sorted_by_b)\n",
    "        scores = np.array(\n",
    "            [SetModel._eval_ensemble_instance(l, inputs) for l in self.all_layers]\n",
    "        )\n",
    "        if average:\n",
    "            return np.mean(scores)\n",
    "        return scores"
   ]
  },
  {
   "cell_type": "code",
   "execution_count": 6,
   "metadata": {},
   "outputs": [],
   "source": [
    "class CycleModel(object):\n",
    "    def __init__(self, filename):\n",
    "        # Load model weights\n",
    "        layers = []\n",
    "        with gzip.open(filename, \"rb\") as infile:\n",
    "            weight_file = np.load(infile)\n",
    "            for i in range(weight_file[\"ensemble_count\"]):\n",
    "                layers.append({})\n",
    "                for key in [\"1\", \"2\"]:\n",
    "                    kernel = weight_file[key + f\"_{i:03d}_kernel\"]\n",
    "                    bias = weight_file[key + f\"_{i:03d}_bias\"]\n",
    "                    layers[i][key] = Dense(kernel, bias)\n",
    "                for key in [\"3\", \"4\", \"5\"]:\n",
    "                    depthwise_kernel = weight_file[key + f\"_{i:03d}_depthwise_kernel\"]\n",
    "                    pointwise_kernel = weight_file[key + f\"_{i:03d}_pointwise_kernel\"]\n",
    "                    bias = weight_file[key + f\"_{i:03d}_bias\"]\n",
    "                    layers[i][key] = SeparableConv1D(\n",
    "                        depthwise_kernel, pointwise_kernel, bias\n",
    "                    )\n",
    "        self.all_layers = layers\n",
    "\n",
    "    @staticmethod\n",
    "    def _eval_ensemble_instance(layers, input_a):\n",
    "        \"\"\"\n",
    "        layers: dict with callable layers\n",
    "        input_a: color cycle; shape=(3 * num_colors,)\n",
    "        \"\"\"\n",
    "        num_colors = input_a.shape[0] // 3\n",
    "\n",
    "        # Create network\n",
    "        inputs_a = [input_a[i * 3 : (i + 1) * 3] for i in range(num_colors)]\n",
    "\n",
    "        # Share layers between colors\n",
    "        x_a = [layers[\"1\"](i / 100) for i in inputs_a]\n",
    "        x_a = [layers[\"2\"](i) for i in x_a]\n",
    "\n",
    "        # Combine colors into sets\n",
    "        x_a = np.vstack(x_a).T\n",
    "\n",
    "        # Share layers between color sets\n",
    "        x_a = layers[\"3\"](x_a)\n",
    "        x_a = layers[\"4\"](x_a)\n",
    "        x_a = layers[\"5\"](x_a)\n",
    "\n",
    "        # Average outputs\n",
    "        x_a = np.mean(x_a)\n",
    "\n",
    "        # Final non-linear activation\n",
    "        return sigmoid(x_a)\n",
    "\n",
    "    def __call__(self, rgb_colors, average=True):\n",
    "        jab = to_jab(rgb_colors).flatten()\n",
    "        scores = np.array(\n",
    "            [CycleModel._eval_ensemble_instance(l, jab) for l in self.all_layers]\n",
    "        )\n",
    "        if average:\n",
    "            return np.mean(scores)\n",
    "        return scores"
   ]
  },
  {
   "cell_type": "code",
   "execution_count": 7,
   "metadata": {},
   "outputs": [],
   "source": [
    "set_model = SetModel(\"set_model_weights.npz.gz\")"
   ]
  },
  {
   "cell_type": "code",
   "execution_count": 8,
   "metadata": {},
   "outputs": [
    {
     "data": {
      "text/plain": [
       "array([0.9407356 , 0.92325067, 0.91179653, 0.90746855, 0.97235842,\n",
       "       0.87814595, 0.95064555, 0.95652208, 0.95896659, 0.93452655,\n",
       "       0.95849617, 0.95634684, 0.92588308, 0.89528361, 0.92886266,\n",
       "       0.93745349, 0.91188076, 0.92659491, 0.9146983 , 0.95082445,\n",
       "       0.93291935, 0.90114288, 0.93595538, 0.95127765, 0.95795301,\n",
       "       0.93861053, 0.96140436, 0.95401919, 0.92817434, 0.88656765,\n",
       "       0.89589191, 0.97675997, 0.94061453, 0.91865082, 0.95474508,\n",
       "       0.94461286, 0.92363482, 0.96499798, 0.92938569, 0.96354053,\n",
       "       0.94115221, 0.96538744, 0.92923351, 0.9368276 , 0.94854879,\n",
       "       0.95069497, 0.94660813, 0.94894713, 0.9239899 , 0.91478789,\n",
       "       0.95417172, 0.97155175, 0.87584965, 0.9221434 , 0.93746551,\n",
       "       0.97827544, 0.9734127 , 0.98348642, 0.92747586, 0.93725532,\n",
       "       0.98018789, 0.91959197, 0.93972237, 0.96397076, 0.94397894,\n",
       "       0.95660088, 0.92827893, 0.94917383, 0.91458699, 0.97417309,\n",
       "       0.95993975, 0.96077677, 0.95813232, 0.93259952, 0.95964985,\n",
       "       0.90221174, 0.8944325 , 0.96995149, 0.88458181, 0.93559671,\n",
       "       0.95145267, 0.95037301, 0.9318611 , 0.95555547, 0.94765259,\n",
       "       0.95925983, 0.88449847, 0.963304  , 0.89362224, 0.92059959,\n",
       "       0.89228956, 0.97210029, 0.95762266, 0.90726886, 0.92174384,\n",
       "       0.94842175, 0.92711482, 0.97260191, 0.95877567, 0.9352079 ])"
      ]
     },
     "execution_count": 1,
     "metadata": {},
     "output_type": "execute_result"
    }
   ],
   "source": [
    "set_model([\"5790fc\", \"f89c20\", \"e42536\", \"964a8b\", \"9c9ca1\", \"7a21dd\"], False)"
   ]
  },
  {
   "cell_type": "code",
   "execution_count": 9,
   "metadata": {},
   "outputs": [
    {
     "data": {
      "text/plain": [
       "0.9384832896546818"
      ]
     },
     "execution_count": 1,
     "metadata": {},
     "output_type": "execute_result"
    }
   ],
   "source": [
    "set_model([\"5790fc\", \"f89c20\", \"e42536\", \"964a8b\", \"9c9ca1\", \"7a21dd\"])"
   ]
  },
  {
   "cell_type": "code",
   "execution_count": 10,
   "metadata": {},
   "outputs": [],
   "source": [
    "cycle_model = CycleModel(\"cycle_model_weights.npz.gz\")"
   ]
  },
  {
   "cell_type": "code",
   "execution_count": 11,
   "metadata": {},
   "outputs": [
    {
     "data": {
      "text/plain": [
       "array([0.77880305, 0.74438472, 0.81492511, 0.70274252, 0.78859189,\n",
       "       0.70707072, 0.80014955, 0.82867692, 0.87105315, 0.91213424,\n",
       "       0.87378331, 0.74812133, 0.85634481, 0.6541449 , 0.83843975,\n",
       "       0.89770209, 0.84243689, 0.85762795, 0.86561825, 0.60064065,\n",
       "       0.80427225, 0.89478529, 0.80474089, 0.92233487, 0.91443815,\n",
       "       0.8102286 , 0.63196214, 0.83966476, 0.82920736, 0.90919499,\n",
       "       0.8448862 , 0.92216871, 0.8682478 , 0.5990899 , 0.84469815,\n",
       "       0.75213969, 0.79534706, 0.64202322, 0.85766183, 0.90605724,\n",
       "       0.69709626, 0.92023759, 0.80421394, 0.76639233, 0.86526482,\n",
       "       0.7743707 , 0.80446451, 0.71651572, 0.85954928, 0.78405863,\n",
       "       0.86404835, 0.7947659 , 0.81332994, 0.69471278, 0.77248851,\n",
       "       0.85317296, 0.53549137, 0.91477984, 0.68973683, 0.85540784,\n",
       "       0.7795836 , 0.66692666, 0.74429577, 0.84926695, 0.54264075,\n",
       "       0.65804364, 0.79430409, 0.70697147, 0.94339815, 0.86959849,\n",
       "       0.91572258, 0.7845324 , 0.87570527, 0.90863009, 0.89174885,\n",
       "       0.86163355, 0.66039279, 0.84264904, 0.60131731, 0.86500013,\n",
       "       0.81256555, 0.70751968, 0.7679606 , 0.67722062, 0.7786767 ,\n",
       "       0.8069827 , 0.82480582, 0.68780872, 0.85905332, 0.86897507,\n",
       "       0.59211527, 0.83492904, 0.76997783, 0.85990782, 0.64728522,\n",
       "       0.75407397, 0.72540808, 0.68698547, 0.8147187 , 0.92449044])"
      ]
     },
     "execution_count": 1,
     "metadata": {},
     "output_type": "execute_result"
    }
   ],
   "source": [
    "cycle_model([\"5790fc\", \"f89c20\", \"e42536\", \"964a8b\", \"9c9ca1\", \"7a21dd\"], False)"
   ]
  },
  {
   "cell_type": "code",
   "execution_count": 12,
   "metadata": {},
   "outputs": [
    {
     "data": {
      "text/plain": [
       "0.793204612141789"
      ]
     },
     "execution_count": 1,
     "metadata": {},
     "output_type": "execute_result"
    }
   ],
   "source": [
    "cycle_model([\"5790fc\", \"f89c20\", \"e42536\", \"964a8b\", \"9c9ca1\", \"7a21dd\"])"
   ]
  }
 ],
 "metadata": {
  "kernelspec": {
   "display_name": "Python 3",
   "language": "python",
   "name": "python3"
  },
  "language_info": {
   "codemirror_mode": {
    "name": "ipython",
    "version": 3
   },
   "file_extension": ".py",
   "mimetype": "text/x-python",
   "name": "python",
   "nbconvert_exporter": "python",
   "pygments_lexer": "ipython3",
   "version": "3.6.9"
  }
 },
 "nbformat": 4,
 "nbformat_minor": 4
}
