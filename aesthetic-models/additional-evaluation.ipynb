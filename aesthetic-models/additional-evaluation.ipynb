{
 "cells": [
  {
   "cell_type": "code",
   "execution_count": 1,
   "metadata": {},
   "outputs": [],
   "source": [
    "import json\n",
    "import numpy as np"
   ]
  },
  {
   "cell_type": "code",
   "execution_count": 2,
   "metadata": {},
   "outputs": [],
   "source": [
    "with open(\"top-sets.json\") as infile:\n",
    "    TOP_SETS_RGB = json.load(infile)\n",
    "TOP_SETS_RGB = {int(i): TOP_SETS_RGB[i] for i in TOP_SETS_RGB}\n",
    "ALL_NUM_COLORS = TOP_SETS_RGB.keys()"
   ]
  },
  {
   "cell_type": "code",
   "execution_count": 3,
   "metadata": {},
   "outputs": [],
   "source": [
    "setscores = np.load(\"set-scores.npz\")\n",
    "cyclescores = np.load(\"cycle-scores.npz\")"
   ]
  },
  {
   "cell_type": "markdown",
   "metadata": {},
   "source": [
    "## Evaluate score ranges"
   ]
  },
  {
   "cell_type": "code",
   "execution_count": 4,
   "metadata": {},
   "outputs": [
    {
     "name": "stdout",
     "output_type": "stream",
     "text": [
      "NN set score  6: [0.29, 0.96]\n",
      "NN set score  8: [0.28, 0.95]\n",
      "NN set score 10: [0.29, 0.93]\n"
     ]
    }
   ],
   "source": [
    "for n in ALL_NUM_COLORS:\n",
    "    key = f\"mean{n:02d}\"\n",
    "    print(f\"NN set score {n:2d}: [{setscores[key].min():.2f}, {setscores[key].max():.2f}]\")"
   ]
  },
  {
   "cell_type": "code",
   "execution_count": 5,
   "metadata": {},
   "outputs": [
    {
     "name": "stdout",
     "output_type": "stream",
     "text": [
      "Saliency set score  6: [0.29, 0.76]\n",
      "Saliency set score  8: [0.32, 0.71]\n",
      "Saliency set score 10: [0.34, 0.69]\n"
     ]
    }
   ],
   "source": [
    "for n in ALL_NUM_COLORS:\n",
    "    key = f\"saliency{n:02d}\"\n",
    "    print(f\"Saliency set score {n:2d}: [{setscores[key].min():.2f}, {setscores[key].max():.2f}]\")"
   ]
  },
  {
   "cell_type": "code",
   "execution_count": 6,
   "metadata": {},
   "outputs": [
    {
     "name": "stdout",
     "output_type": "stream",
     "text": [
      "NN cycle score  6: [0.29, 0.90]\n",
      "NN cycle score  8: [0.28, 0.96]\n",
      "NN cycle score 10: [0.29, 0.90]\n"
     ]
    }
   ],
   "source": [
    "for n in ALL_NUM_COLORS:\n",
    "    key = f\"mean{n:02d}\"\n",
    "    print(f\"NN cycle score {n:2d}: [{cyclescores[key].min():.2f}, {cyclescores[key].max():.2f}]\")"
   ]
  },
  {
   "cell_type": "code",
   "execution_count": 7,
   "metadata": {},
   "outputs": [
    {
     "name": "stdout",
     "output_type": "stream",
     "text": [
      "Accessibility cycle score  6: [382, 491]\n",
      "Accessibility cycle score  8: [579, 736]\n",
      "Accessibility cycle score 10: [240, 358]\n"
     ]
    }
   ],
   "source": [
    "for n in ALL_NUM_COLORS:\n",
    "    key = f\"access{n:02d}\"\n",
    "    scores = cyclescores[key][cyclescores[key] > 0]\n",
    "    print(f\"Accessibility cycle score {n:2d}: [{scores.min():.0f}, {scores.max():.0f}]\")"
   ]
  }
 ],
 "metadata": {
  "kernelspec": {
   "display_name": "Python 3",
   "language": "python",
   "name": "python3"
  },
  "language_info": {
   "codemirror_mode": {
    "name": "ipython",
    "version": 3
   },
   "file_extension": ".py",
   "mimetype": "text/x-python",
   "name": "python",
   "nbconvert_exporter": "python",
   "pygments_lexer": "ipython3",
   "version": "3.6.9"
  }
 },
 "nbformat": 4,
 "nbformat_minor": 5
}
